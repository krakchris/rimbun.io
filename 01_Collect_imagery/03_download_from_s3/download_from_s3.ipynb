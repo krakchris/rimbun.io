{
 "cells": [
  {
   "cell_type": "code",
   "execution_count": 29,
   "metadata": {},
   "outputs": [],
   "source": [
    "import boto3\n",
    "import os\n"
   ]
  },
  {
   "cell_type": "code",
   "execution_count": 30,
   "metadata": {},
   "outputs": [],
   "source": [
    "bucket = 'gcw-rimbunio-common-input-data-dev'\n",
    "\n",
    "prefix = 'input_data/source_data/worldview/Indonesia/'\n",
    "\n",
    "local = '../../data/source_data/'"
   ]
  },
  {
   "cell_type": "code",
   "execution_count": 21,
   "metadata": {},
   "outputs": [],
   "source": [
    "s3_resource = boto3.resource('s3')\n",
    "my_bucket = s3_resource.Bucket(bucket)\n",
    "objects = my_bucket.objects.filter(Prefix=prefix)"
   ]
  },
  {
   "cell_type": "code",
   "execution_count": null,
   "metadata": {},
   "outputs": [],
   "source": [
    "for obj in objects:\n",
    "    path, filename = os.path.split(obj.key)\n",
    "    \n",
    "    filename = local + filename\n",
    "    \n",
    "    my_bucket.download_file(obj.key, filename)\n",
    "    \n",
    "    print('done', filename)"
   ]
  }
 ],
 "metadata": {
  "kernelspec": {
   "display_name": "Python [conda env:GISpy_1] *",
   "language": "python",
   "name": "conda-env-GISpy_1-py"
  },
  "language_info": {
   "codemirror_mode": {
    "name": "ipython",
    "version": 3
   },
   "file_extension": ".py",
   "mimetype": "text/x-python",
   "name": "python",
   "nbconvert_exporter": "python",
   "pygments_lexer": "ipython3",
   "version": "3.7.6"
  }
 },
 "nbformat": 4,
 "nbformat_minor": 2
}
