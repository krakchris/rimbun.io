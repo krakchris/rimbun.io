{
 "cells": [
  {
   "cell_type": "code",
   "execution_count": 31,
   "metadata": {},
   "outputs": [],
   "source": [
    "# Use conda_python3 environment in Deep learning AMI\n",
    "# import helper functions \n",
    "\n",
    "# add helper function location\n",
    "import sys \n",
    "sys.path.append('../../functions')\n",
    "\n",
    "import helpers\n",
    "\n",
    "from importlib import reload  \n",
    "reload(helpers)\n",
    "\n",
    "#load packages\n",
    "import boto3\n",
    "import os\n",
    "from tqdm.notebook import tqdm"
   ]
  },
  {
   "cell_type": "code",
   "execution_count": 32,
   "metadata": {},
   "outputs": [],
   "source": [
    "# set parameters\n",
    "bucket = 'gcw-rimbunio-common-input-data-dev'\n",
    "\n",
    "prefix = 'input_data/source_data/worldview/water_bodies_osm/'\n",
    "\n",
    "local = '../../data/source_data/'"
   ]
  },
  {
   "cell_type": "code",
   "execution_count": 33,
   "metadata": {},
   "outputs": [
    {
     "name": "stdout",
     "output_type": "stream",
     "text": [
      "Directory  ../../data/source_data/  already exists...\n"
     ]
    }
   ],
   "source": [
    "# create download directory if it does not exist\n",
    "helpers.make_dir(local)"
   ]
  },
  {
   "cell_type": "code",
   "execution_count": 34,
   "metadata": {},
   "outputs": [],
   "source": [
    "# for authentication use 'aws configure' in command line\n",
    "# otherwise, check: https://boto3.amazonaws.com/v1/documentation/api/latest/guide/configuration.html"
   ]
  },
  {
   "cell_type": "code",
   "execution_count": 35,
   "metadata": {},
   "outputs": [],
   "source": [
    "s3_resource = boto3.resource('s3')\n",
    "my_bucket = s3_resource.Bucket(bucket)\n",
    "objects = my_bucket.objects.filter(Prefix=prefix)"
   ]
  },
  {
   "cell_type": "code",
   "execution_count": null,
   "metadata": {
    "scrolled": true
   },
   "outputs": [
    {
     "data": {
      "application/vnd.jupyter.widget-view+json": {
       "model_id": "a11f3be1f25040568c3d23854ce510b0",
       "version_major": 2,
       "version_minor": 0
      },
      "text/plain": [
       "HBox(children=(HTML(value=''), FloatProgress(value=0.0, max=520.0), HTML(value='')))"
      ]
     },
     "metadata": {},
     "output_type": "display_data"
    }
   ],
   "source": [
    "for obj in tqdm(objects, total = len([obj for obj in objects])):\n",
    "    \n",
    "    path, filename = os.path.split(obj.key)\n",
    "    \n",
    "    filename = local + filename\n",
    "    \n",
    "    my_bucket.download_file(obj.key, filename)\n"
   ]
  }
 ],
 "metadata": {
  "kernelspec": {
   "display_name": "Environment (conda_python3)",
   "language": "python",
   "name": "conda_python3"
  },
  "language_info": {
   "codemirror_mode": {
    "name": "ipython",
    "version": 3
   },
   "file_extension": ".py",
   "mimetype": "text/x-python",
   "name": "python",
   "nbconvert_exporter": "python",
   "pygments_lexer": "ipython3",
   "version": "3.6.5"
  }
 },
 "nbformat": 4,
 "nbformat_minor": 2
}
