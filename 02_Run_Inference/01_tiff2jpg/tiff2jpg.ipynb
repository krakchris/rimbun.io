{
 "cells": [
  {
   "cell_type": "markdown",
   "metadata": {},
   "source": [
    "# tiff2jpg Notebook\n",
    "\n",
    "This notebook will help us in achieving the followings:\n",
    "\n",
    "* It helps us in creating the different combinations of bands, indices or properties for the conversion of raster file into jpg format.\n",
    "* In Brief, it generates and save the jpg file converted from tif files.\n",
    "\n",
    "use the python3 environment in the EC2 Deep Learning AMI. Install tqdm, scikit-image, and rasterio"
   ]
  },
  {
   "cell_type": "markdown",
   "metadata": {},
   "source": [
    "# Importing The Libraries"
   ]
  },
  {
   "cell_type": "code",
   "execution_count": 40,
   "metadata": {},
   "outputs": [
    {
     "data": {
      "text/plain": [
       "<module 'helpers' from '../../functions/helpers.py'>"
      ]
     },
     "execution_count": 40,
     "metadata": {},
     "output_type": "execute_result"
    }
   ],
   "source": [
    "# import helper functions \n",
    "\n",
    "# add helper function location\n",
    "import sys \n",
    "sys.path.append('../../functions')\n",
    "\n",
    "from helpers import *\n",
    "\n",
    "from importlib import reload  \n",
    "reload(helpers)"
   ]
  },
  {
   "cell_type": "code",
   "execution_count": 41,
   "metadata": {},
   "outputs": [],
   "source": [
    "import glob\n",
    "\n",
    "from pprint import pprint\n",
    "\n",
    "import rasterio\n",
    "import matplotlib.pyplot as plt\n",
    "\n",
    "import numpy as np\n",
    "\n",
    "from skimage import exposure\n",
    "\n",
    "\n",
    "from skimage.io import imsave, imread\n",
    "\n",
    "import os\n",
    "\n",
    "from tqdm.notebook import tqdm\n",
    "\n"
   ]
  },
  {
   "cell_type": "markdown",
   "metadata": {},
   "source": [
    "# Getting The Different Combination Of Bands, Indices or Properties And Converting TIF File Into JPG Format."
   ]
  },
  {
   "cell_type": "code",
   "execution_count": 42,
   "metadata": {},
   "outputs": [],
   "source": [
    "# define test name \n",
    "test_name = 'nir_green_blue'\n",
    "\n",
    "test_folder = '../../data/' + test_name \n",
    "\n",
    "# define parameters\n",
    "output_path = test_folder + '/images/'\n",
    "\n",
    "# define paths with raster data\n",
    "rasters_file_path = '../../data/source_data/*.tif'\n",
    "\n",
    "# image specifics:\n",
    "band_list = [7,2,1]\n",
    "file_type = 'jpg' # jpg or png\n",
    "\n",
    "# misc\n",
    "plot_results = False"
   ]
  },
  {
   "cell_type": "code",
   "execution_count": 43,
   "metadata": {},
   "outputs": [
    {
     "name": "stdout",
     "output_type": "stream",
     "text": [
      "nr files found:  225\n"
     ]
    }
   ],
   "source": [
    "# find files in raster folder\n",
    "raster_files = glob.glob(rasters_file_path)\n",
    "\n",
    "print('nr files found: ', len(raster_files))"
   ]
  },
  {
   "cell_type": "code",
   "execution_count": 44,
   "metadata": {},
   "outputs": [
    {
     "name": "stdout",
     "output_type": "stream",
     "text": [
      "Directory  ../../data/nir_green_blue  already exists...\n",
      "Directory  ../../data/nir_green_blue/images/  already exists...\n"
     ]
    }
   ],
   "source": [
    "# create output directories if they do not exist\n",
    "make_dir(test_folder)\n",
    "make_dir(output_path)"
   ]
  },
  {
   "cell_type": "code",
   "execution_count": 45,
   "metadata": {
    "scrolled": true
   },
   "outputs": [
    {
     "data": {
      "application/vnd.jupyter.widget-view+json": {
       "model_id": "894b4544087a4196ad1f71c770deb17a",
       "version_major": 2,
       "version_minor": 0
      },
      "text/plain": [
       "HBox(children=(HTML(value=''), FloatProgress(value=0.0, max=225.0), HTML(value='')))"
      ]
     },
     "metadata": {},
     "output_type": "display_data"
    },
    {
     "name": "stderr",
     "output_type": "stream",
     "text": [
      "/home/ubuntu/anaconda3/envs/python3/lib/python3.6/site-packages/skimage/util/dtype.py:122: UserWarning: Possible precision loss when converting from float32 to uint8\n",
      "  .format(dtypeobj_in, dtypeobj_out))\n"
     ]
    },
    {
     "name": "stdout",
     "output_type": "stream",
     "text": [
      "\n"
     ]
    }
   ],
   "source": [
    "# loop over all files and write them to output folder\n",
    "for raster_file in tqdm(raster_files):\n",
    "\n",
    "    dataset = rasterio.open(raster_file)\n",
    "    \n",
    "    # read and reformat raster data\n",
    "    img = dataset.read()\n",
    "    bands, x, y = img.shape\n",
    "    \n",
    "    coastal = img[0].astype(np.float32)\n",
    "    blue = img[1].astype(np.float32)\n",
    "    green = img[2].astype(np.float32)\n",
    "    red = img[4].astype(np.float32)\n",
    "    red_edge = img[5].astype(np.float32)\n",
    "    nir1 = img[6].astype(np.float32)\n",
    "    nir2 = img[7].astype(np.float32)\n",
    "    \n",
    "    ndvi = reshape((nir1 - red)/(nir1 + red + 10e-5))\n",
    "    ndwi = reshape((green - nir1) / (green + nir1 + 10e-5))\n",
    "    wwi = reshape((coastal - nir2) / (coastal + nir2 + 10e-5))\n",
    "    ccci = reshape((nir2 - red) / (nir2 + red + 10e-5))\n",
    "    \n",
    "    # use when we are combining bands or indices\n",
    "    jpg = np.zeros((x,y,3))\n",
    "    jpg[...,0] = ndwi\n",
    "    jpg[...,1] = wwi\n",
    "    jpg[...,2] = ccci\n",
    "    \n",
    "    # get image_id from filename\n",
    "    stringlist = raster_file.split('/')[-1].split('_')\n",
    "#     print(stringlist)\n",
    "#     image_id = stringlist[-3]\n",
    "    image_id = stringlist[-1].replace('.tif','')\n",
    "\n",
    "    # get metadata \n",
    "#     record = gbdx.catalog.get(image_id)\n",
    "#     offNadirAngle = record['properties']['offNadirAngle']\n",
    "#     sunAzimuth = record['properties']['sunAzimuth']\n",
    "    \n",
    "    # used when we are enhancing the image as well as using the properties\n",
    "    img_plot_raw = img[band_list,:,:]\n",
    "#     img_plot_raw[0,:,:] = wwi\n",
    "#     img_plot_raw[1,:,:] = offNadirAngle\n",
    "#     img_plot_raw[2,:,:] = sunAzimuth\n",
    "    img_plot = np.rot90(np.fliplr(img_plot_raw.T))\n",
    "    \n",
    "    # correct exposure for each band individually\n",
    "    img_plot_enhance = np.array(img_plot, copy=True)\n",
    "    \n",
    "    \n",
    "#     for band in range(3):\n",
    "        \n",
    "#         # check max amount of a single value\n",
    "#         max_count_single_value = np.max(np.unique(img_plot, return_counts=True)[1])\n",
    "        \n",
    "#         # if there are more than specific values set them as nan\n",
    "#         if max_count_single_value > max_single_value_count:\n",
    "#             no_data_value = img_plot.flatten()[np.argmax(np.unique(img_plot, return_counts=True)[1])]\n",
    "#             img_plot[img_plot == no_data_value] = np.nan \n",
    "            \n",
    "#         p_1, p_2 = np.nanpercentile(img_plot[:,:,band], (lower_percentile, upper_percentile))\n",
    "#         img_plot_enhance[:,:,band] = exposure.rescale_intensity(img_plot[:,:,band], \n",
    "#                                                             in_range=(p_1, p_2), \n",
    "#                                                             out_range = 'uint8')  \n",
    "  \n",
    "\n",
    "    img_plot_enhance = exposure.rescale_intensity(img_plot.T, \n",
    "                                                            in_range=(0,9000), \n",
    "                                                            out_range = (0,3))\n",
    "    \n",
    "    img_plot_enhance[img_plot_enhance>1] = 1\n",
    "    \n",
    "    img_plot_enhance = img_plot_enhance.T\n",
    "    \n",
    "    # name string \n",
    "    orig_file_name = raster_file.split('/')[-1].split('.')[0]\n",
    "    \n",
    "    # write jpg file\n",
    "    file_path_jpg = '{0}{1}.{2}'.format(output_path,orig_file_name, file_type)\n",
    "    file_name_jpg = 'example_{0}.{1}'.format(orig_file_name, file_type)\n",
    "    imsave(file_path_jpg, img_plot_enhance)\n",
    "    \n",
    "    \n",
    "    if plot_results:\n",
    "        plt.imshow(img_plot_enhance)\n",
    "        plt.title('Band used as [red, green, blue]: {}'.format(band_list))\n",
    "        plt.show()\n",
    "        \n",
    "        print('--------------------------------------------')\n",
    "        print('original file: \\n', raster_file)\n",
    "        print('--------------------------------------------')\n",
    "        print('file written to: \\n', file_path_jpg)\n",
    "        print('--------------------------------------------')"
   ]
  },
  {
   "cell_type": "code",
   "execution_count": null,
   "metadata": {},
   "outputs": [],
   "source": []
  }
 ],
 "metadata": {
  "kernelspec": {
   "display_name": "Environment (conda_python3)",
   "language": "python",
   "name": "conda_python3"
  },
  "language_info": {
   "codemirror_mode": {
    "name": "ipython",
    "version": 3
   },
   "file_extension": ".py",
   "mimetype": "text/x-python",
   "name": "python",
   "nbconvert_exporter": "python",
   "pygments_lexer": "ipython3",
   "version": "3.6.5"
  }
 },
 "nbformat": 4,
 "nbformat_minor": 2
}
