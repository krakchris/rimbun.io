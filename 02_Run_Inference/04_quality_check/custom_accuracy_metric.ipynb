{
 "cells": [
  {
   "cell_type": "markdown",
   "metadata": {},
   "source": [
    "\n",
    "# Notebook to check custom accuracy metric for water delineation\n",
    "\n",
    "Steps: \n",
    "\n",
    "1. Create and vectorize classification\n",
    "    - load inference raster\n",
    "    - filter and clean inference\n",
    "    - vectorize\n",
    "    - write to .shp file\n",
    "2. load hand annotation\n",
    "3. project classification and annotation to calculate metric and apply buffer\n",
    "    - both inputs should be wgs84 epsg:4326\n",
    "4. check recall and precision of classification result\n"
   ]
  },
  {
   "cell_type": "code",
   "execution_count": 4,
   "metadata": {
    "scrolled": true
   },
   "outputs": [],
   "source": [
    "# set parameters:\n",
    "annotation_error = 0.0 # know geolocation error of annotation dataset\n",
    "buffer_size = 4.5      # accuracy treshold in meters \n",
    "\n",
    "# recalculate buffer zone by adding the annotation geolocation error\n",
    "buffer_size = buffer_size - annotation_error"
   ]
  },
  {
   "cell_type": "markdown",
   "metadata": {},
   "source": [
    "## 1. Create and vectorize classification"
   ]
  },
  {
   "cell_type": "code",
   "execution_count": 5,
   "metadata": {},
   "outputs": [],
   "source": [
    "from skimage import filters, morphology\n",
    "from rasterio import features \n",
    "from shapely.geometry import shape, Point\n",
    "from shapely import geometry\n",
    "import itertools\n",
    "\n",
    "import numpy as np\n",
    "import cv2 as cv\n",
    "\n",
    "import matplotlib.pyplot as plt\n",
    "\n",
    "import shapely.ops as ops\n",
    "import random\n",
    "\n",
    "import rasterio \n",
    "import glob\n",
    "\n",
    "from pprint import pprint\n",
    "\n",
    "from shapely.ops import cascaded_union\n",
    "\n",
    "import geopandas as gpd\n",
    "\n",
    "from skimage import exposure\n",
    "from skimage.io import imsave, imread\n",
    "\n",
    "from tqdm.notebook import tqdm\n",
    "\n",
    "%matplotlib inline\n"
   ]
  },
  {
   "cell_type": "code",
   "execution_count": 6,
   "metadata": {},
   "outputs": [],
   "source": [
    "# helper functions\n",
    "\n",
    "def wgs2epsg(x,y):\n",
    "    EPSG = int(32700-round((45+y)/90,0)*100+round((183+x)/6,0))\n",
    "    UTM_EPSG_code = EPSG\n",
    "    \n",
    "    return UTM_EPSG_code\n",
    "\n",
    "# \n",
    "buffer_size = buffer_size - annotation_error \n",
    "def array_to_linestrings(array, mask, affine):\n",
    "    \n",
    "    if np.all(mask) == True:\n",
    "        final_lines = []\n",
    "    else:\n",
    "        # Convert the array to polygon geometries\n",
    "        polygon_generator = features.shapes(array.astype('uint8'), mask=array, transform=affine)\n",
    "        # Extract out the individual polygons, fixing any invald geometries using buffer(0)\n",
    "        polygons = [shape(g).buffer(0) for g,v in polygon_generator]\n",
    "\n",
    "        # Next, build up a binary array representing the outer boundary of the input array\n",
    "        boundary_array = np.ones(array.shape)    \n",
    "\n",
    "        # Convert the boundary to a polygon too\n",
    "        boundary_generator = features.shapes(boundary_array.astype('uint8'), transform=affine)\n",
    "        boundary = [shape(g) for g,v in boundary_generator][0]\n",
    "\n",
    "        # Convert the mask to a polygon too\n",
    "        if mask is not None:\n",
    "            \n",
    "            mask_generator = features.shapes(mask.astype('uint8'), \n",
    "                                             mask= mask > 0,\n",
    "                                             transform=affine)\n",
    "            mask_boundary = [shape(g).buffer(0) for g,v in mask_generator][0]\n",
    "\n",
    "        # Convert the array polygons to linestrings\n",
    "        exterior_rings = [g.exterior for g in polygons]\n",
    "        interior_rings = list(itertools.chain.from_iterable([[i for i in g.interiors] for g in polygons if len(g.interiors) > 0]))\n",
    "        all_rings =  exterior_rings + interior_rings \n",
    "\n",
    "        # Erase both the image boundary and the mask boundary from the extracted Linestrings\n",
    "        erased_lines = all_rings #[g.difference(boundary.exterior).difference(mask_boundary.exterior) for g in all_rings]\n",
    "        singlepart_lines = [list(g) if type(g) == geometry.multilinestring.MultiLineString else [g] for g in erased_lines ]\n",
    "        final_lines = list(itertools.chain(*singlepart_lines))\n",
    "\n",
    "    return final_lines \n",
    "\n",
    "def check_valid_geometries(shapefile_path):\n",
    "    \n",
    "    shape_list = []\n",
    "    \n",
    "    if fiona.open(shapefile_path).crs['init'] != 'epsg:4326':\n",
    "        print('crs is not epsg:4326, skipping...')\n",
    "        \n",
    "        crs_check = False\n",
    "    else:\n",
    "        crs_check = True\n",
    "        \n",
    "        \n",
    "\n",
    "    for pol in fiona.open(shapefile_path):\n",
    "        if pol['geometry'] != None:\n",
    "                shape_list.append(pol)\n",
    "            \n",
    "    return shape_list, crs_check\n",
    "\n",
    "def rgb_from_raster(data, brightness):\n",
    "    \n",
    "    bands, x, y = data.shape\n",
    "    \n",
    "    # create plottable image\n",
    "    brightness = 0.3\n",
    "    blue = data[1].astype(np.float32)\n",
    "    green = data[2].astype(np.float32)\n",
    "    red = data[4].astype(np.float32)\n",
    "    rgb = np.zeros((x,y,3))\n",
    "    rgb[...,0] = red\n",
    "    rgb[...,1] = green\n",
    "    rgb[...,2] = blue\n",
    "    rgb = rgb - np.min(rgb)\n",
    "    rgb = rgb / np.maximum(np.max(rgb), 1) + brightness\n",
    "    \n",
    "    if rgb.mean() > 1:\n",
    "        rgb[rgb > 255] = 255\n",
    "    else: \n",
    "        rgb[rgb > 1] = 1\n",
    "    \n",
    "    return rgb"
   ]
  },
  {
   "cell_type": "markdown",
   "metadata": {},
   "source": [
    "## Filter and clean inference results"
   ]
  },
  {
   "cell_type": "markdown",
   "metadata": {},
   "source": [
    "## Vectorize cleaned inference results"
   ]
  },
  {
   "cell_type": "markdown",
   "metadata": {},
   "source": [
    "# apply function to measure custom metric"
   ]
  },
  {
   "cell_type": "code",
   "execution_count": 7,
   "metadata": {},
   "outputs": [],
   "source": [
    "import warnings\n",
    "warnings.filterwarnings('ignore')"
   ]
  },
  {
   "cell_type": "code",
   "execution_count": 14,
   "metadata": {},
   "outputs": [],
   "source": [
    "from shapely.ops import transform\n",
    "from shapely import ops\n",
    "from functools import partial\n",
    "import pyproj\n",
    "\n",
    "from shapely.ops import cascaded_union, unary_union\n",
    "from shapely.affinity import translate\n",
    "import fiona\n",
    "\n",
    "def custom_metric_calculation(base_name, \n",
    "                              raster_data, \n",
    "                              inference_wgs_shp, \n",
    "                              annotation_wgs_shp,\n",
    "                              buffer_size,\n",
    "                              verbose = 0):\n",
    "\n",
    "    #### load data ##### \n",
    "    \n",
    "\n",
    "    # convert list to shapely MultiPolgyons (in wgs84)\n",
    "    prediction_wgs = inference_wgs_shp\n",
    "    \n",
    "    \n",
    "\n",
    "    # convert list to shapely MultiPolgyons (in wgs84)\n",
    "    annotation_wgs = annotation_wgs_shp\n",
    "\n",
    "    # check dataformat to apply conversion \n",
    "    print(annotation_wgs.type)\n",
    "    \n",
    "    if annotation_wgs.type == 'MultiLineString':\n",
    "        annotation_wgs_exterior = unary_union([poly for poly in annotation_wgs])\n",
    "    elif annotation_wgs.type == 'MultiPolygon': \n",
    "        annotation_wgs_exterior = unary_union([poly.exterior for poly in annotation_wgs])\n",
    "    elif annotation_wgs.type == 'Polygon':\n",
    "        annotation_wgs_exterior = annotation_wgs.exterior\n",
    "    else:\n",
    "        annotation_wgs_exterior = unary_union([poly.exterior for poly in annotation_wgs])\n",
    "        \n",
    "        \n",
    "    # check dataformat to apply conversion \n",
    "    if prediction_wgs.type == 'MultiLineString':\n",
    "        prediction_wgs_exterior = unary_union([poly for poly in prediction_wgs])\n",
    "    elif prediction_wgs.type == 'Polygon':\n",
    "        prediction_wgs_exterior = prediction_wgs.exterior\n",
    "    else: \n",
    "        prediction_wgs_exterior = unary_union([poly.exterior for poly in prediction_wgs])\n",
    "    \n",
    "    ### create projections\n",
    "    \n",
    "    # get vector projection \n",
    "    x,y  = prediction_wgs.centroid.xy\n",
    "\n",
    "    epsg = wgs2epsg(x[0], y[0])\n",
    "\n",
    "    #  EPSG:32748 is also known as WGS 84 / UTM zone 48S\n",
    "\n",
    "    # set projections\n",
    "    project_wgs2utm = partial(\n",
    "        pyproj.transform,\n",
    "        pyproj.Proj(init='epsg:4326'),\n",
    "        pyproj.Proj(init='epsg:{}'.format(epsg)))\n",
    "\n",
    "    project_utm2wgs = partial(\n",
    "        pyproj.transform,\n",
    "        pyproj.Proj(init='epsg:{}'.format(epsg)), # from\n",
    "        pyproj.Proj(init='epsg:4326'))            # to\n",
    "\n",
    "\n",
    "    ### apply offset\n",
    "    \n",
    "    # sometimes a correction for geolocation inaccuracies is needed\n",
    "    x_offset =  0\n",
    "    y_offset =  0\n",
    "    prediction_wgs = translate(prediction_wgs,xoff = x_offset, yoff = y_offset, zoff=0.0)\n",
    "    \n",
    "    ### project and apply buffer \n",
    "    \n",
    "    # transform input data to projected coordinate system\n",
    "    prediction_utm = transform(project_wgs2utm, prediction_wgs)\n",
    "    \n",
    "#     if len(prediction_utm) > 1:\n",
    "#         prediction_utm_list = []\n",
    "#         for poly in prediction_utm:\n",
    "            \n",
    "#             poly_boundary \n",
    "#             prediction_utm_list\n",
    "            \n",
    "\n",
    "    # create polygon by applying buffer zone and convert back to wgs84\n",
    "    prediction_utm_buffer = prediction_utm.boundary.buffer(buffer_size)\n",
    "    prediction_wgs_buffer_zone = transform(project_utm2wgs, prediction_utm_buffer)\n",
    "\n",
    "    # get all necessary shapes\n",
    "    annotation_utm_exterior = transform(project_wgs2utm, annotation_wgs_exterior)\n",
    "    annotation_utm_buffer_zone = annotation_utm_exterior.buffer(buffer_size)\n",
    "    annotation_wgs_buffer_zone = transform(project_utm2wgs, annotation_utm_buffer_zone)\n",
    "\n",
    "    ### calculate metrics\n",
    "   \n",
    "    # calculate Recall \n",
    "    total_length_annotation = annotation_wgs_exterior.length\n",
    "    length_overlap_prediction_annotation = prediction_wgs_buffer_zone.intersection(annotation_wgs_exterior).length\n",
    "    \n",
    "    if total_length_annotation == 0:\n",
    "        Recall = 0\n",
    "    else:\n",
    "        Recall = round(length_overlap_prediction_annotation / total_length_annotation,3)\n",
    "\n",
    "    # calculate Precision\n",
    "    total_length_prediction = prediction_wgs.length\n",
    "    length_overlap_detection_annotation = annotation_wgs_buffer_zone.intersection(prediction_wgs_exterior).length\n",
    "    \n",
    "    if total_length_prediction == 0:\n",
    "        Precision = 0\n",
    "    else:\n",
    "        Precision = round(length_overlap_detection_annotation / total_length_prediction,3)\n",
    "        \n",
    "        \n",
    "    if verbose > 0:\n",
    "        fig = plt.figure(figsize = (10,10))\n",
    "\n",
    "        left, bottom, right, top = raster_data.bounds\n",
    "        \n",
    "        left, bottom = transform(project_wgs2utm, Point(left,bottom)).xy\n",
    "        right, top = transform(project_wgs2utm, Point(right, top)).xy\n",
    "        \n",
    "        print(left, bottom)\n",
    "            \n",
    "        raster_rgb = rgb_from_raster(raster_data.read(), 0.0)\n",
    "        \n",
    "        plt.imshow(raster_rgb, extent = (left[0], right[0], bottom[0], top[0]))\n",
    "\n",
    "        try:\n",
    "            for item in prediction_utm.boundary:\n",
    "                x,y = item.xy\n",
    "                plt.plot(x,y, color = 'red')\n",
    "        except Exception as e:\n",
    "            print(e)\n",
    "            x,y = prediction_utm.boundary.xy\n",
    "            plt.plot(x,y, color = 'red')\n",
    "            \n",
    "        try:\n",
    "            for item in annotation_utm_buffer_zone.boundary:\n",
    "                x,y = item.xy\n",
    "                plt.plot(x,y, color = 'lightgreen', alpha = 0.5) \n",
    "        except Exception as e:\n",
    "            print(e)\n",
    "        \n",
    "        try:\n",
    "            for item in annotation_utm_buffer_zone.intersection(prediction_utm.boundary): \n",
    "                x,y = item.xy\n",
    "                plt.plot(x,y, color = 'b') \n",
    "        except Exception as e:\n",
    "            print(e)\n",
    "\n",
    "        print_text = 'Precision: {} % \\n Recall: {} %'.format(round(Precision * 100,3), \n",
    "                                                              round(Recall    * 100,3))\n",
    "        \n",
    "        plt.text(np.array(right).astype(float)-10, \n",
    "                 np.array(top).astype(float)-10, \n",
    "                 print_text, size=12, ha=\"right\", va=\"top\", color = 'w')\n",
    "        \n",
    "        plt.title(base_name)\n",
    "        plt.xlabel('utm x coordinate (m)')\n",
    "        plt.ylabel('utm y coordinate (m)')\n",
    "        plt.axis('equal')\n",
    "        plt.show()\n",
    "        \n",
    "#     image_save_path = \"../../data/rasters_waterbodies_osm/cities/scale_test_v1/images/{}_result_image.png\".format(base_name)\n",
    "#     fig.savefig(image_save_path)\n",
    "    \n",
    "    \n",
    "    return Precision, Recall"
   ]
  },
  {
   "cell_type": "markdown",
   "metadata": {},
   "source": [
    "## Load annotation"
   ]
  },
  {
   "cell_type": "code",
   "execution_count": 17,
   "metadata": {},
   "outputs": [
    {
     "name": "stdout",
     "output_type": "stream",
     "text": [
      "157\n"
     ]
    },
    {
     "data": {
      "text/plain": [
       "['../../data/hand_annotations/water_annotations/Jakarta_199_pansharpen_True_2019-08-11_03:17_103001009861DE00_05-18-2020_08:55:26.shp',\n",
       " '../../data/hand_annotations/water_annotations/Jakarta_255_pansharpen_True_2019-07-23_03:16_1030010096702700_05-18-2020_08:55:26.shp',\n",
       " '../../data/hand_annotations/water_annotations/Balikpapan_025_pansharpen_True_2019-03-10_02:44_103001008BD5FD00_05-18-2020_08:55:26.shp']"
      ]
     },
     "execution_count": 17,
     "metadata": {},
     "output_type": "execute_result"
    }
   ],
   "source": [
    "# plot logging and results:\n",
    "\n",
    "verbose = 0\n",
    "\n",
    "# annotations\n",
    "annotation_shapes_path = '../../data/hand_annotations/water_annotations/*.shp'# .format(name)\n",
    "\n",
    "# find files in shapefile folder\n",
    "annotation_shape_files = glob.glob(annotation_shapes_path)\n",
    "\n",
    "print(len(annotation_shape_files))\n",
    "annotation_shape_files[0:3] # = annotation_shape_files[0]\n",
    "\n"
   ]
  },
  {
   "cell_type": "code",
   "execution_count": null,
   "metadata": {
    "scrolled": true
   },
   "outputs": [
    {
     "data": {
      "application/vnd.jupyter.widget-view+json": {
       "model_id": "3ffc65a1e7a240818254e7bf607d730b",
       "version_major": 2,
       "version_minor": 0
      },
      "text/plain": [
       "HBox(children=(HTML(value=''), FloatProgress(value=0.0, max=157.0), HTML(value='')))"
      ]
     },
     "metadata": {},
     "output_type": "display_data"
    },
    {
     "name": "stdout",
     "output_type": "stream",
     "text": [
      "Jakarta_199\n",
      "MultiPolygon\n",
      "Recall    @ 4.5m is 96.3%\n",
      "Precision @ 4.5m is 64.6%\n",
      "Jakarta_255\n",
      "MultiPolygon\n",
      "Recall    @ 4.5m is 87.8%\n",
      "Precision @ 4.5m is 92.0%\n",
      "Balikpapan_025\n",
      "MultiPolygon\n",
      "Recall    @ 4.5m is 87.2%\n",
      "Precision @ 4.5m is 77.2%\n",
      "Jakarta_528\n",
      "list index out of range\n",
      "no matching inference found, skipping...\n",
      "Medan_059\n",
      "MultiPolygon\n",
      "Recall    @ 4.5m is 75.3%\n",
      "Precision @ 4.5m is 97.3%\n",
      "Jakarta_258\n",
      "MultiPolygon\n"
     ]
    }
   ],
   "source": [
    "\n",
    "\n",
    "Precision_log = []\n",
    "Recall_log = []\n",
    "\n",
    "annotation_shape_files_cleaned = []\n",
    "\n",
    "for annotation_file_path in tqdm(annotation_shape_files):\n",
    "\n",
    "\n",
    "    base_name = '_'.join(annotation_file_path.split('/')[-1].split('_')[0:2])   # name of datasets to match\n",
    "    print(base_name)\n",
    "\n",
    "    \n",
    "    # convert esri shapefiles to shapely objects\n",
    "    # check valid geometries\n",
    "    annotation_valid_shape_list, crs_check = check_valid_geometries(annotation_file_path)\n",
    "    \n",
    "    if not crs_check:\n",
    "        print('crs not epsg:4623, skipping...')\n",
    "        continue\n",
    "\n",
    "    # convert list to shapely MultiPolgyons (in wgs84)\n",
    "    annotation_wgs_shp = unary_union([shape(pol['geometry']) for pol in annotation_valid_shape_list])\n",
    "    \n",
    "    inference_match_path = \"../../data/nir_green_blue/vectors/{}*.geojson\".format(base_name)\n",
    "    # find inference file in folder\n",
    "    \n",
    "    plt.figure(figsize = (10,10))\n",
    "    \n",
    "    \n",
    "    try:\n",
    "        inference_shape_files = glob.glob(inference_match_path)\n",
    "        inference_file_path = inference_shape_files[0]\n",
    "        df = gpd.read_file(inference_file_path)\n",
    "        inference_wgs_shp = cascaded_union([shape(poly) for poly in df.geometry])\n",
    "   \n",
    "    except Exception as e:\n",
    "        print(e)\n",
    "        print('no matching inference found, skipping...')\n",
    "        continue\n",
    "    \n",
    "    \n",
    "    source_data_match_path = \"../../data/source_data/{}*.tif\".format(base_name)\n",
    "    \n",
    "    try:\n",
    "        raster_shape_files = glob.glob(source_data_match_path)\n",
    "        raster_file_path = raster_shape_files[0]\n",
    "        \n",
    "        raster_data = rasterio.open(raster_file_path)\n",
    "            \n",
    "    except Exception as e:\n",
    "        print(e)\n",
    "\n",
    "    if verbose > 0:\n",
    "        print(annotation_file_path)\n",
    "        print(inference_file_path)\n",
    "\n",
    "    Precision, Recall = custom_metric_calculation(base_name, \n",
    "                                                  raster_data,\n",
    "                                                  inference_wgs_shp,\n",
    "                                                  annotation_wgs_shp,\n",
    "                                                  buffer_size,\n",
    "                                                  verbose)\n",
    " \n",
    "\n",
    "    \n",
    "    print('Recall    @ {}m is {}%'.format(buffer_size, round(Recall * 100,3)))\n",
    "    print('Precision @ {}m is {}%'.format(buffer_size, round(Precision * 100,3)))\n",
    "    \n",
    "    if Precision < 0.5 or Recall < 0.5:\n",
    "        remove = 'n' #input('remove? y/n')\n",
    "    else:\n",
    "        remove = 'n'\n",
    "    \n",
    "    if remove is not 'y':\n",
    "        annotation_shape_files_cleaned.append(annotation_file_path)\n",
    "        \n",
    "    if remove is not 'y':\n",
    "        Precision_log.append(Precision)\n",
    "        Recall_log.append(Recall)\n",
    "\n"
   ]
  },
  {
   "cell_type": "code",
   "execution_count": 1,
   "metadata": {},
   "outputs": [
    {
     "ename": "NameError",
     "evalue": "name 'base_name' is not defined",
     "output_type": "error",
     "traceback": [
      "\u001b[0;31m---------------------------------------------------------------------------\u001b[0m",
      "\u001b[0;31mNameError\u001b[0m                                 Traceback (most recent call last)",
      "\u001b[0;32m<ipython-input-1-6eb2df37f885>\u001b[0m in \u001b[0;36m<module>\u001b[0;34m()\u001b[0m\n\u001b[0;32m----> 1\u001b[0;31m \u001b[0mbase_name\u001b[0m\u001b[0;34m\u001b[0m\u001b[0m\n\u001b[0m",
      "\u001b[0;31mNameError\u001b[0m: name 'base_name' is not defined"
     ]
    }
   ],
   "source": [
    "base_name"
   ]
  },
  {
   "cell_type": "code",
   "execution_count": 16,
   "metadata": {},
   "outputs": [
    {
     "data": {
      "text/plain": [
       "0"
      ]
     },
     "execution_count": 16,
     "metadata": {},
     "output_type": "execute_result"
    }
   ],
   "source": [
    "len(Recall_log)"
   ]
  },
  {
   "cell_type": "code",
   "execution_count": 17,
   "metadata": {},
   "outputs": [
    {
     "name": "stdout",
     "output_type": "stream",
     "text": [
      "average recall:  nan \n",
      "average precision:  nan\n"
     ]
    }
   ],
   "source": [
    "average_recall = round(np.average(np.array(Recall_log)[np.argwhere([selection > 0 for selection in Recall_log])]), 4)\n",
    "average_precision = round(np.average(np.array(Precision_log)[np.argwhere([selection > 0 for selection in Precision_log])]),4)\n",
    "\n",
    "print('average recall: ', average_recall, '\\naverage precision: ', average_precision)"
   ]
  },
  {
   "cell_type": "code",
   "execution_count": 25,
   "metadata": {},
   "outputs": [
    {
     "data": {
      "text/plain": [
       "(array([  1.,   0.,   1.,   0.,   1.,   3.,   2.,   5.,   6., 107.]),\n",
       " array([0.114 , 0.2026, 0.2912, 0.3798, 0.4684, 0.557 , 0.6456, 0.7342,\n",
       "        0.8228, 0.9114, 1.    ]),\n",
       " <a list of 10 Patch objects>)"
      ]
     },
     "execution_count": 25,
     "metadata": {},
     "output_type": "execute_result"
    },
    {
     "data": {
      "image/png": "[encoded data removed]",
      "text/plain": [
       "<Figure size 432x288 with 1 Axes>"
      ]
     },
     "metadata": {
      "needs_background": "light"
     },
     "output_type": "display_data"
    }
   ],
   "source": [
    "plt.hist(np.array(Precision_log)[np.argwhere([selection > 0 for selection in Precision_log])])"
   ]
  },
  {
   "cell_type": "code",
   "execution_count": 26,
   "metadata": {},
   "outputs": [
    {
     "data": {
      "text/plain": [
       "(array([ 2.,  1.,  2.,  0.,  4.,  1.,  3.,  4., 18., 91.]),\n",
       " array([0.277 , 0.3493, 0.4216, 0.4939, 0.5662, 0.6385, 0.7108, 0.7831,\n",
       "        0.8554, 0.9277, 1.    ]),\n",
       " <a list of 10 Patch objects>)"
      ]
     },
     "execution_count": 26,
     "metadata": {},
     "output_type": "execute_result"
    },
    {
     "data": {
      "image/png": "[encoded data removed]",
      "text/plain": [
       "<Figure size 432x288 with 1 Axes>"
      ]
     },
     "metadata": {
      "needs_background": "light"
     },
     "output_type": "display_data"
    }
   ],
   "source": [
    "plt.hist(np.array(Recall_log)[np.argwhere([selection > 0 for selection in Recall_log])])"
   ]
  },
  {
   "cell_type": "code",
   "execution_count": 36,
   "metadata": {},
   "outputs": [
    {
     "data": {
      "text/plain": [
       "148"
      ]
     },
     "execution_count": 36,
     "metadata": {},
     "output_type": "execute_result"
    }
   ],
   "source": [
    "len(Recall_log)"
   ]
  },
  {
   "cell_type": "code",
   "execution_count": null,
   "metadata": {
    "collapsed": true
   },
   "outputs": [],
   "source": []
  }
 ],
 "metadata": {
  "kernelspec": {
   "display_name": "Environment (conda_python3)",
   "language": "python",
   "name": "conda_python3"
  },
  "language_info": {
   "codemirror_mode": {
    "name": "ipython",
    "version": 3
   },
   "file_extension": ".py",
   "mimetype": "text/x-python",
   "name": "python",
   "nbconvert_exporter": "python",
   "pygments_lexer": "ipython3",
   "version": "3.6.5"
  }
 },
 "nbformat": 4,
 "nbformat_minor": 4
}
