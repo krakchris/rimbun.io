{
 "cells": [
  {
   "cell_type": "markdown",
   "metadata": {},
   "source": [
    "\n",
    "# Notebook to check custom accuracy metric for water delineation\n",
    "\n",
    "Steps: \n",
    "\n",
    "1. Create and vectorize classification\n",
    "    - load inference raster\n",
    "    - filter and clean inference\n",
    "    - vectorize\n",
    "    - write to .shp file\n",
    "2. load hand annotation\n",
    "3. project classification and annotation to calculate metric and apply buffer\n",
    "    - both inputs should be wgs84 epsg:4326\n",
    "4. check recall and precision of classification result\n"
   ]
  },
  {
   "cell_type": "code",
   "execution_count": 1,
   "metadata": {
    "scrolled": true
   },
   "outputs": [],
   "source": [
    "# set parameters:\n",
    "annotation_error = 0.0 # know geolocation error of annotation dataset\n",
    "buffer_size = 4.5      # accuracy treshold in meters \n",
    "\n",
    "# recalculate buffer zone by adding the annotation geolocation error\n",
    "buffer_size = buffer_size - annotation_error"
   ]
  },
  {
   "cell_type": "markdown",
   "metadata": {},
   "source": [
    "## 1. Create and vectorize classification"
   ]
  },
  {
   "cell_type": "code",
   "execution_count": 2,
   "metadata": {},
   "outputs": [],
   "source": [
    "from skimage import filters, morphology\n",
    "from rasterio import features \n",
    "from shapely.geometry import shape, Point\n",
    "from shapely import geometry\n",
    "import itertools\n",
    "\n",
    "import numpy as np\n",
    "import cv2 as cv\n",
    "\n",
    "import matplotlib.pyplot as plt\n",
    "\n",
    "import shapely.ops as ops\n",
    "import random\n",
    "\n",
    "import rasterio \n",
    "import glob\n",
    "\n",
    "from pprint import pprint\n",
    "\n",
    "from shapely.ops import cascaded_union\n",
    "\n",
    "import geopandas as gpd\n",
    "\n",
    "from skimage import exposure\n",
    "from skimage.io import imsave, imread\n",
    "\n",
    "from tqdm.notebook import tqdm\n",
    "\n",
    "%matplotlib inline\n"
   ]
  },
  {
   "cell_type": "code",
   "execution_count": 6,
   "metadata": {},
   "outputs": [],
   "source": [
    "# helper functions\n",
    " \n",
    "def array_to_linestrings(array, mask, affine):\n",
    "    \n",
    "    if np.all(mask) == True:\n",
    "        final_lines = []\n",
    "    else:\n",
    "        # Convert the array to polygon geometries\n",
    "        polygon_generator = features.shapes(array.astype('uint8'), mask=array, transform=affine)\n",
    "        # Extract out the individual polygons, fixing any invald geometries using buffer(0)\n",
    "        polygons = [shape(g).buffer(0) for g,v in polygon_generator]\n",
    "\n",
    "        # Next, build up a binary array representing the outer boundary of the input array\n",
    "        boundary_array = np.ones(array.shape)    \n",
    "\n",
    "        # Convert the boundary to a polygon too\n",
    "        boundary_generator = features.shapes(boundary_array.astype('uint8'), transform=affine)\n",
    "        boundary = [shape(g) for g,v in boundary_generator][0]\n",
    "\n",
    "        # Convert the mask to a polygon too\n",
    "        if mask is not None:\n",
    "            \n",
    "            mask_generator = features.shapes(mask.astype('uint8'), \n",
    "                                             mask= mask > 0,\n",
    "                                             transform=affine)\n",
    "            mask_boundary = [shape(g).buffer(0) for g,v in mask_generator][0]\n",
    "\n",
    "        # Convert the array polygons to linestrings\n",
    "        exterior_rings = [g.exterior for g in polygons]\n",
    "        interior_rings = list(itertools.chain.from_iterable([[i for i in g.interiors] for g in polygons if len(g.interiors) > 0]))\n",
    "        all_rings =  exterior_rings + interior_rings \n",
    "\n",
    "        # Erase both the image boundary and the mask boundary from the extracted Linestrings\n",
    "        erased_lines = all_rings #[g.difference(boundary.exterior).difference(mask_boundary.exterior) for g in all_rings]\n",
    "        singlepart_lines = [list(g) if type(g) == geometry.multilinestring.MultiLineString else [g] for g in erased_lines ]\n",
    "        final_lines = list(itertools.chain(*singlepart_lines))\n",
    "\n",
    "    return final_lines \n",
    "\n",
    "\n",
    "def rgb_from_raster(data, brightness):\n",
    "    \n",
    "    bands, x, y = data.shape\n",
    "    \n",
    "    # create plottable image\n",
    "    brightness = 0.3\n",
    "    blue = data[1].astype(np.float32)\n",
    "    green = data[2].astype(np.float32)\n",
    "    red = data[4].astype(np.float32)\n",
    "    rgb = np.zeros((x,y,3))\n",
    "    rgb[...,0] = red\n",
    "    rgb[...,1] = green\n",
    "    rgb[...,2] = blue\n",
    "    rgb = rgb - np.min(rgb)\n",
    "    rgb = rgb / np.maximum(np.max(rgb), 1) + brightness\n",
    "    \n",
    "    if rgb.mean() > 1:\n",
    "        rgb[rgb > 255] = 255\n",
    "    else: \n",
    "        rgb[rgb > 1] = 1\n",
    "    \n",
    "    return rgb"
   ]
  },
  {
   "cell_type": "markdown",
   "metadata": {},
   "source": [
    "## Filter and clean inference results"
   ]
  },
  {
   "cell_type": "markdown",
   "metadata": {},
   "source": [
    "## Vectorize cleaned inference results"
   ]
  },
  {
   "cell_type": "markdown",
   "metadata": {},
   "source": [
    "# apply function to measure custom metric"
   ]
  },
  {
   "cell_type": "code",
   "execution_count": 7,
   "metadata": {},
   "outputs": [],
   "source": [
    "import warnings\n",
    "warnings.filterwarnings('ignore')"
   ]
  },
  {
   "cell_type": "code",
   "execution_count": 14,
   "metadata": {},
   "outputs": [],
   "source": [
    "from shapely.ops import transform\n",
    "from shapely import ops\n",
    "from functools import partial\n",
    "import pyproj\n",
    "\n",
    "from shapely.ops import cascaded_union, unary_union\n",
    "from shapely.affinity import translate\n",
    "import fiona\n",
    "\n",
    "def custom_metric_calculation(base_name, \n",
    "                              raster_data, \n",
    "                              inference_wgs_shp, \n",
    "                              annotation_wgs_shp,\n",
    "                              buffer_size,\n",
    "                              verbose = 0):\n",
    "\n",
    "    #### load data ##### \n",
    "    \n",
    "\n",
    "    # convert list to shapely MultiPolgyons (in wgs84)\n",
    "    prediction_wgs = inference_wgs_shp\n",
    "    \n",
    "    \n",
    "\n",
    "    # convert list to shapely MultiPolgyons (in wgs84)\n",
    "    annotation_wgs = annotation_wgs_shp\n",
    "\n",
    "    # check dataformat to apply conversion \n",
    "    print(annotation_wgs.type)\n",
    "    \n",
    "    if annotation_wgs.type == 'MultiLineString':\n",
    "        annotation_wgs_exterior = unary_union([poly for poly in annotation_wgs])\n",
    "    elif annotation_wgs.type == 'MultiPolygon': \n",
    "        annotation_wgs_exterior = unary_union([poly.exterior for poly in annotation_wgs])\n",
    "    elif annotation_wgs.type == 'Polygon':\n",
    "        annotation_wgs_exterior = annotation_wgs.exterior\n",
    "    else:\n",
    "        annotation_wgs_exterior = unary_union([poly.exterior for poly in annotation_wgs])\n",
    "        \n",
    "        \n",
    "    # check dataformat to apply conversion \n",
    "    if prediction_wgs.type == 'MultiLineString':\n",
    "        prediction_wgs_exterior = unary_union([poly for poly in prediction_wgs])\n",
    "    elif prediction_wgs.type == 'Polygon':\n",
    "        prediction_wgs_exterior = prediction_wgs.exterior\n",
    "    else: \n",
    "        prediction_wgs_exterior = unary_union([poly.exterior for poly in prediction_wgs])\n",
    "    \n",
    "    ### create projections\n",
    "    \n",
    "    # get vector projection \n",
    "    x,y  = prediction_wgs.centroid.xy\n",
    "\n",
    "    epsg = wgs2epsg(x[0], y[0])\n",
    "\n",
    "    #  EPSG:32748 is also known as WGS 84 / UTM zone 48S\n",
    "\n",
    "    # set projections\n",
    "    project_wgs2utm = partial(\n",
    "        pyproj.transform,\n",
    "        pyproj.Proj(init='epsg:4326'),\n",
    "        pyproj.Proj(init='epsg:{}'.format(epsg)))\n",
    "\n",
    "    project_utm2wgs = partial(\n",
    "        pyproj.transform,\n",
    "        pyproj.Proj(init='epsg:{}'.format(epsg)), # from\n",
    "        pyproj.Proj(init='epsg:4326'))            # to\n",
    "\n",
    "\n",
    "    ### apply offset\n",
    "    \n",
    "    # sometimes a correction for geolocation inaccuracies is needed\n",
    "    x_offset =  0\n",
    "    y_offset =  0\n",
    "    prediction_wgs = translate(prediction_wgs,xoff = x_offset, yoff = y_offset, zoff=0.0)\n",
    "    \n",
    "    ### project and apply buffer \n",
    "    \n",
    "    # transform input data to projected coordinate system\n",
    "    prediction_utm = transform(project_wgs2utm, prediction_wgs)\n",
    "    \n",
    "#     if len(prediction_utm) > 1:\n",
    "#         prediction_utm_list = []\n",
    "#         for poly in prediction_utm:\n",
    "            \n",
    "#             poly_boundary \n",
    "#             prediction_utm_list\n",
    "            \n",
    "\n",
    "    # create polygon by applying buffer zone and convert back to wgs84\n",
    "    prediction_utm_buffer = prediction_utm.boundary.buffer(buffer_size)\n",
    "    prediction_wgs_buffer_zone = transform(project_utm2wgs, prediction_utm_buffer)\n",
    "\n",
    "    # get all necessary shapes\n",
    "    annotation_utm_exterior = transform(project_wgs2utm, annotation_wgs_exterior)\n",
    "    annotation_utm_buffer_zone = annotation_utm_exterior.buffer(buffer_size)\n",
    "    annotation_wgs_buffer_zone = transform(project_utm2wgs, annotation_utm_buffer_zone)\n",
    "\n",
    "    ### calculate metrics\n",
    "   \n",
    "    # calculate Recall \n",
    "    total_length_annotation = annotation_wgs_exterior.length\n",
    "    length_overlap_prediction_annotation = prediction_wgs_buffer_zone.intersection(annotation_wgs_exterior).length\n",
    "    \n",
    "    if total_length_annotation == 0:\n",
    "        Recall = 0\n",
    "    else:\n",
    "        Recall = round(length_overlap_prediction_annotation / total_length_annotation,3)\n",
    "\n",
    "    # calculate Precision\n",
    "    total_length_prediction = prediction_wgs.length\n",
    "    length_overlap_detection_annotation = annotation_wgs_buffer_zone.intersection(prediction_wgs_exterior).length\n",
    "    \n",
    "    if total_length_prediction == 0:\n",
    "        Precision = 0\n",
    "    else:\n",
    "        Precision = round(length_overlap_detection_annotation / total_length_prediction,3)\n",
    "        \n",
    "        \n",
    "    if verbose > 0:\n",
    "        fig = plt.figure(figsize = (10,10))\n",
    "\n",
    "        left, bottom, right, top = raster_data.bounds\n",
    "        \n",
    "        left, bottom = transform(project_wgs2utm, Point(left,bottom)).xy\n",
    "        right, top = transform(project_wgs2utm, Point(right, top)).xy\n",
    "        \n",
    "        print(left, bottom)\n",
    "            \n",
    "        raster_rgb = rgb_from_raster(raster_data.read(), 0.0)\n",
    "        \n",
    "        plt.imshow(raster_rgb, extent = (left[0], right[0], bottom[0], top[0]))\n",
    "\n",
    "        try:\n",
    "            for item in prediction_utm.boundary:\n",
    "                x,y = item.xy\n",
    "                plt.plot(x,y, color = 'red')\n",
    "        except Exception as e:\n",
    "            print(e)\n",
    "            x,y = prediction_utm.boundary.xy\n",
    "            plt.plot(x,y, color = 'red')\n",
    "            \n",
    "        try:\n",
    "            for item in annotation_utm_buffer_zone.boundary:\n",
    "                x,y = item.xy\n",
    "                plt.plot(x,y, color = 'lightgreen', alpha = 0.5) \n",
    "        except Exception as e:\n",
    "            print(e)\n",
    "        \n",
    "        try:\n",
    "            for item in annotation_utm_buffer_zone.intersection(prediction_utm.boundary): \n",
    "                x,y = item.xy\n",
    "                plt.plot(x,y, color = 'b') \n",
    "        except Exception as e:\n",
    "            print(e)\n",
    "\n",
    "        print_text = 'Precision: {} % \\n Recall: {} %'.format(round(Precision * 100,3), \n",
    "                                                              round(Recall    * 100,3))\n",
    "        \n",
    "        plt.text(np.array(right).astype(float)-10, \n",
    "                 np.array(top).astype(float)-10, \n",
    "                 print_text, size=12, ha=\"right\", va=\"top\", color = 'w')\n",
    "        \n",
    "        plt.title(base_name)\n",
    "        plt.xlabel('utm x coordinate (m)')\n",
    "        plt.ylabel('utm y coordinate (m)')\n",
    "        plt.axis('equal')\n",
    "        plt.show()\n",
    "        \n",
    "#     image_save_path = \"../../data/rasters_waterbodies_osm/cities/scale_test_v1/images/{}_result_image.png\".format(base_name)\n",
    "#     fig.savefig(image_save_path)\n",
    "    \n",
    "    \n",
    "    return Precision, Recall"
   ]
  },
  {
   "cell_type": "markdown",
   "metadata": {},
   "source": [
    "## Load annotation"
   ]
  },
  {
   "cell_type": "code",
   "execution_count": 17,
   "metadata": {},
   "outputs": [
    {
     "name": "stdout",
     "output_type": "stream",
     "text": [
      "157\n"
     ]
    },
    {
     "data": {
      "text/plain": [
       "['../../data/hand_annotations/water_annotations/Jakarta_199_pansharpen_True_2019-08-11_03:17_103001009861DE00_05-18-2020_08:55:26.shp',\n",
       " '../../data/hand_annotations/water_annotations/Jakarta_255_pansharpen_True_2019-07-23_03:16_1030010096702700_05-18-2020_08:55:26.shp',\n",
       " '../../data/hand_annotations/water_annotations/Balikpapan_025_pansharpen_True_2019-03-10_02:44_103001008BD5FD00_05-18-2020_08:55:26.shp']"
      ]
     },
     "execution_count": 17,
     "metadata": {},
     "output_type": "execute_result"
    }
   ],
   "source": [
    "# plot logging and results:\n",
    "\n",
    "verbose = 0\n",
    "\n",
    "# annotations\n",
    "annotation_shapes_path = '../../data/hand_annotations/water_annotations/*.shp'# .format(name)\n",
    "\n",
    "# find files in shapefile folder\n",
    "annotation_shape_files = glob.glob(annotation_shapes_path)\n",
    "\n",
    "print(len(annotation_shape_files))\n",
    "annotation_shape_files[0:3] # = annotation_shape_files[0]\n",
    "\n"
   ]
  },
  {
   "cell_type": "code",
   "execution_count": 19,
   "metadata": {
    "scrolled": true
   },
   "outputs": [
    {
     "data": {
      "application/vnd.jupyter.widget-view+json": {
       "model_id": "3ffc65a1e7a240818254e7bf607d730b",
       "version_major": 2,
       "version_minor": 0
      },
      "text/plain": [
       "HBox(children=(HTML(value=''), FloatProgress(value=0.0, max=157.0), HTML(value='')))"
      ]
     },
     "metadata": {},
     "output_type": "display_data"
    },
    {
     "name": "stdout",
     "output_type": "stream",
     "text": [
      "Jakarta_199\n",
      "MultiPolygon\n",
      "Recall    @ 4.5m is 96.3%\n",
      "Precision @ 4.5m is 64.6%\n",
      "Jakarta_255\n",
      "MultiPolygon\n",
      "Recall    @ 4.5m is 87.8%\n",
      "Precision @ 4.5m is 92.0%\n",
      "Balikpapan_025\n",
      "MultiPolygon\n",
      "Recall    @ 4.5m is 87.2%\n",
      "Precision @ 4.5m is 77.2%\n",
      "Jakarta_528\n",
      "list index out of range\n",
      "no matching inference found, skipping...\n",
      "Medan_059\n",
      "MultiPolygon\n",
      "Recall    @ 4.5m is 75.3%\n",
      "Precision @ 4.5m is 97.3%\n",
      "Jakarta_258\n",
      "MultiPolygon\n",
      "Recall    @ 4.5m is 87.6%\n",
      "Precision @ 4.5m is 93.0%\n",
      "Denpasar_047\n",
      "MultiPolygon\n",
      "Recall    @ 4.5m is 99.3%\n",
      "Precision @ 4.5m is 74.2%\n",
      "Jakarta_150\n",
      "Polygon\n",
      "Recall    @ 4.5m is 100.0%\n",
      "Precision @ 4.5m is 100.0%\n",
      "Jakarta_198\n",
      "GeometryCollection\n",
      "Recall    @ 4.5m is 0%\n",
      "Precision @ 4.5m is 0.0%\n",
      "Jakarta_378\n",
      "MultiPolygon\n",
      "Recall    @ 4.5m is 98.2%\n",
      "Precision @ 4.5m is 97.8%\n",
      "Medan_254\n",
      "MultiPolygon\n",
      "Recall    @ 4.5m is 70.4%\n",
      "Precision @ 4.5m is 95.2%\n",
      "Medan_016\n",
      "MultiPolygon\n",
      "Recall    @ 4.5m is 82.0%\n",
      "Precision @ 4.5m is 99.2%\n",
      "Jakarta_416\n",
      "MultiPolygon\n",
      "Recall    @ 4.5m is 32.8%\n",
      "Precision @ 4.5m is 100.0%\n",
      "Cilegon_002\n",
      "MultiPolygon\n",
      "Recall    @ 4.5m is 98.5%\n",
      "Precision @ 4.5m is 98.2%\n",
      "Medan_099\n",
      "list index out of range\n",
      "no matching inference found, skipping...\n",
      "Jakarta_635\n",
      "Polygon\n",
      "Recall    @ 4.5m is 98.1%\n",
      "Precision @ 4.5m is 93.5%\n",
      "Balikpapan_015\n",
      "MultiPolygon\n",
      "Recall    @ 4.5m is 74.6%\n",
      "Precision @ 4.5m is 94.0%\n",
      "Jakarta_517\n",
      "Polygon\n",
      "Recall    @ 4.5m is 100.0%\n",
      "Precision @ 4.5m is 100.0%\n",
      "Cilegon_009\n",
      "MultiPolygon\n",
      "Recall    @ 4.5m is 95.0%\n",
      "Precision @ 4.5m is 99.7%\n",
      "Medan_281\n",
      "Polygon\n",
      "Recall    @ 4.5m is 60.4%\n",
      "Precision @ 4.5m is 98.0%\n",
      "Medan_227\n",
      "MultiPolygon\n",
      "Recall    @ 4.5m is 66.8%\n",
      "Precision @ 4.5m is 98.3%\n",
      "Medan_021\n",
      "MultiPolygon\n",
      "Recall    @ 4.5m is 64.6%\n",
      "Precision @ 4.5m is 99.9%\n",
      "Medan_307\n",
      "MultiPolygon\n",
      "Recall    @ 4.5m is 85.1%\n",
      "Precision @ 4.5m is 86.8%\n",
      "Denpasar_041\n",
      "MultiPolygon\n",
      "Recall    @ 4.5m is 94.2%\n",
      "Precision @ 4.5m is 98.7%\n",
      "Jakarta_422\n",
      "MultiPolygon\n",
      "Recall    @ 4.5m is 77.8%\n",
      "Precision @ 4.5m is 91.1%\n",
      "Jakarta_359\n",
      "MultiPolygon\n",
      "Recall    @ 4.5m is 97.5%\n",
      "Precision @ 4.5m is 97.2%\n",
      "Jakarta_196\n",
      "list index out of range\n",
      "no matching inference found, skipping...\n",
      "Jakarta_122\n",
      "MultiPolygon\n",
      "Recall    @ 4.5m is 99.7%\n",
      "Precision @ 4.5m is 100.0%\n",
      "Balikpapan_034\n",
      "MultiPolygon\n",
      "Recall    @ 4.5m is 94.3%\n",
      "Precision @ 4.5m is 99.3%\n",
      "Jakarta_458\n",
      "MultiPolygon\n",
      "Recall    @ 4.5m is 74.5%\n",
      "Precision @ 4.5m is 96.1%\n",
      "Denpasar_052\n",
      "Polygon\n",
      "Recall    @ 4.5m is 87.6%\n",
      "Precision @ 4.5m is 89.7%\n",
      "Jakarta_204\n",
      "Polygon\n",
      "Recall    @ 4.5m is 100.0%\n",
      "Precision @ 4.5m is 84.6%\n",
      "Jakarta_597\n",
      "Polygon\n",
      "Recall    @ 4.5m is 100.0%\n",
      "Precision @ 4.5m is 100.0%\n",
      "Jakarta_327\n",
      "MultiPolygon\n",
      "Recall    @ 4.5m is 89.1%\n",
      "Precision @ 4.5m is 100.0%\n",
      "Jakarta_191\n",
      "Polygon\n",
      "Recall    @ 4.5m is 98.2%\n",
      "Precision @ 4.5m is 90.4%\n",
      "Jakarta_249\n",
      "MultiPolygon\n",
      "Recall    @ 4.5m is 85.1%\n",
      "Precision @ 4.5m is 86.8%\n",
      "Balikpapan_033\n",
      "MultiPolygon\n",
      "Recall    @ 4.5m is 93.6%\n",
      "Precision @ 4.5m is 95.9%\n",
      "Medan_216\n",
      "MultiPolygon\n",
      "Recall    @ 4.5m is 70.2%\n",
      "Precision @ 4.5m is 99.6%\n",
      "Cilegon_004\n",
      "MultiPolygon\n",
      "Recall    @ 4.5m is 89.0%\n",
      "Precision @ 4.5m is 76.2%\n",
      "Jakarta_200\n",
      "MultiPolygon\n",
      "Recall    @ 4.5m is 82.5%\n",
      "Precision @ 4.5m is 83.5%\n",
      "Medan_217\n",
      "list index out of range\n",
      "no matching inference found, skipping...\n",
      "Jakarta_669\n",
      "MultiPolygon\n",
      "Recall    @ 4.5m is 89.6%\n",
      "Precision @ 4.5m is 97.1%\n",
      "Denpasar_012\n",
      "MultiPolygon\n",
      "Recall    @ 4.5m is 99.3%\n",
      "Precision @ 4.5m is 100.0%\n",
      "Denpasar_003\n",
      "MultiPolygon\n",
      "Recall    @ 4.5m is 77.2%\n",
      "Precision @ 4.5m is 100.0%\n",
      "Jakarta_230\n",
      "MultiPolygon\n",
      "Recall    @ 4.5m is 93.8%\n",
      "Precision @ 4.5m is 100.0%\n",
      "Jakarta_072\n",
      "MultiPolygon\n",
      "Recall    @ 4.5m is 62.4%\n",
      "Precision @ 4.5m is 82.5%\n",
      "Jakarta_031\n",
      "Polygon\n",
      "Recall    @ 4.5m is 92.5%\n",
      "Precision @ 4.5m is 98.2%\n",
      "Balikpapan_013\n",
      "MultiPolygon\n",
      "Recall    @ 4.5m is 69.9%\n",
      "Precision @ 4.5m is 94.9%\n",
      "Denpasar_039\n",
      "MultiPolygon\n",
      "Recall    @ 4.5m is 83.1%\n",
      "Precision @ 4.5m is 98.2%\n",
      "Jakarta_508\n",
      "MultiPolygon\n",
      "Recall    @ 4.5m is 45.1%\n",
      "Precision @ 4.5m is 76.4%\n",
      "Jakarta_288\n",
      "MultiPolygon\n",
      "Recall    @ 4.5m is 16.2%\n",
      "Precision @ 4.5m is 82.3%\n",
      "Jakarta_214\n",
      "MultiPolygon\n",
      "Recall    @ 4.5m is 98.4%\n",
      "Precision @ 4.5m is 100.0%\n",
      "Jakarta_190\n",
      "MultiPolygon\n",
      "Recall    @ 4.5m is 63.3%\n",
      "Precision @ 4.5m is 99.9%\n",
      "Medan_018\n",
      "MultiPolygon\n",
      "Recall    @ 4.5m is 72.8%\n",
      "Precision @ 4.5m is 99.7%\n",
      "Denpasar_043\n",
      "MultiPolygon\n",
      "Recall    @ 4.5m is 94.7%\n",
      "Precision @ 4.5m is 93.8%\n",
      "Jakarta_025\n",
      "MultiPolygon\n",
      "Recall    @ 4.5m is 57.0%\n",
      "Precision @ 4.5m is 49.1%\n",
      "Medan_179\n",
      "MultiPolygon\n",
      "Recall    @ 4.5m is 35.9%\n",
      "Precision @ 4.5m is 100.0%\n",
      "Denpasar_035\n",
      "Polygon\n",
      "Recall    @ 4.5m is 100.0%\n",
      "Precision @ 4.5m is 100.0%\n",
      "Balikpapan_004\n",
      "MultiPolygon\n",
      "Recall    @ 4.5m is 68.2%\n",
      "Precision @ 4.5m is 99.7%\n",
      "Jakarta_381\n",
      "MultiPolygon\n",
      "Recall    @ 4.5m is 93.3%\n",
      "Precision @ 4.5m is 90.7%\n",
      "Jakarta_415\n",
      "MultiPolygon\n",
      "Recall    @ 4.5m is 95.3%\n",
      "Precision @ 4.5m is 84.6%\n",
      "Jakarta_256\n",
      "MultiPolygon\n",
      "Recall    @ 4.5m is 77.3%\n",
      "Precision @ 4.5m is 88.8%\n",
      "Denpasar_054\n",
      "MultiPolygon\n",
      "Recall    @ 4.5m is 85.9%\n",
      "Precision @ 4.5m is 77.7%\n",
      "Jakarta_243\n",
      "MultiPolygon\n",
      "Recall    @ 4.5m is 96.3%\n",
      "Precision @ 4.5m is 98.8%\n",
      "Medan_245\n",
      "MultiPolygon\n",
      "Recall    @ 4.5m is 52.6%\n",
      "Precision @ 4.5m is 80.9%\n",
      "Jakarta_235\n",
      "MultiPolygon\n",
      "Recall    @ 4.5m is 89.2%\n",
      "Precision @ 4.5m is 92.1%\n",
      "Jakarta_227\n",
      "MultiPolygon\n",
      "Recall    @ 4.5m is 55.2%\n",
      "Precision @ 4.5m is 96.3%\n",
      "Jakarta_352\n",
      "MultiPolygon\n",
      "Recall    @ 4.5m is 95.6%\n",
      "Precision @ 4.5m is 86.9%\n",
      "Jakarta_511\n",
      "Polygon\n",
      "Recall    @ 4.5m is 100.0%\n",
      "Precision @ 4.5m is 63.7%\n",
      "Jakarta_000\n",
      "MultiPolygon\n",
      "Recall    @ 4.5m is 69.6%\n",
      "Precision @ 4.5m is 94.3%\n",
      "Jakarta_129\n",
      "MultiPolygon\n",
      "Recall    @ 4.5m is 58.3%\n",
      "Precision @ 4.5m is 43.6%\n",
      "Jakarta_252\n",
      "MultiPolygon\n",
      "Recall    @ 4.5m is 78.7%\n",
      "Precision @ 4.5m is 97.4%\n",
      "Jakarta_221\n",
      "MultiPolygon\n",
      "Recall    @ 4.5m is 86.3%\n",
      "Precision @ 4.5m is 95.5%\n",
      "Jakarta_242\n",
      "MultiPolygon\n",
      "Recall    @ 4.5m is 95.5%\n",
      "Precision @ 4.5m is 96.3%\n",
      "Jakarta_219\n",
      "MultiPolygon\n",
      "Recall    @ 4.5m is 90.5%\n",
      "Precision @ 4.5m is 90.8%\n",
      "Medan_212\n",
      "MultiPolygon\n",
      "Recall    @ 4.5m is 62.2%\n",
      "Precision @ 4.5m is 93.9%\n",
      "Jakarta_226\n",
      "MultiPolygon\n",
      "Recall    @ 4.5m is 90.5%\n",
      "Precision @ 4.5m is 98.2%\n",
      "Jakarta_254\n",
      "MultiPolygon\n",
      "Recall    @ 4.5m is 84.8%\n",
      "Precision @ 4.5m is 93.8%\n",
      "Jakarta_030\n",
      "MultiPolygon\n",
      "Recall    @ 4.5m is 90.3%\n",
      "Precision @ 4.5m is 90.3%\n",
      "Denpasar_027\n",
      "MultiPolygon\n",
      "Recall    @ 4.5m is 40.9%\n",
      "Precision @ 4.5m is 96.0%\n",
      "Jakarta_661\n",
      "MultiPolygon\n",
      "Recall    @ 4.5m is 58.6%\n",
      "Precision @ 4.5m is 96.7%\n",
      "Jakarta_266\n",
      "MultiPolygon\n",
      "Recall    @ 4.5m is 62.0%\n",
      "Precision @ 4.5m is 89.4%\n",
      "Jakarta_380\n",
      "MultiPolygon\n",
      "Recall    @ 4.5m is 81.9%\n",
      "Precision @ 4.5m is 86.0%\n",
      "Jakarta_543\n",
      "MultiPolygon\n",
      "Recall    @ 4.5m is 83.7%\n",
      "Precision @ 4.5m is 74.5%\n",
      "Jakarta_436\n",
      "MultiPolygon\n",
      "Recall    @ 4.5m is 80.9%\n",
      "Precision @ 4.5m is 90.1%\n",
      "Medan_260\n",
      "MultiPolygon\n",
      "Recall    @ 4.5m is 41.0%\n",
      "Precision @ 4.5m is 74.3%\n",
      "Denpasar_049\n",
      "MultiPolygon\n",
      "Recall    @ 4.5m is 68.3%\n",
      "Precision @ 4.5m is 69.4%\n",
      "Jakarta_423\n",
      "Polygon\n",
      "Recall    @ 4.5m is 100.0%\n",
      "Precision @ 4.5m is 100.0%\n",
      "Balikpapan_016\n",
      "list index out of range\n",
      "no matching inference found, skipping...\n",
      "Jakarta_290\n",
      "MultiPolygon\n",
      "Recall    @ 4.5m is 31.4%\n",
      "Precision @ 4.5m is 98.5%\n",
      "Jakarta_289\n",
      "MultiPolygon\n",
      "Recall    @ 4.5m is 56.2%\n",
      "Precision @ 4.5m is 100.0%\n",
      "Jakarta_642\n",
      "MultiPolygon\n",
      "Recall    @ 4.5m is 49.8%\n",
      "Precision @ 4.5m is 94.6%\n",
      "Cilegon_007\n",
      "Polygon\n",
      "Recall    @ 4.5m is 83.2%\n",
      "Precision @ 4.5m is 82.0%\n",
      "Denpasar_006\n",
      "MultiPolygon\n",
      "Recall    @ 4.5m is 57.9%\n",
      "Precision @ 4.5m is 100.0%\n",
      "Jakarta_656\n",
      "MultiPolygon\n",
      "Recall    @ 4.5m is 96.2%\n",
      "Precision @ 4.5m is 94.5%\n",
      "Jakarta_362\n",
      "Polygon\n",
      "Recall    @ 4.5m is 87.9%\n",
      "Precision @ 4.5m is 89.0%\n",
      "Jakarta_118\n",
      "Polygon\n",
      "Recall    @ 4.5m is 89.0%\n",
      "Precision @ 4.5m is 83.5%\n",
      "Balikpapan_014\n",
      "MultiPolygon\n",
      "Recall    @ 4.5m is 93.8%\n",
      "Precision @ 4.5m is 99.6%\n",
      "Jakarta_626\n",
      "MultiPolygon\n",
      "Recall    @ 4.5m is 71.5%\n",
      "Precision @ 4.5m is 91.2%\n",
      "Cilegon_013\n",
      "Polygon\n",
      "Recall    @ 4.5m is 100.0%\n",
      "Precision @ 4.5m is 84.0%\n",
      "Balikpapan_027\n",
      "MultiPolygon\n",
      "Recall    @ 4.5m is 68.6%\n",
      "Precision @ 4.5m is 74.9%\n",
      "Denpasar_016\n",
      "MultiPolygon\n",
      "Recall    @ 4.5m is 97.3%\n",
      "Precision @ 4.5m is 89.3%\n",
      "Jakarta_234\n",
      "MultiPolygon\n",
      "Recall    @ 4.5m is 94.5%\n",
      "Precision @ 4.5m is 98.7%\n",
      "Medan_311\n",
      "MultiPolygon\n",
      "Recall    @ 4.5m is 78.9%\n",
      "Precision @ 4.5m is 85.4%\n",
      "Medan_014\n",
      "MultiPolygon\n",
      "Recall    @ 4.5m is 29.8%\n",
      "Precision @ 4.5m is 100.0%\n",
      "Jakarta_353\n",
      "MultiPolygon\n",
      "Recall    @ 4.5m is 87.9%\n",
      "Precision @ 4.5m is 99.0%\n",
      "Jakarta_587\n",
      "MultiPolygon\n",
      "Recall    @ 4.5m is 97.7%\n",
      "Precision @ 4.5m is 67.2%\n",
      "Jakarta_394\n",
      "MultiPolygon\n"
     ]
    },
    {
     "name": "stdout",
     "output_type": "stream",
     "text": [
      "Recall    @ 4.5m is 70.5%\n",
      "Precision @ 4.5m is 85.8%\n",
      "Jakarta_068\n",
      "Polygon\n",
      "Recall    @ 4.5m is 84.5%\n",
      "Precision @ 4.5m is 29.1%\n",
      "Denpasar_023\n",
      "MultiPolygon\n",
      "Recall    @ 4.5m is 81.9%\n",
      "Precision @ 4.5m is 81.8%\n",
      "Cilegon_005\n",
      "crs is not epsg:4326, skipping...\n",
      "crs not epsg:4623, skipping...\n",
      "Jakarta_034\n",
      "MultiPolygon\n",
      "Recall    @ 4.5m is 60.7%\n",
      "Precision @ 4.5m is 69.3%\n",
      "Medan_270\n",
      "MultiPolygon\n",
      "Recall    @ 4.5m is 89.7%\n",
      "Precision @ 4.5m is 82.9%\n",
      "Jakarta_239\n",
      "MultiPolygon\n",
      "Recall    @ 4.5m is 91.8%\n",
      "Precision @ 4.5m is 91.3%\n",
      "Jakarta_344\n",
      "MultiPolygon\n",
      "Recall    @ 4.5m is 97.9%\n",
      "Precision @ 4.5m is 93.7%\n",
      "Jakarta_349\n",
      "MultiPolygon\n",
      "Recall    @ 4.5m is 96.5%\n",
      "Precision @ 4.5m is 98.7%\n",
      "Jakarta_218\n",
      "MultiPolygon\n",
      "Recall    @ 4.5m is 94.1%\n",
      "Precision @ 4.5m is 93.3%\n",
      "Jakarta_298\n",
      "MultiPolygon\n",
      "Recall    @ 4.5m is 15.9%\n",
      "Precision @ 4.5m is 6.5%\n",
      "Jakarta_340\n",
      "MultiPolygon\n",
      "Recall    @ 4.5m is 97.1%\n",
      "Precision @ 4.5m is 97.5%\n",
      "Denpasar_042\n",
      "MultiPolygon\n",
      "Recall    @ 4.5m is 100.0%\n",
      "Precision @ 4.5m is 98.3%\n",
      "Jakarta_662\n",
      "MultiPolygon\n",
      "Recall    @ 4.5m is 46.5%\n",
      "Precision @ 4.5m is 98.7%\n",
      "Jakarta_124\n",
      "MultiPolygon\n",
      "Recall    @ 4.5m is 88.4%\n",
      "Precision @ 4.5m is 98.9%\n",
      "Jakarta_399\n",
      "MultiPolygon\n",
      "Recall    @ 4.5m is 52.2%\n",
      "Precision @ 4.5m is 55.4%\n",
      "Jakarta_336\n",
      "MultiPolygon\n",
      "Recall    @ 4.5m is 85.3%\n",
      "Precision @ 4.5m is 100.0%\n",
      "Jakarta_637\n",
      "MultiPolygon\n",
      "Recall    @ 4.5m is 76.4%\n",
      "Precision @ 4.5m is 98.8%\n",
      "Denpasar_005\n",
      "MultiPolygon\n",
      "Recall    @ 4.5m is 99.9%\n",
      "Precision @ 4.5m is 94.1%\n",
      "Jakarta_303\n",
      "MultiPolygon\n",
      "Recall    @ 4.5m is 64.5%\n",
      "Precision @ 4.5m is 58.1%\n",
      "Balikpapan_024\n",
      "MultiPolygon\n",
      "Recall    @ 4.5m is 86.4%\n",
      "Precision @ 4.5m is 100.0%\n",
      "Jakarta_192\n",
      "MultiPolygon\n",
      "Recall    @ 4.5m is 79.4%\n",
      "Precision @ 4.5m is 100.0%\n",
      "Cilegon_017\n",
      "crs is not epsg:4326, skipping...\n",
      "crs not epsg:4623, skipping...\n",
      "Jakarta_434\n",
      "MultiPolygon\n",
      "Recall    @ 4.5m is 87.1%\n",
      "Precision @ 4.5m is 73.5%\n",
      "Jakarta_503\n",
      "MultiPolygon\n",
      "Recall    @ 4.5m is 51.6%\n",
      "Precision @ 4.5m is 100.0%\n",
      "Jakarta_224\n",
      "MultiPolygon\n",
      "Recall    @ 4.5m is 95.9%\n",
      "Precision @ 4.5m is 96.4%\n",
      "Jakarta_641\n",
      "crs is not epsg:4326, skipping...\n",
      "crs not epsg:4623, skipping...\n",
      "Denpasar_048\n",
      "MultiPolygon\n",
      "Recall    @ 4.5m is 67.1%\n",
      "Precision @ 4.5m is 89.6%\n",
      "Jakarta_639\n",
      "MultiPolygon\n",
      "Recall    @ 4.5m is 82.3%\n",
      "Precision @ 4.5m is 98.5%\n",
      "Jakarta_236\n",
      "MultiPolygon\n",
      "Recall    @ 4.5m is 96.4%\n",
      "Precision @ 4.5m is 79.2%\n",
      "Jakarta_169\n",
      "MultiPolygon\n",
      "Recall    @ 4.5m is 69.7%\n",
      "Precision @ 4.5m is 84.8%\n",
      "Jakarta_261\n",
      "MultiPolygon\n",
      "Recall    @ 4.5m is 85.3%\n",
      "Precision @ 4.5m is 99.2%\n",
      "Jakarta_335\n",
      "MultiPolygon\n",
      "Recall    @ 4.5m is 98.4%\n",
      "Precision @ 4.5m is 93.2%\n",
      "Medan_266\n",
      "list index out of range\n",
      "no matching inference found, skipping...\n",
      "Jakarta_500\n",
      "Polygon\n",
      "Recall    @ 4.5m is 96.5%\n",
      "Precision @ 4.5m is 100.0%\n",
      "Jakarta_364\n",
      "MultiPolygon\n",
      "Recall    @ 4.5m is 62.9%\n",
      "Precision @ 4.5m is 84.3%\n",
      "Medan_168\n",
      "MultiPolygon\n",
      "Recall    @ 4.5m is 90.1%\n",
      "Precision @ 4.5m is 90.8%\n",
      "Jakarta_228\n",
      "MultiPolygon\n",
      "Recall    @ 4.5m is 89.5%\n",
      "Precision @ 4.5m is 98.1%\n",
      "Jakarta_646\n",
      "MultiPolygon\n",
      "Recall    @ 4.5m is 58.4%\n",
      "Precision @ 4.5m is 91.1%\n",
      "Medan_028\n",
      "Polygon\n",
      "Recall    @ 4.5m is 92.8%\n",
      "Precision @ 4.5m is 90.4%\n",
      "Jakarta_253\n",
      "MultiPolygon\n",
      "Recall    @ 4.5m is 88.6%\n",
      "Precision @ 4.5m is 79.0%\n",
      "Jakarta_351\n",
      "MultiPolygon\n",
      "Recall    @ 4.5m is 95.7%\n",
      "Precision @ 4.5m is 95.2%\n",
      "Jakarta_357\n",
      "MultiPolygon\n",
      "Recall    @ 4.5m is 81.6%\n",
      "Precision @ 4.5m is 88.7%\n",
      "Jakarta_186\n",
      "MultiPolygon\n",
      "Recall    @ 4.5m is 88.7%\n",
      "Precision @ 4.5m is 100.0%\n",
      "Jakarta_337\n",
      "MultiPolygon\n",
      "Recall    @ 4.5m is 91.0%\n",
      "Precision @ 4.5m is 94.4%\n",
      "Jakarta_112\n",
      "Polygon\n",
      "Recall    @ 4.5m is 99.9%\n",
      "Precision @ 4.5m is 99.5%\n",
      "Jakarta_263\n",
      "MultiPolygon\n",
      "Recall    @ 4.5m is 83.5%\n",
      "Precision @ 4.5m is 97.1%\n",
      "Balikpapan_001\n",
      "Polygon\n",
      "Recall    @ 4.5m is 100.0%\n",
      "Precision @ 4.5m is 100.0%\n",
      "Jakarta_197\n",
      "crs is not epsg:4326, skipping...\n",
      "crs not epsg:4623, skipping...\n",
      "Jakarta_237\n",
      "MultiPolygon\n",
      "Recall    @ 4.5m is 88.7%\n",
      "Precision @ 4.5m is 93.9%\n",
      "\n"
     ]
    },
    {
     "data": {
      "text/plain": [
       "<Figure size 720x720 with 0 Axes>"
      ]
     },
     "metadata": {},
     "output_type": "display_data"
    },
    {
     "data": {
      "text/plain": [
       "<Figure size 720x720 with 0 Axes>"
      ]
     },
     "metadata": {},
     "output_type": "display_data"
    },
    {
     "data": {
      "text/plain": [
       "<Figure size 720x720 with 0 Axes>"
      ]
     },
     "metadata": {},
     "output_type": "display_data"
    },
    {
     "data": {
      "text/plain": [
       "<Figure size 720x720 with 0 Axes>"
      ]
     },
     "metadata": {},
     "output_type": "display_data"
    },
    {
     "data": {
      "text/plain": [
       "<Figure size 720x720 with 0 Axes>"
      ]
     },
     "metadata": {},
     "output_type": "display_data"
    },
    {
     "data": {
      "text/plain": [
       "<Figure size 720x720 with 0 Axes>"
      ]
     },
     "metadata": {},
     "output_type": "display_data"
    },
    {
     "data": {
      "text/plain": [
       "<Figure size 720x720 with 0 Axes>"
      ]
     },
     "metadata": {},
     "output_type": "display_data"
    },
    {
     "data": {
      "text/plain": [
       "<Figure size 720x720 with 0 Axes>"
      ]
     },
     "metadata": {},
     "output_type": "display_data"
    },
    {
     "data": {
      "text/plain": [
       "<Figure size 720x720 with 0 Axes>"
      ]
     },
     "metadata": {},
     "output_type": "display_data"
    },
    {
     "data": {
      "text/plain": [
       "<Figure size 720x720 with 0 Axes>"
      ]
     },
     "metadata": {},
     "output_type": "display_data"
    },
    {
     "data": {
      "text/plain": [
       "<Figure size 720x720 with 0 Axes>"
      ]
     },
     "metadata": {},
     "output_type": "display_data"
    },
    {
     "data": {
      "text/plain": [
       "<Figure size 720x720 with 0 Axes>"
      ]
     },
     "metadata": {},
     "output_type": "display_data"
    },
    {
     "data": {
      "text/plain": [
       "<Figure size 720x720 with 0 Axes>"
      ]
     },
     "metadata": {},
     "output_type": "display_data"
    },
    {
     "data": {
      "text/plain": [
       "<Figure size 720x720 with 0 Axes>"
      ]
     },
     "metadata": {},
     "output_type": "display_data"
    },
    {
     "data": {
      "text/plain": [
       "<Figure size 720x720 with 0 Axes>"
      ]
     },
     "metadata": {},
     "output_type": "display_data"
    },
    {
     "data": {
      "text/plain": [
       "<Figure size 720x720 with 0 Axes>"
      ]
     },
     "metadata": {},
     "output_type": "display_data"
    },
    {
     "data": {
      "text/plain": [
       "<Figure size 720x720 with 0 Axes>"
      ]
     },
     "metadata": {},
     "output_type": "display_data"
    },
    {
     "data": {
      "text/plain": [
       "<Figure size 720x720 with 0 Axes>"
      ]
     },
     "metadata": {},
     "output_type": "display_data"
    },
    {
     "data": {
      "text/plain": [
       "<Figure size 720x720 with 0 Axes>"
      ]
     },
     "metadata": {},
     "output_type": "display_data"
    },
    {
     "data": {
      "text/plain": [
       "<Figure size 720x720 with 0 Axes>"
      ]
     },
     "metadata": {},
     "output_type": "display_data"
    },
    {
     "data": {
      "text/plain": [
       "<Figure size 720x720 with 0 Axes>"
      ]
     },
     "metadata": {},
     "output_type": "display_data"
    },
    {
     "data": {
      "text/plain": [
       "<Figure size 720x720 with 0 Axes>"
      ]
     },
     "metadata": {},
     "output_type": "display_data"
    },
    {
     "data": {
      "text/plain": [
       "<Figure size 720x720 with 0 Axes>"
      ]
     },
     "metadata": {},
     "output_type": "display_data"
    },
    {
     "data": {
      "text/plain": [
       "<Figure size 720x720 with 0 Axes>"
      ]
     },
     "metadata": {},
     "output_type": "display_data"
    },
    {
     "data": {
      "text/plain": [
       "<Figure size 720x720 with 0 Axes>"
      ]
     },
     "metadata": {},
     "output_type": "display_data"
    },
    {
     "data": {
      "text/plain": [
       "<Figure size 720x720 with 0 Axes>"
      ]
     },
     "metadata": {},
     "output_type": "display_data"
    },
    {
     "data": {
      "text/plain": [
       "<Figure size 720x720 with 0 Axes>"
      ]
     },
     "metadata": {},
     "output_type": "display_data"
    },
    {
     "data": {
      "text/plain": [
       "<Figure size 720x720 with 0 Axes>"
      ]
     },
     "metadata": {},
     "output_type": "display_data"
    },
    {
     "data": {
      "text/plain": [
       "<Figure size 720x720 with 0 Axes>"
      ]
     },
     "metadata": {},
     "output_type": "display_data"
    },
    {
     "data": {
      "text/plain": [
       "<Figure size 720x720 with 0 Axes>"
      ]
     },
     "metadata": {},
     "output_type": "display_data"
    },
    {
     "data": {
      "text/plain": [
       "<Figure size 720x720 with 0 Axes>"
      ]
     },
     "metadata": {},
     "output_type": "display_data"
    },
    {
     "data": {
      "text/plain": [
       "<Figure size 720x720 with 0 Axes>"
      ]
     },
     "metadata": {},
     "output_type": "display_data"
    },
    {
     "data": {
      "text/plain": [
       "<Figure size 720x720 with 0 Axes>"
      ]
     },
     "metadata": {},
     "output_type": "display_data"
    },
    {
     "data": {
      "text/plain": [
       "<Figure size 720x720 with 0 Axes>"
      ]
     },
     "metadata": {},
     "output_type": "display_data"
    },
    {
     "data": {
      "text/plain": [
       "<Figure size 720x720 with 0 Axes>"
      ]
     },
     "metadata": {},
     "output_type": "display_data"
    },
    {
     "data": {
      "text/plain": [
       "<Figure size 720x720 with 0 Axes>"
      ]
     },
     "metadata": {},
     "output_type": "display_data"
    },
    {
     "data": {
      "text/plain": [
       "<Figure size 720x720 with 0 Axes>"
      ]
     },
     "metadata": {},
     "output_type": "display_data"
    },
    {
     "data": {
      "text/plain": [
       "<Figure size 720x720 with 0 Axes>"
      ]
     },
     "metadata": {},
     "output_type": "display_data"
    },
    {
     "data": {
      "text/plain": [
       "<Figure size 720x720 with 0 Axes>"
      ]
     },
     "metadata": {},
     "output_type": "display_data"
    },
    {
     "data": {
      "text/plain": [
       "<Figure size 720x720 with 0 Axes>"
      ]
     },
     "metadata": {},
     "output_type": "display_data"
    },
    {
     "data": {
      "text/plain": [
       "<Figure size 720x720 with 0 Axes>"
      ]
     },
     "metadata": {},
     "output_type": "display_data"
    },
    {
     "data": {
      "text/plain": [
       "<Figure size 720x720 with 0 Axes>"
      ]
     },
     "metadata": {},
     "output_type": "display_data"
    },
    {
     "data": {
      "text/plain": [
       "<Figure size 720x720 with 0 Axes>"
      ]
     },
     "metadata": {},
     "output_type": "display_data"
    },
    {
     "data": {
      "text/plain": [
       "<Figure size 720x720 with 0 Axes>"
      ]
     },
     "metadata": {},
     "output_type": "display_data"
    },
    {
     "data": {
      "text/plain": [
       "<Figure size 720x720 with 0 Axes>"
      ]
     },
     "metadata": {},
     "output_type": "display_data"
    },
    {
     "data": {
      "text/plain": [
       "<Figure size 720x720 with 0 Axes>"
      ]
     },
     "metadata": {},
     "output_type": "display_data"
    },
    {
     "data": {
      "text/plain": [
       "<Figure size 720x720 with 0 Axes>"
      ]
     },
     "metadata": {},
     "output_type": "display_data"
    },
    {
     "data": {
      "text/plain": [
       "<Figure size 720x720 with 0 Axes>"
      ]
     },
     "metadata": {},
     "output_type": "display_data"
    },
    {
     "data": {
      "text/plain": [
       "<Figure size 720x720 with 0 Axes>"
      ]
     },
     "metadata": {},
     "output_type": "display_data"
    },
    {
     "data": {
      "text/plain": [
       "<Figure size 720x720 with 0 Axes>"
      ]
     },
     "metadata": {},
     "output_type": "display_data"
    },
    {
     "data": {
      "text/plain": [
       "<Figure size 720x720 with 0 Axes>"
      ]
     },
     "metadata": {},
     "output_type": "display_data"
    },
    {
     "data": {
      "text/plain": [
       "<Figure size 720x720 with 0 Axes>"
      ]
     },
     "metadata": {},
     "output_type": "display_data"
    },
    {
     "data": {
      "text/plain": [
       "<Figure size 720x720 with 0 Axes>"
      ]
     },
     "metadata": {},
     "output_type": "display_data"
    },
    {
     "data": {
      "text/plain": [
       "<Figure size 720x720 with 0 Axes>"
      ]
     },
     "metadata": {},
     "output_type": "display_data"
    },
    {
     "data": {
      "text/plain": [
       "<Figure size 720x720 with 0 Axes>"
      ]
     },
     "metadata": {},
     "output_type": "display_data"
    },
    {
     "data": {
      "text/plain": [
       "<Figure size 720x720 with 0 Axes>"
      ]
     },
     "metadata": {},
     "output_type": "display_data"
    },
    {
     "data": {
      "text/plain": [
       "<Figure size 720x720 with 0 Axes>"
      ]
     },
     "metadata": {},
     "output_type": "display_data"
    },
    {
     "data": {
      "text/plain": [
       "<Figure size 720x720 with 0 Axes>"
      ]
     },
     "metadata": {},
     "output_type": "display_data"
    },
    {
     "data": {
      "text/plain": [
       "<Figure size 720x720 with 0 Axes>"
      ]
     },
     "metadata": {},
     "output_type": "display_data"
    },
    {
     "data": {
      "text/plain": [
       "<Figure size 720x720 with 0 Axes>"
      ]
     },
     "metadata": {},
     "output_type": "display_data"
    },
    {
     "data": {
      "text/plain": [
       "<Figure size 720x720 with 0 Axes>"
      ]
     },
     "metadata": {},
     "output_type": "display_data"
    },
    {
     "data": {
      "text/plain": [
       "<Figure size 720x720 with 0 Axes>"
      ]
     },
     "metadata": {},
     "output_type": "display_data"
    },
    {
     "data": {
      "text/plain": [
       "<Figure size 720x720 with 0 Axes>"
      ]
     },
     "metadata": {},
     "output_type": "display_data"
    },
    {
     "data": {
      "text/plain": [
       "<Figure size 720x720 with 0 Axes>"
      ]
     },
     "metadata": {},
     "output_type": "display_data"
    },
    {
     "data": {
      "text/plain": [
       "<Figure size 720x720 with 0 Axes>"
      ]
     },
     "metadata": {},
     "output_type": "display_data"
    },
    {
     "data": {
      "text/plain": [
       "<Figure size 720x720 with 0 Axes>"
      ]
     },
     "metadata": {},
     "output_type": "display_data"
    },
    {
     "data": {
      "text/plain": [
       "<Figure size 720x720 with 0 Axes>"
      ]
     },
     "metadata": {},
     "output_type": "display_data"
    },
    {
     "data": {
      "text/plain": [
       "<Figure size 720x720 with 0 Axes>"
      ]
     },
     "metadata": {},
     "output_type": "display_data"
    },
    {
     "data": {
      "text/plain": [
       "<Figure size 720x720 with 0 Axes>"
      ]
     },
     "metadata": {},
     "output_type": "display_data"
    },
    {
     "data": {
      "text/plain": [
       "<Figure size 720x720 with 0 Axes>"
      ]
     },
     "metadata": {},
     "output_type": "display_data"
    },
    {
     "data": {
      "text/plain": [
       "<Figure size 720x720 with 0 Axes>"
      ]
     },
     "metadata": {},
     "output_type": "display_data"
    },
    {
     "data": {
      "text/plain": [
       "<Figure size 720x720 with 0 Axes>"
      ]
     },
     "metadata": {},
     "output_type": "display_data"
    },
    {
     "data": {
      "text/plain": [
       "<Figure size 720x720 with 0 Axes>"
      ]
     },
     "metadata": {},
     "output_type": "display_data"
    },
    {
     "data": {
      "text/plain": [
       "<Figure size 720x720 with 0 Axes>"
      ]
     },
     "metadata": {},
     "output_type": "display_data"
    },
    {
     "data": {
      "text/plain": [
       "<Figure size 720x720 with 0 Axes>"
      ]
     },
     "metadata": {},
     "output_type": "display_data"
    },
    {
     "data": {
      "text/plain": [
       "<Figure size 720x720 with 0 Axes>"
      ]
     },
     "metadata": {},
     "output_type": "display_data"
    },
    {
     "data": {
      "text/plain": [
       "<Figure size 720x720 with 0 Axes>"
      ]
     },
     "metadata": {},
     "output_type": "display_data"
    },
    {
     "data": {
      "text/plain": [
       "<Figure size 720x720 with 0 Axes>"
      ]
     },
     "metadata": {},
     "output_type": "display_data"
    },
    {
     "data": {
      "text/plain": [
       "<Figure size 720x720 with 0 Axes>"
      ]
     },
     "metadata": {},
     "output_type": "display_data"
    },
    {
     "data": {
      "text/plain": [
       "<Figure size 720x720 with 0 Axes>"
      ]
     },
     "metadata": {},
     "output_type": "display_data"
    },
    {
     "data": {
      "text/plain": [
       "<Figure size 720x720 with 0 Axes>"
      ]
     },
     "metadata": {},
     "output_type": "display_data"
    },
    {
     "data": {
      "text/plain": [
       "<Figure size 720x720 with 0 Axes>"
      ]
     },
     "metadata": {},
     "output_type": "display_data"
    },
    {
     "data": {
      "text/plain": [
       "<Figure size 720x720 with 0 Axes>"
      ]
     },
     "metadata": {},
     "output_type": "display_data"
    },
    {
     "data": {
      "text/plain": [
       "<Figure size 720x720 with 0 Axes>"
      ]
     },
     "metadata": {},
     "output_type": "display_data"
    },
    {
     "data": {
      "text/plain": [
       "<Figure size 720x720 with 0 Axes>"
      ]
     },
     "metadata": {},
     "output_type": "display_data"
    },
    {
     "data": {
      "text/plain": [
       "<Figure size 720x720 with 0 Axes>"
      ]
     },
     "metadata": {},
     "output_type": "display_data"
    },
    {
     "data": {
      "text/plain": [
       "<Figure size 720x720 with 0 Axes>"
      ]
     },
     "metadata": {},
     "output_type": "display_data"
    },
    {
     "data": {
      "text/plain": [
       "<Figure size 720x720 with 0 Axes>"
      ]
     },
     "metadata": {},
     "output_type": "display_data"
    },
    {
     "data": {
      "text/plain": [
       "<Figure size 720x720 with 0 Axes>"
      ]
     },
     "metadata": {},
     "output_type": "display_data"
    },
    {
     "data": {
      "text/plain": [
       "<Figure size 720x720 with 0 Axes>"
      ]
     },
     "metadata": {},
     "output_type": "display_data"
    },
    {
     "data": {
      "text/plain": [
       "<Figure size 720x720 with 0 Axes>"
      ]
     },
     "metadata": {},
     "output_type": "display_data"
    },
    {
     "data": {
      "text/plain": [
       "<Figure size 720x720 with 0 Axes>"
      ]
     },
     "metadata": {},
     "output_type": "display_data"
    },
    {
     "data": {
      "text/plain": [
       "<Figure size 720x720 with 0 Axes>"
      ]
     },
     "metadata": {},
     "output_type": "display_data"
    },
    {
     "data": {
      "text/plain": [
       "<Figure size 720x720 with 0 Axes>"
      ]
     },
     "metadata": {},
     "output_type": "display_data"
    },
    {
     "data": {
      "text/plain": [
       "<Figure size 720x720 with 0 Axes>"
      ]
     },
     "metadata": {},
     "output_type": "display_data"
    },
    {
     "data": {
      "text/plain": [
       "<Figure size 720x720 with 0 Axes>"
      ]
     },
     "metadata": {},
     "output_type": "display_data"
    },
    {
     "data": {
      "text/plain": [
       "<Figure size 720x720 with 0 Axes>"
      ]
     },
     "metadata": {},
     "output_type": "display_data"
    },
    {
     "data": {
      "text/plain": [
       "<Figure size 720x720 with 0 Axes>"
      ]
     },
     "metadata": {},
     "output_type": "display_data"
    },
    {
     "data": {
      "text/plain": [
       "<Figure size 720x720 with 0 Axes>"
      ]
     },
     "metadata": {},
     "output_type": "display_data"
    },
    {
     "data": {
      "text/plain": [
       "<Figure size 720x720 with 0 Axes>"
      ]
     },
     "metadata": {},
     "output_type": "display_data"
    },
    {
     "data": {
      "text/plain": [
       "<Figure size 720x720 with 0 Axes>"
      ]
     },
     "metadata": {},
     "output_type": "display_data"
    },
    {
     "data": {
      "text/plain": [
       "<Figure size 720x720 with 0 Axes>"
      ]
     },
     "metadata": {},
     "output_type": "display_data"
    },
    {
     "data": {
      "text/plain": [
       "<Figure size 720x720 with 0 Axes>"
      ]
     },
     "metadata": {},
     "output_type": "display_data"
    },
    {
     "data": {
      "text/plain": [
       "<Figure size 720x720 with 0 Axes>"
      ]
     },
     "metadata": {},
     "output_type": "display_data"
    },
    {
     "data": {
      "text/plain": [
       "<Figure size 720x720 with 0 Axes>"
      ]
     },
     "metadata": {},
     "output_type": "display_data"
    },
    {
     "data": {
      "text/plain": [
       "<Figure size 720x720 with 0 Axes>"
      ]
     },
     "metadata": {},
     "output_type": "display_data"
    },
    {
     "data": {
      "text/plain": [
       "<Figure size 720x720 with 0 Axes>"
      ]
     },
     "metadata": {},
     "output_type": "display_data"
    },
    {
     "data": {
      "text/plain": [
       "<Figure size 720x720 with 0 Axes>"
      ]
     },
     "metadata": {},
     "output_type": "display_data"
    },
    {
     "data": {
      "text/plain": [
       "<Figure size 720x720 with 0 Axes>"
      ]
     },
     "metadata": {},
     "output_type": "display_data"
    },
    {
     "data": {
      "text/plain": [
       "<Figure size 720x720 with 0 Axes>"
      ]
     },
     "metadata": {},
     "output_type": "display_data"
    },
    {
     "data": {
      "text/plain": [
       "<Figure size 720x720 with 0 Axes>"
      ]
     },
     "metadata": {},
     "output_type": "display_data"
    },
    {
     "data": {
      "text/plain": [
       "<Figure size 720x720 with 0 Axes>"
      ]
     },
     "metadata": {},
     "output_type": "display_data"
    },
    {
     "data": {
      "text/plain": [
       "<Figure size 720x720 with 0 Axes>"
      ]
     },
     "metadata": {},
     "output_type": "display_data"
    },
    {
     "data": {
      "text/plain": [
       "<Figure size 720x720 with 0 Axes>"
      ]
     },
     "metadata": {},
     "output_type": "display_data"
    },
    {
     "data": {
      "text/plain": [
       "<Figure size 720x720 with 0 Axes>"
      ]
     },
     "metadata": {},
     "output_type": "display_data"
    },
    {
     "data": {
      "text/plain": [
       "<Figure size 720x720 with 0 Axes>"
      ]
     },
     "metadata": {},
     "output_type": "display_data"
    },
    {
     "data": {
      "text/plain": [
       "<Figure size 720x720 with 0 Axes>"
      ]
     },
     "metadata": {},
     "output_type": "display_data"
    },
    {
     "data": {
      "text/plain": [
       "<Figure size 720x720 with 0 Axes>"
      ]
     },
     "metadata": {},
     "output_type": "display_data"
    },
    {
     "data": {
      "text/plain": [
       "<Figure size 720x720 with 0 Axes>"
      ]
     },
     "metadata": {},
     "output_type": "display_data"
    },
    {
     "data": {
      "text/plain": [
       "<Figure size 720x720 with 0 Axes>"
      ]
     },
     "metadata": {},
     "output_type": "display_data"
    },
    {
     "data": {
      "text/plain": [
       "<Figure size 720x720 with 0 Axes>"
      ]
     },
     "metadata": {},
     "output_type": "display_data"
    },
    {
     "data": {
      "text/plain": [
       "<Figure size 720x720 with 0 Axes>"
      ]
     },
     "metadata": {},
     "output_type": "display_data"
    },
    {
     "data": {
      "text/plain": [
       "<Figure size 720x720 with 0 Axes>"
      ]
     },
     "metadata": {},
     "output_type": "display_data"
    },
    {
     "data": {
      "text/plain": [
       "<Figure size 720x720 with 0 Axes>"
      ]
     },
     "metadata": {},
     "output_type": "display_data"
    },
    {
     "data": {
      "text/plain": [
       "<Figure size 720x720 with 0 Axes>"
      ]
     },
     "metadata": {},
     "output_type": "display_data"
    },
    {
     "data": {
      "text/plain": [
       "<Figure size 720x720 with 0 Axes>"
      ]
     },
     "metadata": {},
     "output_type": "display_data"
    },
    {
     "data": {
      "text/plain": [
       "<Figure size 720x720 with 0 Axes>"
      ]
     },
     "metadata": {},
     "output_type": "display_data"
    },
    {
     "data": {
      "text/plain": [
       "<Figure size 720x720 with 0 Axes>"
      ]
     },
     "metadata": {},
     "output_type": "display_data"
    },
    {
     "data": {
      "text/plain": [
       "<Figure size 720x720 with 0 Axes>"
      ]
     },
     "metadata": {},
     "output_type": "display_data"
    },
    {
     "data": {
      "text/plain": [
       "<Figure size 720x720 with 0 Axes>"
      ]
     },
     "metadata": {},
     "output_type": "display_data"
    },
    {
     "data": {
      "text/plain": [
       "<Figure size 720x720 with 0 Axes>"
      ]
     },
     "metadata": {},
     "output_type": "display_data"
    },
    {
     "data": {
      "text/plain": [
       "<Figure size 720x720 with 0 Axes>"
      ]
     },
     "metadata": {},
     "output_type": "display_data"
    },
    {
     "data": {
      "text/plain": [
       "<Figure size 720x720 with 0 Axes>"
      ]
     },
     "metadata": {},
     "output_type": "display_data"
    },
    {
     "data": {
      "text/plain": [
       "<Figure size 720x720 with 0 Axes>"
      ]
     },
     "metadata": {},
     "output_type": "display_data"
    },
    {
     "data": {
      "text/plain": [
       "<Figure size 720x720 with 0 Axes>"
      ]
     },
     "metadata": {},
     "output_type": "display_data"
    },
    {
     "data": {
      "text/plain": [
       "<Figure size 720x720 with 0 Axes>"
      ]
     },
     "metadata": {},
     "output_type": "display_data"
    },
    {
     "data": {
      "text/plain": [
       "<Figure size 720x720 with 0 Axes>"
      ]
     },
     "metadata": {},
     "output_type": "display_data"
    },
    {
     "data": {
      "text/plain": [
       "<Figure size 720x720 with 0 Axes>"
      ]
     },
     "metadata": {},
     "output_type": "display_data"
    },
    {
     "data": {
      "text/plain": [
       "<Figure size 720x720 with 0 Axes>"
      ]
     },
     "metadata": {},
     "output_type": "display_data"
    },
    {
     "data": {
      "text/plain": [
       "<Figure size 720x720 with 0 Axes>"
      ]
     },
     "metadata": {},
     "output_type": "display_data"
    },
    {
     "data": {
      "text/plain": [
       "<Figure size 720x720 with 0 Axes>"
      ]
     },
     "metadata": {},
     "output_type": "display_data"
    },
    {
     "data": {
      "text/plain": [
       "<Figure size 720x720 with 0 Axes>"
      ]
     },
     "metadata": {},
     "output_type": "display_data"
    },
    {
     "data": {
      "text/plain": [
       "<Figure size 720x720 with 0 Axes>"
      ]
     },
     "metadata": {},
     "output_type": "display_data"
    },
    {
     "data": {
      "text/plain": [
       "<Figure size 720x720 with 0 Axes>"
      ]
     },
     "metadata": {},
     "output_type": "display_data"
    },
    {
     "data": {
      "text/plain": [
       "<Figure size 720x720 with 0 Axes>"
      ]
     },
     "metadata": {},
     "output_type": "display_data"
    },
    {
     "data": {
      "text/plain": [
       "<Figure size 720x720 with 0 Axes>"
      ]
     },
     "metadata": {},
     "output_type": "display_data"
    },
    {
     "data": {
      "text/plain": [
       "<Figure size 720x720 with 0 Axes>"
      ]
     },
     "metadata": {},
     "output_type": "display_data"
    },
    {
     "data": {
      "text/plain": [
       "<Figure size 720x720 with 0 Axes>"
      ]
     },
     "metadata": {},
     "output_type": "display_data"
    },
    {
     "data": {
      "text/plain": [
       "<Figure size 720x720 with 0 Axes>"
      ]
     },
     "metadata": {},
     "output_type": "display_data"
    },
    {
     "data": {
      "text/plain": [
       "<Figure size 720x720 with 0 Axes>"
      ]
     },
     "metadata": {},
     "output_type": "display_data"
    },
    {
     "data": {
      "text/plain": [
       "<Figure size 720x720 with 0 Axes>"
      ]
     },
     "metadata": {},
     "output_type": "display_data"
    },
    {
     "data": {
      "text/plain": [
       "<Figure size 720x720 with 0 Axes>"
      ]
     },
     "metadata": {},
     "output_type": "display_data"
    },
    {
     "data": {
      "text/plain": [
       "<Figure size 720x720 with 0 Axes>"
      ]
     },
     "metadata": {},
     "output_type": "display_data"
    }
   ],
   "source": [
    "\n",
    "\n",
    "Precision_log = []\n",
    "Recall_log = []\n",
    "\n",
    "annotation_shape_files_cleaned = []\n",
    "\n",
    "for annotation_file_path in tqdm(annotation_shape_files):\n",
    "\n",
    "\n",
    "    base_name = '_'.join(annotation_file_path.split('/')[-1].split('_')[0:2])   # name of datasets to match\n",
    "    print(base_name)\n",
    "\n",
    "    \n",
    "    # convert esri shapefiles to shapely objects\n",
    "    # check valid geometries\n",
    "    annotation_valid_shape_list, crs_check = check_valid_geometries(annotation_file_path)\n",
    "    \n",
    "    if not crs_check:\n",
    "        print('crs not epsg:4623, skipping...')\n",
    "        continue\n",
    "\n",
    "    # convert list to shapely MultiPolgyons (in wgs84)\n",
    "    annotation_wgs_shp = unary_union([shape(pol['geometry']) for pol in annotation_valid_shape_list])\n",
    "    \n",
    "    inference_match_path = \"../../data/nir_green_blue/vectors/{}*.geojson\".format(base_name)\n",
    "    # find inference file in folder\n",
    "    \n",
    "    plt.figure(figsize = (10,10))\n",
    "    \n",
    "    \n",
    "    try:\n",
    "        inference_shape_files = glob.glob(inference_match_path)\n",
    "        inference_file_path = inference_shape_files[0]\n",
    "        df = gpd.read_file(inference_file_path)\n",
    "        inference_wgs_shp = cascaded_union([shape(poly) for poly in df.geometry])\n",
    "   \n",
    "    except Exception as e:\n",
    "        print(e)\n",
    "        print('no matching inference found, skipping...')\n",
    "        continue\n",
    "    \n",
    "    \n",
    "    source_data_match_path = \"../../data/source_data/{}*.tif\".format(base_name)\n",
    "    \n",
    "    try:\n",
    "        raster_shape_files = glob.glob(source_data_match_path)\n",
    "        raster_file_path = raster_shape_files[0]\n",
    "        \n",
    "        raster_data = rasterio.open(raster_file_path)\n",
    "            \n",
    "    except Exception as e:\n",
    "        print(e)\n",
    "\n",
    "    if verbose > 0:\n",
    "        print(annotation_file_path)\n",
    "        print(inference_file_path)\n",
    "\n",
    "    Precision, Recall = custom_metric_calculation(base_name, \n",
    "                                                  raster_data,\n",
    "                                                  inference_wgs_shp,\n",
    "                                                  annotation_wgs_shp,\n",
    "                                                  buffer_size,\n",
    "                                                  verbose)\n",
    " \n",
    "\n",
    "    \n",
    "    print('Recall    @ {}m is {}%'.format(buffer_size, round(Recall * 100,3)))\n",
    "    print('Precision @ {}m is {}%'.format(buffer_size, round(Precision * 100,3)))\n",
    "    \n",
    "    if Precision < 0.5 or Recall < 0.5:\n",
    "        remove = 'n' #input('remove? y/n')\n",
    "    else:\n",
    "        remove = 'n'\n",
    "    \n",
    "    if remove is not 'y':\n",
    "        annotation_shape_files_cleaned.append(annotation_file_path)\n",
    "        \n",
    "    if remove is not 'y':\n",
    "        Precision_log.append(Precision)\n",
    "        Recall_log.append(Recall)\n",
    "\n"
   ]
  },
  {
   "cell_type": "code",
   "execution_count": 20,
   "metadata": {},
   "outputs": [
    {
     "data": {
      "text/plain": [
       "'Jakarta_237'"
      ]
     },
     "execution_count": 20,
     "metadata": {},
     "output_type": "execute_result"
    }
   ],
   "source": [
    "base_name"
   ]
  },
  {
   "cell_type": "code",
   "execution_count": 21,
   "metadata": {},
   "outputs": [
    {
     "data": {
      "text/plain": [
       "147"
      ]
     },
     "execution_count": 21,
     "metadata": {},
     "output_type": "execute_result"
    }
   ],
   "source": [
    "len(Recall_log)"
   ]
  },
  {
   "cell_type": "code",
   "execution_count": 22,
   "metadata": {},
   "outputs": [
    {
     "name": "stdout",
     "output_type": "stream",
     "text": [
      "average recall:  0.8048 \n",
      "average precision:  0.8994\n"
     ]
    }
   ],
   "source": [
    "average_recall = round(np.average(np.array(Recall_log)[np.argwhere([selection > 0 for selection in Recall_log])]), 4)\n",
    "average_precision = round(np.average(np.array(Precision_log)[np.argwhere([selection > 0 for selection in Precision_log])]),4)\n",
    "\n",
    "print('average recall: ', average_recall, '\\naverage precision: ', average_precision)"
   ]
  },
  {
   "cell_type": "code",
   "execution_count": 24,
   "metadata": {},
   "outputs": [
    {
     "data": {
      "text/plain": [
       "(array([ 2.,  2.,  4.,  2.,  8., 12., 15., 16., 35., 50.]),\n",
       " array([0.159 , 0.2431, 0.3272, 0.4113, 0.4954, 0.5795, 0.6636, 0.7477,\n",
       "        0.8318, 0.9159, 1.    ]),\n",
       " <a list of 10 Patch objects>)"
      ]
     },
     "execution_count": 24,
     "metadata": {},
     "output_type": "execute_result"
    },
    {
     "data": {
      "image/png": "[encoded data removed]",
      "text/plain": [
       "<Figure size 432x288 with 1 Axes>"
      ]
     },
     "metadata": {},
     "output_type": "display_data"
    }
   ],
   "source": [
    "plt.hist(np.array(Recall_log)[np.argwhere([selection > 0 for selection in Recall_log])])"
   ]
  },
  {
   "cell_type": "code",
   "execution_count": 26,
   "metadata": {},
   "outputs": [
    {
     "data": {
      "text/plain": [
       "(array([ 1.,  0.,  1.,  1.,  1.,  2.,  5., 12., 29., 94.]),\n",
       " array([0.065 , 0.1585, 0.252 , 0.3455, 0.439 , 0.5325, 0.626 , 0.7195,\n",
       "        0.813 , 0.9065, 1.    ]),\n",
       " <a list of 10 Patch objects>)"
      ]
     },
     "execution_count": 26,
     "metadata": {},
     "output_type": "execute_result"
    },
    {
     "data": {
      "image/png": "[encoded data removed]",
      "text/plain": [
       "<Figure size 432x288 with 1 Axes>"
      ]
     },
     "metadata": {},
     "output_type": "display_data"
    }
   ],
   "source": [
    "plt.hist(np.array(Precision_log)[np.argwhere([selection > 0 for selection in Precision_log])])"
   ]
  },
  {
   "cell_type": "code",
   "execution_count": null,
   "metadata": {},
   "outputs": [],
   "source": []
  }
 ],
 "metadata": {
  "kernelspec": {
   "display_name": "Environment (conda_python3)",
   "language": "python",
   "name": "conda_python3"
  },
  "language_info": {
   "codemirror_mode": {
    "name": "ipython",
    "version": 3
   },
   "file_extension": ".py",
   "mimetype": "text/x-python",
   "name": "python",
   "nbconvert_exporter": "python",
   "pygments_lexer": "ipython3",
   "version": "3.6.5"
  }
 },
 "nbformat": 4,
 "nbformat_minor": 4
}
