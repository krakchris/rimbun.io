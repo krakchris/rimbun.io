{
 "cells": [
  {
   "cell_type": "code",
   "execution_count": 1,
   "metadata": {},
   "outputs": [],
   "source": [
    "# add helper function location\n",
    "import sys \n",
    "sys.path.append('../../functions')\n",
    "\n",
    "# import helper functions \n",
    "from helpers import *"
   ]
  },
  {
   "cell_type": "code",
   "execution_count": 8,
   "metadata": {},
   "outputs": [],
   "source": [
    "# Use conda_python3 environment in Deep learning AMI\n",
    "\n",
    "#load packages\n",
    "from tqdm.notebook import tqdm\n",
    "import boto3\n",
    "import os\n"
   ]
  },
  {
   "cell_type": "code",
   "execution_count": 9,
   "metadata": {},
   "outputs": [],
   "source": [
    "# set parameters\n",
    "bucket = 'gcw-rimbunio-common-input-data-dev'\n",
    "\n",
    "prefix = 'input_data/water_annotations/'\n",
    "\n",
    "local = '../../data/hand_annotations/'"
   ]
  },
  {
   "cell_type": "code",
   "execution_count": 10,
   "metadata": {},
   "outputs": [
    {
     "name": "stdout",
     "output_type": "stream",
     "text": [
      "Directory  ../../data/hand_annotations/  already exists...\n"
     ]
    }
   ],
   "source": [
    "# create download directory if it does not exist\n",
    "make_dir(local)"
   ]
  },
  {
   "cell_type": "code",
   "execution_count": 11,
   "metadata": {},
   "outputs": [],
   "source": [
    "s3_resource = boto3.resource('s3')\n",
    "my_bucket = s3_resource.Bucket(bucket)\n",
    "objects = my_bucket.objects.filter(Prefix=prefix)"
   ]
  },
  {
   "cell_type": "code",
   "execution_count": 12,
   "metadata": {},
   "outputs": [
    {
     "name": "stdout",
     "output_type": "stream",
     "text": [
      "number of objects 1307\n"
     ]
    }
   ],
   "source": [
    "total_nr = len([obj for obj in objects])\n",
    "print('number of objects', total_nr)"
   ]
  },
  {
   "cell_type": "code",
   "execution_count": 15,
   "metadata": {},
   "outputs": [
    {
     "data": {
      "application/vnd.jupyter.widget-view+json": {
       "model_id": "c31b3f41b7dd46c18232339266dc3c4c",
       "version_major": 2,
       "version_minor": 0
      },
      "text/plain": [
       "HBox(children=(HTML(value=''), FloatProgress(value=0.0, max=1307.0), HTML(value='')))"
      ]
     },
     "metadata": {},
     "output_type": "display_data"
    },
    {
     "name": "stdout",
     "output_type": "stream",
     "text": [
      "['input_data', 'water_annotations', '']\n",
      "../../data/hand_annotations/water_annotations\n",
      "['input_data', 'water_annotations', 'islands_annotations', '']\n",
      "../../data/hand_annotations/islands_annotations\n",
      "['input_data', 'water_annotations', 'water_annotations', '']\n",
      "\n"
     ]
    }
   ],
   "source": [
    "# download files in thier respective directories\n",
    "\n",
    "for obj in tqdm(objects, total = total_nr):\n",
    "    \n",
    "    if obj.key.endswith('/'):\n",
    "        \n",
    "        split_path = obj.key.split('/')\n",
    "        \n",
    "        print(split_path)\n",
    "        \n",
    "        if not os.path.exists(local+split_path[-2]):\n",
    "            \n",
    "            print(local+split_path[-2])\n",
    "            \n",
    "            os.makedirs(local+split_path[-2])\n",
    "    else:\n",
    "\n",
    "        split_path = obj.key.split('/')\n",
    "        \n",
    "        my_bucket.download_file(obj.key, local+'/'.join(split_path[-2:]))"
   ]
  }
 ],
 "metadata": {
  "kernelspec": {
   "display_name": "Environment (conda_python3)",
   "language": "python",
   "name": "conda_python3"
  },
  "language_info": {
   "codemirror_mode": {
    "name": "ipython",
    "version": 3
   },
   "file_extension": ".py",
   "mimetype": "text/x-python",
   "name": "python",
   "nbconvert_exporter": "python",
   "pygments_lexer": "ipython3",
   "version": "3.6.5"
  }
 },
 "nbformat": 4,
 "nbformat_minor": 2
}
