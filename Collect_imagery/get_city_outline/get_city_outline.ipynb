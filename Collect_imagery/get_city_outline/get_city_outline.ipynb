{
 "cells": [
  {
   "cell_type": "markdown",
   "metadata": {},
   "source": [
    "# Run a whole city by dividing it up in gridcells\n",
    "\n",
    "1. [x] get city bounds\n",
    "2. [x] convert that to utm\n",
    "3. [x] create grid/sliding window\n",
    "4. [x] convert to polygons\n",
    "5. [x] write polygons to geojson"
   ]
  },
  {
   "cell_type": "code",
   "execution_count": 1,
   "metadata": {},
   "outputs": [],
   "source": [
    "# get city outlines from OSM easily\n",
    "import osmnx as ox\n",
    "\n",
    "# geospatial operations on points, polygons, polylines (e.g. shapes) \n",
    "import shapely\n",
    "\n",
    "# shapely function to create shapely object from GeoJSON\n",
    "from shapely.geometry import shape, Polygon\n",
    "\n",
    "# plotting tools \n",
    "import folium\n",
    "\n",
    "# OSM api\n",
    "import overpass\n",
    "\n",
    "\n",
    "## dealing with files\n",
    "# we use fiona to read shapefiles\n",
    "import fiona\n",
    "# we use ogr to write shapefiles\n",
    "from osgeo import ogr\n",
    "\n",
    "import matplotlib.pyplot as plt\n",
    "\n",
    "\n",
    "from shapely.ops import cascaded_union\n",
    "from shapely.geometry import MultiPolygon, Polygon, Point, MultiPoint\n",
    "from itertools import chain\n",
    "\n",
    "from shapely.ops import transform\n",
    "from shapely import ops\n",
    "from functools import partial\n",
    "import pyproj\n",
    "\n",
    "from shapely.ops import cascaded_union, unary_union\n",
    "from shapely.affinity import translate\n",
    "import fiona"
   ]
  },
  {
   "cell_type": "code",
   "execution_count": 2,
   "metadata": {},
   "outputs": [],
   "source": [
    "def wgs2epsg(x,y):\n",
    "    EPSG = int(32700-round((45+y)/90,0)*100+round((183+x)/6,0))\n",
    "    UTM_EPSG_code = EPSG\n",
    "    \n",
    "    return UTM_EPSG_code"
   ]
  },
  {
   "cell_type": "markdown",
   "metadata": {},
   "source": [
    "## Define parameters"
   ]
  },
  {
   "cell_type": "code",
   "execution_count": 3,
   "metadata": {},
   "outputs": [],
   "source": [
    "search_water = False\n",
    "\n",
    "country_name = 'Indonesia'\n",
    "\n",
    "cities = [\n",
    "'Jakarta',\n",
    "['Jakarta','Bogor','Depok','Tangerang','Bekasi'],\n",
    "'Cilegon',\n",
    "'Pekanbaru',\n",
    "'Batam',\n",
    "'Sabang',\n",
    "'Solok',\n",
    "'Semarang',\n",
    "'Denpasar', \n",
    "'Balikpapan', \n",
    "'Pontianak', \n",
    "'Makassar',\n",
    "'Binjai',            # additional 20?\n",
    "'Medan',\n",
    "'Bandar Lampung',\n",
    "'Bukit Tinggi',\n",
    "'Tanjung Balai',\n",
    "'Sungai Penuh',\n",
    "'Metro',\n",
    "'Dumai',\n",
    "'Pematang Siantar',\n",
    "'Gunung Sitoli',\n",
    "'Banda Aceh',\n",
    "'Tangerang Selatan',\n",
    "'Surakarta',\n",
    "'Depok',\n",
    "'Pekalongan']"
   ]
  },
  {
   "cell_type": "markdown",
   "metadata": {},
   "source": [
    "# Get ocean"
   ]
  },
  {
   "cell_type": "code",
   "execution_count": 6,
   "metadata": {},
   "outputs": [
    {
     "data": {
      "text/plain": [
       "('/media/chris/ChrisBackup/GreenCityWatch/rimbun.io/notebooks',\n",
       " ['../../data/ne_10m_ocean/ne_10m_ocean.shp',\n",
       "  '../../data/ne_10m_ocean/ne_10m_ocean_fixed_geometries.shp'],\n",
       " '../../data/ne_10m_ocean/ne_10m_ocean.shp')"
      ]
     },
     "execution_count": 6,
     "metadata": {},
     "output_type": "execute_result"
    }
   ],
   "source": [
    "## Read polygons from file and apply as gee geometries\n",
    "import fiona\n",
    "from shapely.geometry import shape, MultiPolygon, Polygon\n",
    "import glob\n",
    "\n",
    "# current working directory\n",
    "import os\n",
    "cwd = os.getcwd()\n",
    "\n",
    "# find files in shapefile folder\n",
    "shape_file_path = '../../data/ne_10m_ocean/*.shp'\n",
    "shape_files = glob.glob(shape_file_path)\n",
    "path = shape_files[0]\n",
    "\n",
    "shp_ocean = [shape(pol['geometry']) for pol in fiona.open(path)][0]\n",
    "shp_ocean = shp_ocean.simplify(0.0001)\n",
    "id_list = [pol['id'] for pol in fiona.open(path)]\n",
    "\n",
    "cwd, shape_files, path"
   ]
  },
  {
   "cell_type": "markdown",
   "metadata": {},
   "source": [
    "# Get city"
   ]
  },
  {
   "cell_type": "code",
   "execution_count": 7,
   "metadata": {},
   "outputs": [
    {
     "data": {
      "image/png": "[encoded data removed]",
      "text/plain": [
       "<Figure size 432x288 with 1 Axes>"
      ]
     },
     "metadata": {
      "needs_background": "light"
     },
     "output_type": "display_data"
    }
   ],
   "source": [
    "plot_shapes = True\n",
    "\n",
    "shp_list_cities = []\n",
    "shp_list_water = []\n",
    "id_list_water = []\n",
    "\n",
    "# initiate overpass API\n",
    "api = overpass.API()\n",
    "\n",
    "# for city in cities:\n",
    "\n",
    "city_name = cities[0]\n",
    "\n",
    "# sigle\n",
    "if type(city_name) == str:\n",
    "    city_query = '{}, {}'.format(city_name, country_name)\n",
    "    ox_city = ox.gdf_from_place(city_query)\n",
    "    shp_city_ox = ox_city.geometry\n",
    "    \n",
    "    shp_city_ox = [shp_city_ox]\n",
    "    \n",
    "# multiple cities\n",
    "else:\n",
    "    city_query = []\n",
    "    for city in city_name:\n",
    "        city_query.append('{}, {}'.format(city, country_name))\n",
    "        \n",
    "    ox_city = ox.gdf_from_places(city_query)\n",
    "    shp_city_ox = ox_city.geometry\n",
    "\n",
    "\n",
    "    \n",
    "shp_city_list = []\n",
    "\n",
    "for shp in shp_city_ox: \n",
    "\n",
    "    if shp[0].type == 'Point':\n",
    "        shp = shp.buffer(0.1)\n",
    "\n",
    "    if shp[0].type == 'LineString':\n",
    "        shp = shp.centroid.buffer(0.01)\n",
    "        \n",
    "    shp_city_list.append(shp)\n",
    "    \n",
    "    \n",
    "try:\n",
    "    shp_city = cascaded_union(shp_city_list[0])\n",
    "except Exception as e:\n",
    "    print(e)\n",
    "    print('no union needed')\n",
    "    \n",
    "try:\n",
    "    shp_city_land = shp_city.difference(shp_ocean)\n",
    "except Exception as e:\n",
    "    print(e.message, e.args)\n",
    "    shp_city_land = shp_city\n",
    "\n",
    "try: \n",
    "    len(shp_city_land)\n",
    "    x,y = shp_city_land[0].exterior.xy\n",
    "except:\n",
    "    x,y = shp_city_land.exterior.xy\n",
    "\n",
    "\n",
    "shp_list_cities.append(shp_city_land)\n",
    "\n",
    "\n",
    "if search_water:\n",
    "\n",
    "    # get bounding box\n",
    "    x_w, y_s, x_e, y_n = shp_city_land.bounds\n",
    "\n",
    "    # get water\n",
    "    # create a Query\n",
    "    query_way = 'way[\"natural\"=\"water\"][\"waterway\"!=\"riverbank\"][\"water\"!=\"river\"]({0},{1},{2},{3});(._;>;)'.format(y_s, x_w, y_n, x_e)\n",
    "    query_relation = 'relation[\"natural\"=\"water\"][\"waterway\"!=\"riverbank\"][\"water\"!=\"river\"]({0},{1},{2},{3});(._;>;)'.format(y_s, x_w, y_n, x_e)\n",
    "\n",
    "    try:\n",
    "        response_way = api.get(query_way, responseformat=\"geojson\", verbosity='geom')\n",
    "        response_relation = api.get(query_relation, responseformat=\"geojson\", verbosity='geom')\n",
    "        OSM_data = [f for f in chain(response_way.features, response_relation.features) if (f.geometry['type'] == \"LineString\" and len(f.geometry['coordinates']) > 2)]\n",
    "\n",
    "        shp_water = MultiPolygon([Polygon(shape(pol['geometry'])) for pol in OSM_data]) \n",
    "        id_list = [pol['id'] for pol in OSM_data]\n",
    "\n",
    "        id_list_water.append(id_list)\n",
    "        shp_list_water.append(shp_water)\n",
    "\n",
    "        print(str(len(shp_water)) + ' waterpolygons found')\n",
    "    except Exception as e:\n",
    "        print(e)\n",
    "        print('no water found')\n",
    "\n",
    "if plot_shapes:\n",
    "    \n",
    "    plt.plot(x,y, color = 'r')\n",
    "    \n",
    "    if search_water:\n",
    "        for water in shp_list_water[0]:\n",
    "            x,y = water.boundary.xy\n",
    "            plt.plot(x,y, color = 'b')\n",
    "        \n",
    "    \n",
    "    \n",
    "    plt.axis('equal')\n",
    "    plt.title(str(city_query) + '\\n' + str(shp_city_land.centroid))\n",
    "\n",
    "    plt.show()"
   ]
  },
  {
   "cell_type": "code",
   "execution_count": 8,
   "metadata": {},
   "outputs": [
    {
     "data": {
      "image/png": "[encoded data removed]",
      "text/plain": [
       "<Figure size 432x288 with 1 Axes>"
      ]
     },
     "metadata": {
      "needs_background": "light"
     },
     "output_type": "display_data"
    }
   ],
   "source": [
    "import warnings\n",
    "warnings.filterwarnings('ignore')\n",
    "\n",
    "x,y = shp_city_land.boundary.xy\n",
    "epsg = wgs2epsg(x[0], y[0])\n",
    "\n",
    "#  EPSG:32748 is also known as WGS 84 / UTM zone 48S\n",
    "\n",
    "# set projections\n",
    "project_wgs2utm = partial(\n",
    "    pyproj.transform,\n",
    "    pyproj.Proj(init='epsg:4326'),\n",
    "    pyproj.Proj(init='epsg:{}'.format(epsg)))\n",
    "\n",
    "project_utm2wgs = partial(\n",
    "    pyproj.transform,\n",
    "    pyproj.Proj(init='epsg:{}'.format(epsg)), # from\n",
    "    pyproj.Proj(init='epsg:4326'))            # to\n",
    "\n",
    "shp_city_land_utm = transform(project_wgs2utm, shp_city_land)\n",
    "\n",
    "\n",
    "x,y = shp_city_land_utm.exterior.xy\n",
    "plt.plot(x,y,color = 'r')\n",
    "plt.axis('equal')\n",
    "\n",
    "plt.title(str(city_query) + '\\n' + str(shp_city_land_utm.centroid))\n",
    "\n",
    "plt.show()"
   ]
  },
  {
   "cell_type": "code",
   "execution_count": 9,
   "metadata": {},
   "outputs": [],
   "source": [
    "import geopandas"
   ]
  },
  {
   "cell_type": "code",
   "execution_count": 10,
   "metadata": {},
   "outputs": [],
   "source": [
    "geojson_poly = geopandas.GeoSeries([shp_city_land]).__geo_interface__"
   ]
  },
  {
   "cell_type": "code",
   "execution_count": 11,
   "metadata": {},
   "outputs": [],
   "source": [
    "gdf = geopandas.GeoDataFrame.from_features(geojson_poly)\n",
    "\n",
    "gdf.to_file(\"../../data/rasters_waterbodies_osm/cities/{}_wgs.geojson\".format(city_name), driver='GeoJSON')"
   ]
  }
 ],
 "metadata": {
  "kernelspec": {
   "display_name": "Python [conda env:GISpy_1] *",
   "language": "python",
   "name": "conda-env-GISpy_1-py"
  },
  "language_info": {
   "codemirror_mode": {
    "name": "ipython",
    "version": 3
   },
   "file_extension": ".py",
   "mimetype": "text/x-python",
   "name": "python",
   "nbconvert_exporter": "python",
   "pygments_lexer": "ipython3",
   "version": "3.7.6"
  }
 },
 "nbformat": 4,
 "nbformat_minor": 4
}
