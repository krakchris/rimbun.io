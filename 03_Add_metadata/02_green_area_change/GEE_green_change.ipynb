{
 "cells": [
  {
   "cell_type": "code",
   "execution_count": 480,
   "metadata": {},
   "outputs": [],
   "source": [
    "import pandas as pd\n",
    "import geopandas as gpd\n",
    " \n",
    "def ee_array_to_df(arr, band):\n",
    "    \"\"\"\n",
    "    We create a function with an array as input\n",
    "    We return a pandas df\n",
    "    \"\"\"\n",
    "    df = pd.DataFrame(arr)\n",
    "     \n",
    "    # we rearrange the header\n",
    "    headers = df.iloc[0]\n",
    "    df = pd.DataFrame(df.values[1:], columns = headers)\n",
    " \n",
    "    # we remove raws without data inside:\n",
    "    df = df[['longitude', 'latitude', 'time', band]].dropna()\n",
    "     \n",
    "    # We converr the data to numeric values\n",
    "    df[band] = pd.to_numeric(df[band], errors='coerce')\n",
    "     \n",
    "    # We also convert the Time filed into a datetime\n",
    "    df['datetime'] = pd.to_datetime(df['time'], unit='ms')\n",
    "     \n",
    "    # We keep the columns we want\n",
    "    # df = df[['time','datetime', band]]\n",
    "     \n",
    "    return df\n",
    "\n",
    "\n",
    "def geojson2gee(geojson_path):\n",
    "    \"\"\"\n",
    "    Use geopandas and google earth engine api to convert geojson to gee featurecollection \n",
    "    \"\"\"\n",
    "    \n",
    "    shapefile = gpd.read_file(geojson_path)\n",
    "    \n",
    "    features = []\n",
    "    for i in range(shapefile.shape[0]):\n",
    "        geom = shapefile.iloc[i:i+1,:] \n",
    "        jsonDict = eval(geom.to_json()) \n",
    "        geojsonDict = jsonDict['features'][0] \n",
    "        features.append(ee.Feature(geojsonDict)) \n",
    "\n",
    "    gee_featurecollection = ee.FeatureCollection(features)\n",
    "    \n",
    "    return gee_featurecollection"
   ]
  },
  {
   "cell_type": "code",
   "execution_count": 481,
   "metadata": {},
   "outputs": [],
   "source": [
    "# Import the Earth Engine Python Package\n",
    "import ee # !pip install earthengine-api\n",
    "\n",
    "# Import Dependencies\n",
    "import pandas as pd\n",
    "import matplotlib.dates as mdates\n",
    "from IPython.display import Image\n",
    "from datetime import datetime\n",
    "from matplotlib import dates\n",
    "from pylab import *\n",
    "\n",
    "import geopandas as gpd\n",
    "\n",
    "ee.Initialize()"
   ]
  },
  {
   "cell_type": "code",
   "execution_count": 484,
   "metadata": {},
   "outputs": [
    {
     "data": {
      "text/plain": [
       "(['../../data/hand_annotations/gee_training_data/urban_trainingdata_export.geojson',\n",
       "  '../../data/hand_annotations/gee_training_data/vegetation_trainingdata_export.geojson',\n",
       "  '../../data/hand_annotations/gee_training_data/water_trainingdata_export.geojson'],\n",
       " '/home/ubuntu/rimbun.io/03_Add_metadata/02_green_area_change',\n",
       " '../../data/nir_green_blue/vectors/Jakarta_202_pansharpen_True_2019-07-23_03:16_1030010096702700_05-18-2020_08:55:26.geojson')"
      ]
     },
     "execution_count": 484,
     "metadata": {},
     "output_type": "execute_result"
    }
   ],
   "source": [
    "## Read polygons from file and apply as gee geometries\n",
    "import fiona\n",
    "from shapely.geometry import shape, MultiPolygon, Polygon\n",
    "from shapely.ops import unary_union\n",
    "import glob\n",
    "\n",
    "# current working directory\n",
    "import os\n",
    "cwd = os.getcwd()\n",
    "\n",
    "# find files in shapefile folder\n",
    "shape_file_path = '../../data/hand_annotations/gee_training_data/*.geojson'\n",
    "shape_files = glob.glob(shape_file_path)\n",
    "geojson_path = shape_files[0]\n",
    "\n",
    "shape_files[0:3], cwd, path"
   ]
  },
  {
   "cell_type": "code",
   "execution_count": 485,
   "metadata": {},
   "outputs": [
    {
     "data": {
      "image/svg+xml": [
       "<svg xmlns=\"http://www.w3.org/2000/svg\" xmlns:xlink=\"http://www.w3.org/1999/xlink\" width=\"100.0\" height=\"100.0\" viewBox=\"106.79358379009703 -6.185737870553806 0.09093796221667105 0.0716650595948316\" preserveAspectRatio=\"xMinYMin meet\"><g transform=\"matrix(1,0,0,-1,0,-12.299810681512781)\"><g><path fill-rule=\"evenodd\" fill=\"#66cc99\" stroke=\"#555555\" stroke-width=\"0.001818759244333421\" opacity=\"0.6\" d=\"M 106.8039899792268,-6.159664733014874 L 106.80643615384838,-6.159664733014874 L 106.80643615384838,-6.15386191000851 L 106.8039899792268,-6.15386191000851 L 106.8039899792268,-6.159664733014874 z\" /><path fill-rule=\"evenodd\" fill=\"#66cc99\" stroke=\"#555555\" stroke-width=\"0.001818759244333421\" opacity=\"0.6\" d=\"M 106.79695186277172,-6.155355289634073 L 106.79944095273754,-6.155355289634073 L 106.79944095273754,-6.152496530678216 L 106.79695186277172,-6.152496530678216 L 106.79695186277172,-6.155355289634073 z\" /><path fill-rule=\"evenodd\" fill=\"#66cc99\" stroke=\"#555555\" stroke-width=\"0.001818759244333421\" opacity=\"0.6\" d=\"M 106.82922420163891,-6.152368526186156 L 106.83197078367016,-6.152368526186156 L 106.83197078367016,-6.150491123428123 L 106.82922420163891,-6.150491123428123 L 106.82922420163891,-6.152368526186156 z\" /><path fill-rule=\"evenodd\" fill=\"#66cc99\" stroke=\"#555555\" stroke-width=\"0.001818759244333421\" opacity=\"0.6\" d=\"M 106.84449777168662,-6.166839235254503 L 106.84715852302939,-6.166839235254503 L 106.84715852302939,-6.163767201912993 L 106.84449777168662,-6.163767201912993 L 106.84449777168662,-6.166839235254503 z\" /><path fill-rule=\"evenodd\" fill=\"#66cc99\" stroke=\"#555555\" stroke-width=\"0.001818759244333421\" opacity=\"0.6\" d=\"M 106.85565576118857,-6.172556583250145 L 106.8588314966622,-6.172556583250145 L 106.8588314966622,-6.168460579010173 L 106.85565576118857,-6.168460579010173 L 106.85565576118857,-6.172556583250145 z\" /><path fill-rule=\"evenodd\" fill=\"#66cc99\" stroke=\"#555555\" stroke-width=\"0.001818759244333421\" opacity=\"0.6\" d=\"M 106.79892167610556,-6.182369797879114 L 106.80149659675986,-6.182369797879114 L 106.80149659675986,-6.178871194401926 L 106.79892167610556,-6.178871194401926 L 106.79892167610556,-6.182369797879114 z\" /><path fill-rule=\"evenodd\" fill=\"#66cc99\" stroke=\"#555555\" stroke-width=\"0.001818759244333421\" opacity=\"0.6\" d=\"M 106.8284474329415,-6.158988448027886 L 106.8310223535958,-6.158988448027886 L 106.8310223535958,-6.1558310334692345 L 106.8284474329415,-6.1558310334692345 L 106.8284474329415,-6.158988448027886 z\" /><path fill-rule=\"evenodd\" fill=\"#66cc99\" stroke=\"#555555\" stroke-width=\"0.001818759244333421\" opacity=\"0.6\" d=\"M 106.80296192243686,-6.135021031870386 L 106.80510768964878,-6.135021031870386 L 106.80510768964878,-6.132546191660458 L 106.80296192243686,-6.132546191660458 L 106.80296192243686,-6.135021031870386 z\" /><path fill-rule=\"evenodd\" fill=\"#66cc99\" stroke=\"#555555\" stroke-width=\"0.001818759244333421\" opacity=\"0.6\" d=\"M 106.80373439863315,-6.139970677815103 L 106.80562267377964,-6.139970677815103 L 106.80562267377964,-6.137751876698258 L 106.80373439863315,-6.137751876698258 L 106.80373439863315,-6.139970677815103 z\" /><path fill-rule=\"evenodd\" fill=\"#66cc99\" stroke=\"#555555\" stroke-width=\"0.001818759244333421\" opacity=\"0.6\" d=\"M 106.87660465314976,-6.121366597997149 L 106.88115367963901,-6.121366597997149 L 106.88115367963901,-6.117440883633667 L 106.87660465314976,-6.117440883633667 L 106.87660465314976,-6.121366597997149 z\" /><path fill-rule=\"evenodd\" fill=\"#66cc99\" stroke=\"#555555\" stroke-width=\"0.001818759244333421\" opacity=\"0.6\" d=\"M 106.84072742536655,-6.142274807653093 L 106.84433231428257,-6.142274807653093 L 106.84433231428257,-6.136727811527696 L 106.84072742536655,-6.136727811527696 L 106.84072742536655,-6.142274807653093 z\" /></g></g></svg>"
      ],
      "text/plain": [
       "<shapely.geometry.multipolygon.MultiPolygon at 0x7ff900430cc0>"
      ]
     },
     "execution_count": 485,
     "metadata": {},
     "output_type": "execute_result"
    }
   ],
   "source": [
    "shapefile = gpd.read_file(geojson_path)\n",
    "\n",
    "if len(shapefile) > 1:\n",
    "\n",
    "    shapes_check = MultiPolygon([geom for geom in shapefile.geometry])\n",
    "    \n",
    "else:\n",
    "    \n",
    "    shapes_check = shapefile.geometry[0]\n",
    "    \n",
    "shapes_check"
   ]
  },
  {
   "cell_type": "code",
   "execution_count": 486,
   "metadata": {},
   "outputs": [],
   "source": [
    "rect = geojson2gee(geojson_path)\n",
    "\n"
   ]
  },
  {
   "cell_type": "code",
   "execution_count": 487,
   "metadata": {},
   "outputs": [],
   "source": [
    "## Example geometry structure\n",
    "# feature_geometry = {\n",
    "#     'type': 'MultiPolygon',\n",
    "#     'coordinates': [[[\n",
    "#         [-120, 35],\n",
    "#         [-120.001, 35],\n",
    "#         [-120.001, 35.001],\n",
    "#         [-120, 35.001],\n",
    "#         [-120, 35]\n",
    "#     ]]]\n",
    "# }"
   ]
  },
  {
   "cell_type": "code",
   "execution_count": 488,
   "metadata": {},
   "outputs": [
    {
     "data": {
      "text/plain": [
       "{'type': 'FeatureCollection',\n",
       " 'columns': {'id': 'String', 'system:index': 'String'},\n",
       " 'features': [{'type': 'Feature',\n",
       "   'geometry': {'type': 'Polygon',\n",
       "    'coordinates': [[[106.8039899792268, -6.159664733014874],\n",
       "      [106.80643615384838, -6.159664733014874],\n",
       "      [106.80643615384838, -6.15386191000851],\n",
       "      [106.8039899792268, -6.15386191000851],\n",
       "      [106.8039899792268, -6.159664733014874]]]},\n",
       "   'id': '0',\n",
       "   'properties': {'id': '0'}},\n",
       "  {'type': 'Feature',\n",
       "   'geometry': {'type': 'Polygon',\n",
       "    'coordinates': [[[106.79695186277172, -6.155355289634073],\n",
       "      [106.79944095273754, -6.155355289634073],\n",
       "      [106.79944095273754, -6.152496530678216],\n",
       "      [106.79695186277172, -6.152496530678216],\n",
       "      [106.79695186277172, -6.155355289634073]]]},\n",
       "   'id': '1',\n",
       "   'properties': {'id': '1'}},\n",
       "  {'type': 'Feature',\n",
       "   'geometry': {'type': 'Polygon',\n",
       "    'coordinates': [[[106.82922420163891, -6.152368526186156],\n",
       "      [106.83197078367016, -6.152368526186156],\n",
       "      [106.83197078367016, -6.150491123428123],\n",
       "      [106.82922420163891, -6.150491123428123],\n",
       "      [106.82922420163891, -6.152368526186156]]]},\n",
       "   'id': '2',\n",
       "   'properties': {'id': '2'}},\n",
       "  {'type': 'Feature',\n",
       "   'geometry': {'type': 'Polygon',\n",
       "    'coordinates': [[[106.84449777168662, -6.166839235254503],\n",
       "      [106.84715852302939, -6.166839235254503],\n",
       "      [106.84715852302939, -6.163767201912993],\n",
       "      [106.84449777168662, -6.163767201912993],\n",
       "      [106.84449777168662, -6.166839235254503]]]},\n",
       "   'id': '3',\n",
       "   'properties': {'id': '3'}},\n",
       "  {'type': 'Feature',\n",
       "   'geometry': {'type': 'Polygon',\n",
       "    'coordinates': [[[106.85565576118857, -6.172556583250145],\n",
       "      [106.8588314966622, -6.172556583250145],\n",
       "      [106.8588314966622, -6.168460579010173],\n",
       "      [106.85565576118857, -6.168460579010173],\n",
       "      [106.85565576118857, -6.172556583250145]]]},\n",
       "   'id': '4',\n",
       "   'properties': {'id': '4'}},\n",
       "  {'type': 'Feature',\n",
       "   'geometry': {'type': 'Polygon',\n",
       "    'coordinates': [[[106.79892167610556, -6.182369797879114],\n",
       "      [106.80149659675986, -6.182369797879114],\n",
       "      [106.80149659675986, -6.178871194401926],\n",
       "      [106.79892167610556, -6.178871194401926],\n",
       "      [106.79892167610556, -6.182369797879114]]]},\n",
       "   'id': '5',\n",
       "   'properties': {'id': '5'}},\n",
       "  {'type': 'Feature',\n",
       "   'geometry': {'type': 'Polygon',\n",
       "    'coordinates': [[[106.8284474329415, -6.158988448027886],\n",
       "      [106.8310223535958, -6.158988448027886],\n",
       "      [106.8310223535958, -6.1558310334692345],\n",
       "      [106.8284474329415, -6.1558310334692345],\n",
       "      [106.8284474329415, -6.158988448027886]]]},\n",
       "   'id': '6',\n",
       "   'properties': {'id': '6'}},\n",
       "  {'type': 'Feature',\n",
       "   'geometry': {'type': 'Polygon',\n",
       "    'coordinates': [[[106.80296192243686, -6.135021031870386],\n",
       "      [106.80510768964878, -6.135021031870386],\n",
       "      [106.80510768964878, -6.132546191660458],\n",
       "      [106.80296192243686, -6.132546191660458],\n",
       "      [106.80296192243686, -6.135021031870386]]]},\n",
       "   'id': '7',\n",
       "   'properties': {'id': '7'}},\n",
       "  {'type': 'Feature',\n",
       "   'geometry': {'type': 'Polygon',\n",
       "    'coordinates': [[[106.80373439863315, -6.139970677815103],\n",
       "      [106.80562267377964, -6.139970677815103],\n",
       "      [106.80562267377964, -6.137751876698258],\n",
       "      [106.80373439863315, -6.137751876698258],\n",
       "      [106.80373439863315, -6.139970677815103]]]},\n",
       "   'id': '8',\n",
       "   'properties': {'id': '8'}},\n",
       "  {'type': 'Feature',\n",
       "   'geometry': {'type': 'Polygon',\n",
       "    'coordinates': [[[106.87660465314976, -6.121366597997149],\n",
       "      [106.88115367963901, -6.121366597997149],\n",
       "      [106.88115367963901, -6.117440883633667],\n",
       "      [106.87660465314976, -6.117440883633667],\n",
       "      [106.87660465314976, -6.121366597997149]]]},\n",
       "   'id': '9',\n",
       "   'properties': {'id': '9'}},\n",
       "  {'type': 'Feature',\n",
       "   'geometry': {'type': 'Polygon',\n",
       "    'coordinates': [[[106.84072742536655, -6.142274807653093],\n",
       "      [106.84433231428257, -6.142274807653093],\n",
       "      [106.84433231428257, -6.136727811527696],\n",
       "      [106.84072742536655, -6.136727811527696],\n",
       "      [106.84072742536655, -6.142274807653093]]]},\n",
       "   'id': '10',\n",
       "   'properties': {'id': '10'}}]}"
      ]
     },
     "execution_count": 488,
     "metadata": {},
     "output_type": "execute_result"
    }
   ],
   "source": [
    "# convert geometry to JSON format\n",
    "rect_JSON = rect.getInfo()#['coordinates']\n",
    "\n",
    "rect_JSON"
   ]
  },
  {
   "cell_type": "code",
   "execution_count": 489,
   "metadata": {},
   "outputs": [],
   "source": [
    "# set variables\n",
    "SCALE = 10;\n",
    "polarization = 'VV'; # Polygonvertical/vertical or vertical/horizontal"
   ]
  },
  {
   "cell_type": "code",
   "execution_count": 490,
   "metadata": {},
   "outputs": [],
   "source": [
    "# initiate google earth engine to aquire the image\n",
    "S1 = ee.ImageCollection('COPERNICUS/S1_GRD')\\\n",
    ".filterDate('2019-01-01', '2019-12-12')\\\n",
    ".filter(ee.Filter.listContains('transmitterReceiverPolarisation', polarization))\\\n",
    ".filter(ee.Filter.eq('instrumentMode', 'IW'))\\\n",
    ".filter(ee.Filter.eq('orbitProperties_pass', 'DESCENDING'))\\\n",
    ".select(polarization)\\\n",
    ".filterBounds(rect)\\\n"
   ]
  },
  {
   "cell_type": "code",
   "execution_count": 491,
   "metadata": {},
   "outputs": [
    {
     "data": {
      "text/html": [
       "<img src=\"https://earthengine.googleapis.com/v1alpha/projects/earthengine-legacy/thumbnails/df8b24bdd8b86c48bbf3e906911af022-e206d0732f6cbb0918adb4b5157e6fc7:getPixels\"/>"
      ],
      "text/plain": [
       "<IPython.core.display.Image object>"
      ]
     },
     "execution_count": 491,
     "metadata": {},
     "output_type": "execute_result"
    }
   ],
   "source": [
    "# visualize resulting image\n",
    "img_url = S1.first().getThumbUrl({\n",
    "    'region':rect.geometry(),\n",
    "    'min':-25,\n",
    "    'max':0,\n",
    "    'palette':['0784b5', '39ace7', '9bd4e4', 'cadeef', 'ffffff'],\n",
    "    'maxPixels': 1e9\n",
    "})\n",
    "\n",
    "Image(url = img_url)"
   ]
  },
  {
   "cell_type": "code",
   "execution_count": 492,
   "metadata": {},
   "outputs": [
    {
     "data": {
      "text/plain": [
       "True"
      ]
     },
     "execution_count": 492,
     "metadata": {},
     "output_type": "execute_result"
    }
   ],
   "source": [
    "isinstance(rect, ee.ComputedObject)"
   ]
  },
  {
   "cell_type": "code",
   "execution_count": 493,
   "metadata": {},
   "outputs": [
    {
     "name": "stdout",
     "output_type": "stream",
     "text": [
      "succes at scale 10\n"
     ]
    }
   ],
   "source": [
    "scale_list = [10, 20, 100, 200, 300]\n",
    "\n",
    "for scale_factor in scale_list:\n",
    "\n",
    "    try: \n",
    "        gee_data_array = S1.getRegion(rect, scale = scale_factor).getInfo()\n",
    "        print('succes at scale ' + str(scale_factor))\n",
    "        break\n",
    "    except:\n",
    "        print('error at scale ' + str(scale_factor))\n",
    "        continue\n",
    "        "
   ]
  },
  {
   "cell_type": "code",
   "execution_count": 494,
   "metadata": {},
   "outputs": [],
   "source": [
    "df = ee_array_to_df(gee_data_array, 'VV')"
   ]
  },
  {
   "cell_type": "code",
   "execution_count": 495,
   "metadata": {},
   "outputs": [
    {
     "data": {
      "text/html": [
       "<div>\n",
       "<style scoped>\n",
       "    .dataframe tbody tr th:only-of-type {\n",
       "        vertical-align: middle;\n",
       "    }\n",
       "\n",
       "    .dataframe tbody tr th {\n",
       "        vertical-align: top;\n",
       "    }\n",
       "\n",
       "    .dataframe thead th {\n",
       "        text-align: right;\n",
       "    }\n",
       "</style>\n",
       "<table border=\"1\" class=\"dataframe\">\n",
       "  <thead>\n",
       "    <tr style=\"text-align: right;\">\n",
       "      <th></th>\n",
       "      <th>VV</th>\n",
       "    </tr>\n",
       "  </thead>\n",
       "  <tbody>\n",
       "    <tr>\n",
       "      <th>count</th>\n",
       "      <td>334896.000000</td>\n",
       "    </tr>\n",
       "    <tr>\n",
       "      <th>mean</th>\n",
       "      <td>-3.952757</td>\n",
       "    </tr>\n",
       "    <tr>\n",
       "      <th>std</th>\n",
       "      <td>3.236582</td>\n",
       "    </tr>\n",
       "    <tr>\n",
       "      <th>min</th>\n",
       "      <td>-16.696298</td>\n",
       "    </tr>\n",
       "    <tr>\n",
       "      <th>25%</th>\n",
       "      <td>-6.139662</td>\n",
       "    </tr>\n",
       "    <tr>\n",
       "      <th>50%</th>\n",
       "      <td>-4.247836</td>\n",
       "    </tr>\n",
       "    <tr>\n",
       "      <th>75%</th>\n",
       "      <td>-2.139019</td>\n",
       "    </tr>\n",
       "    <tr>\n",
       "      <th>max</th>\n",
       "      <td>13.809344</td>\n",
       "    </tr>\n",
       "  </tbody>\n",
       "</table>\n",
       "</div>"
      ],
      "text/plain": [
       "0                 VV\n",
       "count  334896.000000\n",
       "mean       -3.952757\n",
       "std         3.236582\n",
       "min       -16.696298\n",
       "25%        -6.139662\n",
       "50%        -4.247836\n",
       "75%        -2.139019\n",
       "max        13.809344"
      ]
     },
     "execution_count": 495,
     "metadata": {},
     "output_type": "execute_result"
    }
   ],
   "source": [
    "df.describe()"
   ]
  },
  {
   "cell_type": "code",
   "execution_count": 496,
   "metadata": {},
   "outputs": [],
   "source": [
    "import geopandas as gpd"
   ]
  },
  {
   "cell_type": "code",
   "execution_count": 497,
   "metadata": {},
   "outputs": [],
   "source": [
    "gdf = gpd.GeoDataFrame(df,geometry=gpd.points_from_xy(df.longitude, df.latitude))"
   ]
  },
  {
   "cell_type": "code",
   "execution_count": 498,
   "metadata": {},
   "outputs": [
    {
     "data": {
      "text/plain": [
       "<matplotlib.axes._subplots.AxesSubplot at 0x7ff8e2a80588>"
      ]
     },
     "execution_count": 498,
     "metadata": {},
     "output_type": "execute_result"
    },
    {
     "data": {
      "image/png": "[encoded data removed]",
      "text/plain": [
       "<Figure size 720x720 with 1 Axes>"
      ]
     },
     "metadata": {},
     "output_type": "display_data"
    }
   ],
   "source": [
    "gdf.plot(figsize = (10,10), cmap='Greys')"
   ]
  },
  {
   "cell_type": "code",
   "execution_count": 471,
   "metadata": {},
   "outputs": [
    {
     "data": {
      "text/plain": [
       "0   -11.716133\n",
       "1    -7.660871\n",
       "2    -7.470847\n",
       "3    -9.131988\n",
       "4   -11.700050\n",
       "Name: VV, dtype: float64"
      ]
     },
     "execution_count": 471,
     "metadata": {},
     "output_type": "execute_result"
    }
   ],
   "source": [
    "gdf.VV[0:5]"
   ]
  },
  {
   "cell_type": "code",
   "execution_count": 472,
   "metadata": {},
   "outputs": [
    {
     "data": {
      "text/plain": [
       "(106.84368872900488,\n",
       " 106.8505154977845,\n",
       " -6.146319595600737,\n",
       " -6.1391300615462505)"
      ]
     },
     "execution_count": 472,
     "metadata": {},
     "output_type": "execute_result"
    },
    {
     "data": {
      "image/png": "[encoded data removed]",
      "text/plain": [
       "<Figure size 720x720 with 1 Axes>"
      ]
     },
     "metadata": {},
     "output_type": "display_data"
    }
   ],
   "source": [
    "fig = plt.figure(figsize = (10,10))\n",
    "\n",
    "plt.scatter(df.longitude, df.latitude, c=df.VV, cmap='Blues', s = 10)\n",
    "plt.axis('equal')"
   ]
  },
  {
   "cell_type": "code",
   "execution_count": 473,
   "metadata": {},
   "outputs": [
    {
     "data": {
      "text/plain": [
       "'https://earthengine.googleapis.com/v1alpha/projects/earthengine-legacy/thumbnails/257973e8c59dc1608c88bf18ec86a993-40f00ebb63d013b5022ee4dfefe730bf:getPixels'"
      ]
     },
     "execution_count": 473,
     "metadata": {},
     "output_type": "execute_result"
    }
   ],
   "source": [
    "img_url"
   ]
  },
  {
   "cell_type": "code",
   "execution_count": 475,
   "metadata": {
    "scrolled": false
   },
   "outputs": [
    {
     "name": "stdout",
     "output_type": "stream",
     "text": [
      "(9, 9, 4)\n"
     ]
    },
    {
     "data": {
      "text/plain": [
       "<matplotlib.image.AxesImage at 0x7ff900632b38>"
      ]
     },
     "execution_count": 475,
     "metadata": {},
     "output_type": "execute_result"
    },
    {
     "data": {
      "image/png": "[encoded data removed]",
      "text/plain": [
       "<Figure size 1440x1440 with 2 Axes>"
      ]
     },
     "metadata": {},
     "output_type": "display_data"
    }
   ],
   "source": [
    "import imageio\n",
    "\n",
    "# download image as np array\n",
    "im = imageio.imread(img_url)\n",
    "\n",
    "# apply value mask\n",
    "array_mask = np.array(im == 0).astype(int)\n",
    "\n",
    "print(array_mask.shape)\n",
    "\n",
    "# plot results\n",
    "plt.figure(figsize = (20,20))\n",
    "plt.subplot(121)\n",
    "plt.imshow(im, cmap = 'jet')\n",
    "plt.subplot(122)\n",
    "plt.imshow(-array_mask[:,:,0], cmap = 'Blues')"
   ]
  },
  {
   "cell_type": "code",
   "execution_count": null,
   "metadata": {},
   "outputs": [],
   "source": []
  }
 ],
 "metadata": {
  "kernelspec": {
   "display_name": "Python 3",
   "language": "python",
   "name": "python3"
  },
  "language_info": {
   "codemirror_mode": {
    "name": "ipython",
    "version": 3
   },
   "file_extension": ".py",
   "mimetype": "text/x-python",
   "name": "python",
   "nbconvert_exporter": "python",
   "pygments_lexer": "ipython3",
   "version": "3.6.5"
  }
 },
 "nbformat": 4,
 "nbformat_minor": 4
}
