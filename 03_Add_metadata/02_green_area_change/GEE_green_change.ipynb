{
 "cells": [
  {
   "cell_type": "code",
   "execution_count": 37,
   "metadata": {},
   "outputs": [],
   "source": [
    "# Import the Earth Engine Python Package\n",
    "import ee # !pip install earthengine-api\n",
    "\n",
    "# Import Dependencies\n",
    "import pandas as pd\n",
    "import matplotlib.dates as mdates\n",
    "from IPython.display import Image\n",
    "from datetime import datetime\n",
    "from matplotlib import dates\n",
    "from pylab import *\n",
    "\n",
    "import geopandas as gpd\n",
    "\n",
    "ee.Initialize()"
   ]
  },
  {
   "cell_type": "code",
   "execution_count": 227,
   "metadata": {},
   "outputs": [
    {
     "data": {
      "text/plain": [
       "(['../../TreeTect/data/shapefiles_waterbodies_osm/Cilegon_water_areas.shp',\n",
       "  '../../TreeTect/data/shapefiles_waterbodies_osm/Denpasar_water_areas.shp',\n",
       "  '../../TreeTect/data/shapefiles_waterbodies_osm/Jakarta_hand.shp',\n",
       "  '../../TreeTect/data/shapefiles_waterbodies_osm/Test area CGI.shp',\n",
       "  '../../TreeTect/data/shapefiles_waterbodies_osm/Balikpapan_water_areas.shp',\n",
       "  '../../TreeTect/data/shapefiles_waterbodies_osm/Manila_water_areas.shp',\n",
       "  '../../TreeTect/data/shapefiles_waterbodies_osm/Medan_water_areas.shp',\n",
       "  '../../TreeTect/data/shapefiles_waterbodies_osm/Jakarta_hand_water.shp',\n",
       "  '../../TreeTect/data/shapefiles_waterbodies_osm/Shape_Jakarta_003_pansharpen_True_2018-09-13_03:30_1030010085B5FC00.shp',\n",
       "  '../../TreeTect/data/shapefiles_waterbodies_osm/Cutout_shapes.shp',\n",
       "  '../../TreeTect/data/shapefiles_waterbodies_osm/Jakarta_water_areas.shp',\n",
       "  '../../TreeTect/data/shapefiles_waterbodies_osm/Denpasar_hand.shp'],\n",
       " '/home/chris/Documents/GreenCityWatch/GCW_toolkit/05_Green_space_change',\n",
       " '../../TreeTect/data/shapefiles_waterbodies_osm/Medan_water_areas.shp')"
      ]
     },
     "execution_count": 227,
     "metadata": {},
     "output_type": "execute_result"
    }
   ],
   "source": [
    "## Read polygons from file and apply as gee geometries\n",
    "import fiona\n",
    "from shapely.geometry import shape, MultiPolygon, Polygon\n",
    "import glob\n",
    "\n",
    "# current working directory\n",
    "import os\n",
    "cwd = os.getcwd()\n",
    "\n",
    "# find files in shapefile folder\n",
    "shape_file_path = '../../TreeTect/data/shapefiles_waterbodies_osm/*.shp'\n",
    "shape_files = glob.glob(shape_file_path)\n",
    "path = shape_files[6]\n",
    "\n",
    "shape_files, cwd, path"
   ]
  },
  {
   "cell_type": "code",
   "execution_count": 228,
   "metadata": {},
   "outputs": [
    {
     "data": {
      "text/plain": [
       "38"
      ]
     },
     "execution_count": 228,
     "metadata": {},
     "output_type": "execute_result"
    }
   ],
   "source": [
    "shapefile.shape[0]"
   ]
  },
  {
   "cell_type": "code",
   "execution_count": 262,
   "metadata": {},
   "outputs": [],
   "source": [
    "shapefile = gpd.read_file(path)\n",
    "\n",
    "features = []\n",
    "for i in range(shapefile.shape[0]):\n",
    "    geom = shapefile.iloc[i:i+1,:] \n",
    "    jsonDict = eval(geom.to_json()) \n",
    "    geojsonDict = jsonDict['features'][0] \n",
    "    features.append(ee.Feature(geojsonDict)) \n"
   ]
  },
  {
   "cell_type": "code",
   "execution_count": 263,
   "metadata": {},
   "outputs": [],
   "source": [
    "fc = ee.FeatureCollection(features)"
   ]
  },
  {
   "cell_type": "code",
   "execution_count": 264,
   "metadata": {},
   "outputs": [
    {
     "ename": "TypeError",
     "evalue": "'Polygon' object is not callable",
     "output_type": "error",
     "traceback": [
      "\u001b[0;31m---------------------------------------------------------------------------\u001b[0m",
      "\u001b[0;31mTypeError\u001b[0m                                 Traceback (most recent call last)",
      "\u001b[0;32m<ipython-input-264-af6008dd041d>\u001b[0m in \u001b[0;36m<module>\u001b[0;34m\u001b[0m\n\u001b[0;32m----> 1\u001b[0;31m \u001b[0mshp_AOIs\u001b[0m \u001b[0;34m=\u001b[0m \u001b[0mMultiPolygon\u001b[0m\u001b[0;34m(\u001b[0m\u001b[0;34m[\u001b[0m\u001b[0mshape\u001b[0m\u001b[0;34m(\u001b[0m\u001b[0mpol\u001b[0m\u001b[0;34m[\u001b[0m\u001b[0;34m'geometry'\u001b[0m\u001b[0;34m]\u001b[0m\u001b[0;34m)\u001b[0m \u001b[0;32mfor\u001b[0m \u001b[0mpol\u001b[0m \u001b[0;32min\u001b[0m \u001b[0mfiona\u001b[0m\u001b[0;34m.\u001b[0m\u001b[0mopen\u001b[0m\u001b[0;34m(\u001b[0m\u001b[0mpath\u001b[0m\u001b[0;34m)\u001b[0m\u001b[0;34m]\u001b[0m\u001b[0;34m)\u001b[0m\u001b[0;34m\u001b[0m\u001b[0;34m\u001b[0m\u001b[0m\n\u001b[0m\u001b[1;32m      2\u001b[0m \u001b[0mid_list\u001b[0m \u001b[0;34m=\u001b[0m \u001b[0;34m[\u001b[0m\u001b[0mpol\u001b[0m\u001b[0;34m[\u001b[0m\u001b[0;34m'id'\u001b[0m\u001b[0;34m]\u001b[0m \u001b[0;32mfor\u001b[0m \u001b[0mpol\u001b[0m \u001b[0;32min\u001b[0m \u001b[0mfiona\u001b[0m\u001b[0;34m.\u001b[0m\u001b[0mopen\u001b[0m\u001b[0;34m(\u001b[0m\u001b[0mpath\u001b[0m\u001b[0;34m)\u001b[0m\u001b[0;34m]\u001b[0m\u001b[0;34m\u001b[0m\u001b[0;34m\u001b[0m\u001b[0m\n",
      "\u001b[0;32m<ipython-input-264-af6008dd041d>\u001b[0m in \u001b[0;36m<listcomp>\u001b[0;34m(.0)\u001b[0m\n\u001b[0;32m----> 1\u001b[0;31m \u001b[0mshp_AOIs\u001b[0m \u001b[0;34m=\u001b[0m \u001b[0mMultiPolygon\u001b[0m\u001b[0;34m(\u001b[0m\u001b[0;34m[\u001b[0m\u001b[0mshape\u001b[0m\u001b[0;34m(\u001b[0m\u001b[0mpol\u001b[0m\u001b[0;34m[\u001b[0m\u001b[0;34m'geometry'\u001b[0m\u001b[0;34m]\u001b[0m\u001b[0;34m)\u001b[0m \u001b[0;32mfor\u001b[0m \u001b[0mpol\u001b[0m \u001b[0;32min\u001b[0m \u001b[0mfiona\u001b[0m\u001b[0;34m.\u001b[0m\u001b[0mopen\u001b[0m\u001b[0;34m(\u001b[0m\u001b[0mpath\u001b[0m\u001b[0;34m)\u001b[0m\u001b[0;34m]\u001b[0m\u001b[0;34m)\u001b[0m\u001b[0;34m\u001b[0m\u001b[0;34m\u001b[0m\u001b[0m\n\u001b[0m\u001b[1;32m      2\u001b[0m \u001b[0mid_list\u001b[0m \u001b[0;34m=\u001b[0m \u001b[0;34m[\u001b[0m\u001b[0mpol\u001b[0m\u001b[0;34m[\u001b[0m\u001b[0;34m'id'\u001b[0m\u001b[0;34m]\u001b[0m \u001b[0;32mfor\u001b[0m \u001b[0mpol\u001b[0m \u001b[0;32min\u001b[0m \u001b[0mfiona\u001b[0m\u001b[0;34m.\u001b[0m\u001b[0mopen\u001b[0m\u001b[0;34m(\u001b[0m\u001b[0mpath\u001b[0m\u001b[0;34m)\u001b[0m\u001b[0;34m]\u001b[0m\u001b[0;34m\u001b[0m\u001b[0;34m\u001b[0m\u001b[0m\n",
      "\u001b[0;31mTypeError\u001b[0m: 'Polygon' object is not callable"
     ]
    }
   ],
   "source": [
    "shp_AOIs = MultiPolygon([shape(pol['geometry']) for pol in fiona.open(path)]) \n",
    "id_list = [pol['id'] for pol in fiona.open(path)]"
   ]
  },
  {
   "cell_type": "code",
   "execution_count": 265,
   "metadata": {},
   "outputs": [],
   "source": [
    "i = 0\n",
    "\n",
    "sizes = []\n",
    "\n",
    "for shape in shp_AOIs: \n",
    "    \n",
    "    x = np.array(shape.exterior.coords.xy).T[:,0]\n",
    "    y = np.array(shape.exterior.coords.xy).T[:,1]\n",
    "    \n",
    "    delta = x.max() - x.min()\n",
    "    sizes.append([delta])\n",
    "\n",
    "#     plt.title([i, delta])\n",
    "#     plt.plot(x,y)\n",
    "#     plt.axis('equal')\n",
    "#     plt.show()\n",
    "    \n",
    "    i = i + 1"
   ]
  },
  {
   "cell_type": "code",
   "execution_count": 250,
   "metadata": {},
   "outputs": [],
   "source": [
    "biggest_poly_index = np.array(sizes).argmax()"
   ]
  },
  {
   "cell_type": "code",
   "execution_count": 266,
   "metadata": {},
   "outputs": [],
   "source": [
    "osm_polygon = np.array(shp_AOIs[biggest_poly_index].buffer(0.001).exterior.coords.xy).T\n"
   ]
  },
  {
   "cell_type": "code",
   "execution_count": 267,
   "metadata": {},
   "outputs": [],
   "source": [
    "polygon_list = osm_polygon[0:-1].tolist()"
   ]
  },
  {
   "cell_type": "code",
   "execution_count": 268,
   "metadata": {},
   "outputs": [],
   "source": [
    "input_data = [[106.81591544702997, -6.33681462466857],\n",
    "          [106.81591544702997, -6.350036929099756],\n",
    "          [106.82780299738397, -6.350036929099756],\n",
    "          [106.82780299738397, -6.33681462466857]]"
   ]
  },
  {
   "cell_type": "code",
   "execution_count": 269,
   "metadata": {},
   "outputs": [
    {
     "data": {
      "text/plain": [
       "list"
      ]
     },
     "execution_count": 269,
     "metadata": {},
     "output_type": "execute_result"
    }
   ],
   "source": [
    "type(input_data)"
   ]
  },
  {
   "cell_type": "code",
   "execution_count": 270,
   "metadata": {},
   "outputs": [],
   "source": [
    "# set variables\n",
    "SCALE = 10;\n",
    "polarization = 'VV'; # vertical/vertical or vertical/horizontal"
   ]
  },
  {
   "cell_type": "code",
   "execution_count": 271,
   "metadata": {},
   "outputs": [],
   "source": [
    "# build geometry to measure\n",
    "rect = ee.Geometry.Polygon(\n",
    "        [polygon_list])"
   ]
  },
  {
   "cell_type": "code",
   "execution_count": 272,
   "metadata": {},
   "outputs": [],
   "source": [
    "# convert geometry to JSON format\n",
    "rect_JSON = rect.getInfo()['coordinates']"
   ]
  },
  {
   "cell_type": "code",
   "execution_count": 273,
   "metadata": {},
   "outputs": [],
   "source": [
    "# initiate google earth engine to aquire the image\n",
    "S1 = ee.ImageCollection('COPERNICUS/S1_GRD')\\\n",
    ".filterDate('2016-01-01', '2019-12-12')\\\n",
    ".filter(ee.Filter.listContains('transmitterReceiverPolarisation', polarization))\\\n",
    ".filter(ee.Filter.eq('instrumentMode', 'IW'))\\\n",
    ".filter(ee.Filter.eq('orbitProperties_pass', 'DESCENDING'))\\\n",
    ".select(polarization)\\\n",
    ".filterBounds(rect);"
   ]
  },
  {
   "cell_type": "code",
   "execution_count": 274,
   "metadata": {},
   "outputs": [],
   "source": [
    "# visualize resulting image\n",
    "img_url = S1.first().getThumbUrl({\n",
    "    'region':rect_JSON,\n",
    "    'min':-25,\n",
    "    'max':0,\n",
    "    'palette':['0784b5', '39ace7', '9bd4e4', 'cadeef', 'ffffff']\n",
    "})\n",
    "\n",
    "# Image(url = img_url)"
   ]
  },
  {
   "cell_type": "code",
   "execution_count": 275,
   "metadata": {},
   "outputs": [
    {
     "data": {
      "text/plain": [
       "'https://earthengine.googleapis.com/v1alpha/projects/earthengine-legacy/thumbnails/f06e745e4e5c38f8f9dcbfaf4f4ac1b3-418875aa9bd9b1eea367f8d6e119c168:getPixels'"
      ]
     },
     "execution_count": 275,
     "metadata": {},
     "output_type": "execute_result"
    }
   ],
   "source": [
    "img_url"
   ]
  },
  {
   "cell_type": "code",
   "execution_count": 276,
   "metadata": {
    "scrolled": false
   },
   "outputs": [
    {
     "name": "stdout",
     "output_type": "stream",
     "text": [
      "(58, 378, 4)\n"
     ]
    },
    {
     "data": {
      "text/plain": [
       "<matplotlib.image.AxesImage at 0x7f181fcf7390>"
      ]
     },
     "execution_count": 276,
     "metadata": {},
     "output_type": "execute_result"
    },
    {
     "data": {
      "image/png": "[encoded data removed]",
      "text/plain": [
       "<Figure size 1440x1440 with 2 Axes>"
      ]
     },
     "metadata": {
      "needs_background": "light"
     },
     "output_type": "display_data"
    }
   ],
   "source": [
    "import imageio\n",
    "\n",
    "# download image as np array\n",
    "im = imageio.imread(img_url)\n",
    "\n",
    "# apply value mask\n",
    "array_mask = np.array(im == 0).astype(int)\n",
    "\n",
    "print(array_mask.shape)\n",
    "\n",
    "# plot results\n",
    "plt.figure(figsize = (20,20))\n",
    "plt.subplot(121)\n",
    "plt.imshow(im, cmap = 'jet')\n",
    "plt.subplot(122)\n",
    "plt.imshow(array_mask[:,:,0], cmap = 'jet')"
   ]
  },
  {
   "cell_type": "code",
   "execution_count": null,
   "metadata": {},
   "outputs": [],
   "source": []
  },
  {
   "cell_type": "code",
   "execution_count": null,
   "metadata": {},
   "outputs": [],
   "source": []
  }
 ],
 "metadata": {
  "kernelspec": {
   "display_name": "Python 3",
   "language": "python",
   "name": "python3"
  },
  "language_info": {
   "codemirror_mode": {
    "name": "ipython",
    "version": 3
   },
   "file_extension": ".py",
   "mimetype": "text/x-python",
   "name": "python",
   "nbconvert_exporter": "python",
   "pygments_lexer": "ipython3",
   "version": "3.7.6"
  }
 },
 "nbformat": 4,
 "nbformat_minor": 4
}
