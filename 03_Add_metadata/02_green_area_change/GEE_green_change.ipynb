{
 "cells": [
  {
   "cell_type": "code",
   "execution_count": 608,
   "metadata": {},
   "outputs": [],
   "source": [
    "import pandas as pd\n",
    "import geopandas as gpd\n",
    " \n",
    "def ee_array_to_df(arr, band):\n",
    "    \"\"\"\n",
    "    We create a function with an array as input\n",
    "    We return a pandas df\n",
    "    \"\"\"\n",
    "    df = pd.DataFrame(arr)\n",
    "     \n",
    "    # we rearrange the header\n",
    "    headers = df.iloc[0]\n",
    "    df = pd.DataFrame(df.values[1:], columns = headers)\n",
    " \n",
    "    # we remove raws without data inside:\n",
    "    df = df[['longitude', 'latitude', 'time', band]].dropna()\n",
    "     \n",
    "    # We converr the data to numeric values\n",
    "    df[band] = pd.to_numeric(df[band], errors='coerce')\n",
    "     \n",
    "    # We also convert the Time filed into a datetime\n",
    "    df['datetime'] = pd.to_datetime(df['time'], unit='ms')\n",
    "     \n",
    "    # We keep the columns we want\n",
    "    # df = df[['time','datetime', band]]\n",
    "     \n",
    "    return df\n",
    "\n",
    "\n",
    "def geojson2gee(geojson_path):\n",
    "    \"\"\"\n",
    "    Use geopandas and google earth engine api to convert geojson to gee featurecollection \n",
    "    \"\"\"\n",
    "    \n",
    "    shapefile = gpd.read_file(geojson_path)\n",
    "    \n",
    "    features = []\n",
    "    for i in range(shapefile.shape[0]):\n",
    "        geom = shapefile.iloc[i:i+1,:] \n",
    "        jsonDict = eval(geom.to_json()) \n",
    "        geojsonDict = jsonDict['features'][0] \n",
    "        features.append(ee.Feature(geojsonDict)) \n",
    "\n",
    "    gee_featurecollection = ee.FeatureCollection(features)\n",
    "    \n",
    "    return gee_featurecollection"
   ]
  },
  {
   "cell_type": "code",
   "execution_count": 660,
   "metadata": {},
   "outputs": [],
   "source": [
    "# gee functions\n",
    "\n",
    "\"\"\"\n",
    " * Function to mask clouds based on the pixel_qa band of Landsat SR data.\n",
    " * @param {ee.Image} image Input Landsat SR image\n",
    " * @return {ee.Image} Cloudmasked Landsat image\n",
    "\"\"\"\n",
    "\n",
    "def cloudMaskL457(image): \n",
    "    qa = image.select('pixel_qa');\n",
    "    # If the cloud bit (5) is set and the cloud confidence (7) is high\n",
    "    # or the cloud shadow bit is set (3), then it's a bad pixel.\n",
    "    cloud = qa.bitwiseAnd(1 << 5).And(qa.bitwiseAnd(1 << 7)).Or(qa.bitwiseAnd(1 << 3));\n",
    "    # Remove edge pixels that don't occur in all bands\n",
    "    mask2 = image.mask().reduce(ee.Reducer.min());\n",
    "    return image.updateMask(cloud.Not()).updateMask(mask2);\n",
    "\n",
    "# functions for Indices\n",
    "def addNDVI(image):\n",
    "    ndvi = image.normalizedDifference(['B4', 'B3']).rename('NDVI');\n",
    "    return image.addBands(ndvi)\n",
    "\n",
    "def addindex(image):\n",
    "    ndvi = image.normalizedDifference(['B4', 'B3']).rename('NDVI');\n",
    "    ndwi = image.normalizedDifference(['B2', 'B5']).rename('NDWI');\n",
    "    return image.addBands(ndvi).addBands(ndwi);\n",
    "\n",
    "# // Import GEE data /////////////////////////////////////////////////////\n",
    "\n",
    "LS5 = ee.ImageCollection('LANDSAT/LT05/C01/T1_SR').filterDate('1986-01-01', '2000-12-31');\n",
    "  \n",
    "LE7 = ee.ImageCollection('LANDSAT/LE07/C01/T1_SR').filterDate('2001-01-01', '2018-12-31');\n",
    "\n",
    "LS5NDVI = LS5.map(addNDVI);\n",
    "LE7NDVI = LE7.map(addNDVI);"
   ]
  },
  {
   "cell_type": "code",
   "execution_count": 661,
   "metadata": {},
   "outputs": [],
   "source": [
    "y1 = LS5NDVI.filterDate('1988-01-01', '1989-12-31').map(cloudMaskL457).mean().set('system:time_start', '1989');\n",
    "y2 = LS5NDVI.filterDate('1990-01-01', '1991-12-31').map(cloudMaskL457).mean().set('system:time_start', '1991');\n",
    "y3 = LS5NDVI.filterDate('1992-01-01', '1993-12-31').map(cloudMaskL457).mean().set('system:time_start', '1993');\n",
    "y4 = LS5NDVI.filterDate('1994-01-01', '1995-12-31').map(cloudMaskL457).mean().set('system:time_start', '1995');\n",
    "y5 = LS5NDVI.filterDate('1996-01-01', '1997-12-31').map(cloudMaskL457).mean().set('system:time_start', '1997');\n",
    "y6 = LS5NDVI.filterDate('1998-01-01', '1999-12-31').map(cloudMaskL457).mean().set('system:time_start', '1999');   \n",
    "y7 = LE7NDVI.filterDate('2000-01-01', '2001-12-31').map(cloudMaskL457).mean().set('system:time_start', '2001');\n",
    "y8 = LE7NDVI.filterDate('2002-01-01', '2003-12-31').map(cloudMaskL457).mean().set('system:time_start', '2003');\n",
    "y9 = LE7NDVI.filterDate('2004-01-01', '2005-12-31').map(cloudMaskL457).mean().set('system:time_start', '2005');\n",
    "y10 = LE7NDVI.filterDate('2006-01-01', '2007-12-31').map(cloudMaskL457).mean().set('system:time_start', '2007');\n",
    "y11 = LE7NDVI.filterDate('2008-01-01', '2009-12-31').map(cloudMaskL457).mean().set('system:time_start', '2009');\n",
    "y12 = LE7NDVI.filterDate('2010-01-01', '2011-12-31').map(cloudMaskL457).mean().set('system:time_start', '2011');\n",
    "y13 = LE7NDVI.filterDate('2012-01-01', '2013-12-31').map(cloudMaskL457).mean().set('system:time_start', '2013');\n",
    "y14 = LE7NDVI.filterDate('2014-01-01', '2015-12-31').map(cloudMaskL457).mean().set('system:time_start', '2015');   \n",
    "y15 = LE7NDVI.filterDate('2016-01-01', '2018-12-31').map(cloudMaskL457).mean().set('system:time_start', '2018');\n",
    "y16 = LE7NDVI.filterDate('2019-01-01', '2020-06-04').map(cloudMaskL457).mean().set('system:time_start', '2020');\n",
    "\n",
    "# //add indices (NDVI / NDWI, see functions) \n",
    "y1 = addindex(y1);\n",
    "y2 = addindex(y2);\n",
    "y3 = addindex(y3);\n",
    "y4 = addindex(y4);\n",
    "y5 = addindex(y5);\n",
    "y6 = addindex(y6);\n",
    "y7 = addindex(y7);\n",
    "y8 = addindex(y8);\n",
    "y9 = addindex(y9);\n",
    "y10 = addindex(y10);\n",
    "y11 = addindex(y11);\n",
    "y12 = addindex(y12);\n",
    "y13 = addindex(y13);\n",
    "y14 = addindex(y14);\n",
    "y15 = addindex(y15);"
   ]
  },
  {
   "cell_type": "code",
   "execution_count": 662,
   "metadata": {},
   "outputs": [],
   "source": [
    "# // Create classifications /////////////////////////////////////////////////////\n",
    "\n",
    "# // 1. select polygons \n",
    "# // 2. generate random points in polygons\n",
    "# // 3. use random points in training algorithm\n",
    "# // 4. use trained classifier to predict classes for all pixels\n",
    "\n",
    "water_shape_file_path = '../../data/hand_annotations/gee_training_data/water*.geojson'\n",
    "urban_shape_file_path = '../../data/hand_annotations/gee_training_data/urban*.geojson'\n",
    "vegetation_shape_file_path = '../../data/hand_annotations/gee_training_data/vegetation*.geojson'\n",
    "\n",
    "water_shape_files = glob.glob(water_shape_file_path)[0]\n",
    "urban_shape_files = glob.glob(urban_shape_file_path)[0]\n",
    "vegetation_shape_files = glob.glob(vegetation_shape_file_path)[0]\n",
    "\n",
    "\n",
    "feature_collection_water = geojson2gee(water_shape_files)\n",
    "feature_collection_urban = geojson2gee(urban_shape_files)\n",
    "feature_collection_vegetation = geojson2gee(vegetation_shape_files)\n",
    "\n",
    "# // create random points and add class using polgyons\n",
    "def addpoints(feature, Class):\n",
    "    def addclass(feature):\n",
    "        return feature.set({'landuse': Class});\n",
    "    trainpoints = ee.FeatureCollection.randomPoints(feature,1000,0);\n",
    "    trainset = trainpoints.map(addclass)\n",
    "    return trainset\n",
    "\n",
    "# // use the polygon data to create random training points\n",
    "urban = addpoints(feature_collection_water,1);\n",
    "water = addpoints(feature_collection_urban,2);\n",
    "vegetation = addpoints(feature_collection_vegetation,3);"
   ]
  },
  {
   "cell_type": "code",
   "execution_count": 719,
   "metadata": {},
   "outputs": [],
   "source": [
    "# // Merge the three geometry layers into a single FeatureCollection.\n",
    "newfc = urban.merge(vegetation).merge(water)\n",
    "# print(newfc)\n",
    "# // Use these bands for classification.\n",
    "bands = ['B2', 'B3', 'B4', 'B5', 'B6', 'B7', 'NDVI','NDWI'];\n",
    "# // The name of the property on the points storing the class label.\n",
    "classProperty = 'landuse';\n",
    "\n",
    "# // Function to create a Make a Random Forest classifier and train it\n",
    "# // given data from a specific year. \n",
    "def buildClassifier(range_data, bands, newfc, classProperty):\n",
    "  \n",
    "    #   // Sample the composite to generate training data.  Note that the\n",
    "    #   // class label is stored in the 'landcover' property. \n",
    "    training_data = range_data.select(bands).sampleRegions(collection = newfc,\n",
    "                                                           properties = [classProperty],\n",
    "                                                           scale = 30);\n",
    "\n",
    "    #   // Make a Random Forest classifier and train it\n",
    "    classifier = ee.Classifier.randomForest(10).train(training_data, 'landuse');\n",
    "\n",
    "    return classifier"
   ]
  },
  {
   "cell_type": "code",
   "execution_count": 720,
   "metadata": {},
   "outputs": [
    {
     "data": {
      "text/plain": [
       "{'type': 'Classifier.train',\n",
       " 'classifier': {'type': 'Classifier.randomForest', 'numberOfTrees': 10},\n",
       " 'features': {'type': 'FeatureCollection',\n",
       "  'columns': {},\n",
       "  'properties': {'band_order': ['B2',\n",
       "    'B3',\n",
       "    'B4',\n",
       "    'B5',\n",
       "    'B6',\n",
       "    'B7',\n",
       "    'NDVI',\n",
       "    'NDWI']}},\n",
       " 'classProperty': 'landuse',\n",
       " 'inputProperties': ['B2', 'B3', 'B4', 'B5', 'B6', 'B7', 'NDVI', 'NDWI']}"
      ]
     },
     "execution_count": 720,
     "metadata": {},
     "output_type": "execute_result"
    }
   ],
   "source": [
    "buildClassifier(y1, bands, newfc, classProperty).getInfo()"
   ]
  },
  {
   "cell_type": "code",
   "execution_count": 721,
   "metadata": {},
   "outputs": [],
   "source": [
    "# Classify the composite, use function to create a separate classifier for each year. \n",
    "classified1 = y1.classify(buildClassifier(y1, bands, newfc, classProperty)).set('system:time_start', '1989');\n",
    "classified2 = y2.classify(buildClassifier(y2, bands, newfc, classProperty)).set('system:time_start', '1991');\n",
    "classified3 = y3.classify(buildClassifier(y3, bands, newfc, classProperty)).set('system:time_start', '1993');\n",
    "classified4 = y4.classify(buildClassifier(y4, bands, newfc, classProperty)).set('system:time_start', '1995')\n",
    "classified5 = y5.classify(buildClassifier(y5, bands, newfc, classProperty)).set('system:time_start', '1997');\n",
    "classified6 = y6.classify(buildClassifier(y6, bands, newfc, classProperty)).set('system:time_start', '1999');\n",
    "classified7 = y7.classify(buildClassifier(y7, bands, newfc, classProperty)).set('system:time_start', '2001');\n",
    "classified8 = y8.classify(buildClassifier(y8, bands, newfc, classProperty)).set('system:time_start', '2003');\n",
    "classified9 = y9.classify(buildClassifier(y9, bands, newfc, classProperty)).set('system:time_start', '2005');\n",
    "classified10 = y10.classify(buildClassifier(y10, bands, newfc, classProperty)).set('system:time_start', '2007');\n",
    "classified11 = y11.classify(buildClassifier(y11, bands, newfc, classProperty)).set('system:time_start', '2009');\n",
    "classified12 = y12.classify(buildClassifier(y12, bands, newfc, classProperty)).set('system:time_start', '2011');\n",
    "classified13 = y13.classify(buildClassifier(y13, bands, newfc, classProperty)).set('system:time_start', '2013');\n",
    "classified14 = y14.classify(buildClassifier(y14, bands, newfc, classProperty)).set('system:time_start', '2015');\n",
    "classified15 = y15.classify(buildClassifier(y15, bands, newfc, classProperty)).set('system:time_start', '2017');"
   ]
  },
  {
   "cell_type": "code",
   "execution_count": 722,
   "metadata": {},
   "outputs": [],
   "source": [
    "def band_classes(classified):\n",
    "  \n",
    "    area = ee.Image.pixelArea();\n",
    "\n",
    "    # create separate bands for counting classifications\n",
    "    classified_urban_band = classified.eq(1);\n",
    "    classified_urban_water = classified.eq(2);\n",
    "    classified_urban_veg = classified.eq(3);\n",
    "\n",
    "    # rename bands for later selection\n",
    "    class_urban_band_rename = classified_urban_band.rename('class_urban');\n",
    "    class_water_band_rename = classified_urban_water.rename('class_water');\n",
    "    class_veg_band_rename = classified_urban_veg.rename('class_veg');\n",
    "\n",
    "    # calculate area\n",
    "    urbanArea = class_urban_band_rename.multiply(area).divide(1000000).rename('urbanArea');\n",
    "    waterArea = class_water_band_rename.multiply(area).divide(1000000).rename('waterArea');\n",
    "    vegArea = class_veg_band_rename.multiply(area).divide(1000000).rename('vegArea');\n",
    "\n",
    "    # add bands to image\n",
    "    image_out_u = classified.addBands(urbanArea);\n",
    "    image_out_uw = image_out_u.addBands(waterArea);\n",
    "    image_out_uwv = image_out_uw.addBands(vegArea);\n",
    "\n",
    "    # print(image_out_uwv)\n",
    "\n",
    "    return image_out_uwv.select(['urbanArea', 'vegArea']);\n",
    "\n",
    "\n",
    "# Get accuracy assessment \n",
    "# buildClassifier(y15, bands, newfc, classProperty).confusionMatrix().getInfo()"
   ]
  },
  {
   "cell_type": "code",
   "execution_count": 723,
   "metadata": {},
   "outputs": [
    {
     "data": {
      "text/plain": [
       "{'type': 'Image',\n",
       " 'bands': [{'id': 'urbanArea',\n",
       "   'data_type': {'type': 'PixelType', 'precision': 'float'},\n",
       "   'crs': 'EPSG:4326',\n",
       "   'crs_transform': [1, 0, 0, 0, 1, 0]},\n",
       "  {'id': 'vegArea',\n",
       "   'data_type': {'type': 'PixelType', 'precision': 'float'},\n",
       "   'crs': 'EPSG:4326',\n",
       "   'crs_transform': [1, 0, 0, 0, 1, 0]}],\n",
       " 'properties': {'system:time_start': '1989'}}"
      ]
     },
     "execution_count": 723,
     "metadata": {},
     "output_type": "execute_result"
    }
   ],
   "source": [
    "count_classes = band_classes(classified1)\n",
    "count_classes.getInfo()"
   ]
  },
  {
   "cell_type": "code",
   "execution_count": 724,
   "metadata": {},
   "outputs": [],
   "source": [
    "classified_collection = ee.ImageCollection([classified1, classified2, \n",
    "classified3, classified4, classified5, classified6, classified7, \n",
    "classified8, classified9, classified10, classified11, classified12, \n",
    "classified13, classified14, classified15])"
   ]
  },
  {
   "cell_type": "code",
   "execution_count": null,
   "metadata": {},
   "outputs": [],
   "source": [
    "gee_data_array = classified_collection.getRegion(rect, scale = scale_factor).getInfo()"
   ]
  },
  {
   "cell_type": "code",
   "execution_count": 609,
   "metadata": {},
   "outputs": [],
   "source": [
    "# Import the Earth Engine Python Package\n",
    "import ee # !pip install earthengine-api\n",
    "\n",
    "# Import Dependencies\n",
    "import pandas as pd\n",
    "import matplotlib.dates as mdates\n",
    "from IPython.display import Image\n",
    "from datetime import datetime\n",
    "from matplotlib import dates\n",
    "from pylab import *\n",
    "\n",
    "import geopandas as gpd\n",
    "\n",
    "ee.Initialize()"
   ]
  },
  {
   "cell_type": "code",
   "execution_count": 610,
   "metadata": {},
   "outputs": [
    {
     "data": {
      "text/plain": [
       "(['../../data/hand_annotations/gee_training_data/vegetation_trainingdata_export.geojson'],\n",
       " '/home/ubuntu/rimbun.io/03_Add_metadata/02_green_area_change',\n",
       " '../../data/nir_green_blue/vectors/Jakarta_202_pansharpen_True_2019-07-23_03:16_1030010096702700_05-18-2020_08:55:26.geojson')"
      ]
     },
     "execution_count": 610,
     "metadata": {},
     "output_type": "execute_result"
    }
   ],
   "source": [
    "## Read polygons from file and apply as gee geometries\n",
    "import fiona\n",
    "from shapely.geometry import shape, MultiPolygon, Polygon\n",
    "from shapely.ops import unary_union\n",
    "import glob\n",
    "\n",
    "# current working directory\n",
    "import os\n",
    "cwd = os.getcwd()\n",
    "\n",
    "# find files in shapefile folder\n",
    "shape_file_path = '../../data/hand_annotations/gee_training_data/vegetation*.geojson'\n",
    "shape_files = glob.glob(shape_file_path)\n",
    "geojson_path = shape_files[0]\n",
    "\n",
    "shape_files[0:3], cwd, path"
   ]
  },
  {
   "cell_type": "code",
   "execution_count": 611,
   "metadata": {},
   "outputs": [
    {
     "data": {
      "image/svg+xml": [
       "<svg xmlns=\"http://www.w3.org/2000/svg\" xmlns:xlink=\"http://www.w3.org/1999/xlink\" width=\"100.0\" height=\"100.0\" viewBox=\"106.60934654312196 -6.671220686025445 0.38273220951965925 0.37698181070167536\" preserveAspectRatio=\"xMinYMin meet\"><g transform=\"matrix(1,0,0,-1,0,-12.965459561349215)\"><g><path fill-rule=\"evenodd\" fill=\"#66cc99\" stroke=\"#555555\" stroke-width=\"0.007654644190393185\" opacity=\"0.6\" d=\"M 106.90930581011425,-6.325049514093018 L 106.91153740801464,-6.325049514093018 L 106.91153740801464,-6.320954702971661 L 106.90930581011425,-6.320954702971661 L 106.90930581011425,-6.325049514093018 z\" /><path fill-rule=\"evenodd\" fill=\"#66cc99\" stroke=\"#555555\" stroke-width=\"0.007654644190393185\" opacity=\"0.6\" d=\"M 106.8215868464912,-6.3114853281276835 L 106.82347512163768,-6.3114853281276835 L 106.82347512163768,-6.308414142343017 L 106.8215868464912,-6.308414142343017 L 106.8215868464912,-6.3114853281276835 z\" /><path fill-rule=\"evenodd\" fill=\"#66cc99\" stroke=\"#555555\" stroke-width=\"0.007654644190393185\" opacity=\"0.6\" d=\"M 106.82600563419878,-6.3540000751730865 L 106.82750767124712,-6.3540000751730865 L 106.82750767124712,-6.351227705956265 L 106.82600563419878,-6.351227705956265 L 106.82600563419878,-6.3540000751730865 z\" /><path fill-rule=\"evenodd\" fill=\"#66cc99\" stroke=\"#555555\" stroke-width=\"0.007654644190393185\" opacity=\"0.6\" d=\"M 106.6235218101412,-6.519800574903133 L 106.6293582969576,-6.519800574903133 L 106.6293582969576,-6.510590726248945 L 106.6235218101412,-6.510590726248945 L 106.6235218101412,-6.519800574903133 z\" /><path fill-rule=\"evenodd\" fill=\"#66cc99\" stroke=\"#555555\" stroke-width=\"0.007654644190393185\" opacity=\"0.6\" d=\"M 106.72583199080526,-6.516389539560375 L 106.73166847762167,-6.516389539560375 L 106.73166847762167,-6.5082029601202676 L 106.72583199080526,-6.5082029601202676 L 106.72583199080526,-6.516389539560375 z\" /><path fill-rule=\"evenodd\" fill=\"#66cc99\" stroke=\"#555555\" stroke-width=\"0.007654644190393185\" opacity=\"0.6\" d=\"M 106.6235218101412,-6.480913399145988 L 106.62626839217245,-6.480913399145988 L 106.62626839217245,-6.474090777943644 L 106.6235218101412,-6.474090777943644 L 106.6235218101412,-6.480913399145988 z\" /><path fill-rule=\"evenodd\" fill=\"#66cc99\" stroke=\"#555555\" stroke-width=\"0.007654644190393185\" opacity=\"0.6\" d=\"M 106.96890450057089,-6.503086280194849 L 106.97611427840292,-6.503086280194849 L 106.97611427840292,-6.494558364591116 L 106.96890450057089,-6.494558364591116 L 106.96890450057089,-6.503086280194849 z\" /><path fill-rule=\"evenodd\" fill=\"#66cc99\" stroke=\"#555555\" stroke-width=\"0.007654644190393185\" opacity=\"0.6\" d=\"M 106.97172367605206,-6.657045419006198 L 106.97790348562238,-6.657045419006198 L 106.97790348562238,-6.649543185341919 L 106.97172367605206,-6.649543185341919 L 106.97172367605206,-6.657045419006198 z\" /></g></g></svg>"
      ],
      "text/plain": [
       "<shapely.geometry.multipolygon.MultiPolygon at 0x7ff8d7fba160>"
      ]
     },
     "execution_count": 611,
     "metadata": {},
     "output_type": "execute_result"
    }
   ],
   "source": [
    "shapefile = gpd.read_file(geojson_path)\n",
    "\n",
    "if len(shapefile) > 1:\n",
    "\n",
    "    shapes_check = MultiPolygon([geom for geom in shapefile.geometry])\n",
    "    \n",
    "else:\n",
    "    \n",
    "    shapes_check = shapefile.geometry[0]\n",
    "    \n",
    "shapes_check"
   ]
  },
  {
   "cell_type": "code",
   "execution_count": 612,
   "metadata": {},
   "outputs": [
    {
     "data": {
      "text/plain": [
       "30"
      ]
     },
     "execution_count": 612,
     "metadata": {},
     "output_type": "execute_result"
    }
   ],
   "source": [
    "rect = geojson2gee(geojson_path)\n"
   ]
  },
  {
   "cell_type": "code",
   "execution_count": 613,
   "metadata": {},
   "outputs": [],
   "source": [
    "## Example geometry structure\n",
    "# feature_geometry = {\n",
    "#     'type': 'MultiPolygon',\n",
    "#     'coordinates': [[[\n",
    "#         [-120, 35],\n",
    "#         [-120.001, 35],\n",
    "#         [-120.001, 35.001],\n",
    "#         [-120, 35.001],\n",
    "#         [-120, 35]\n",
    "#     ]]]\n",
    "# }"
   ]
  },
  {
   "cell_type": "code",
   "execution_count": 614,
   "metadata": {},
   "outputs": [
    {
     "data": {
      "text/plain": [
       "'FeatureCollection'"
      ]
     },
     "execution_count": 614,
     "metadata": {},
     "output_type": "execute_result"
    }
   ],
   "source": [
    "# convert geometry to JSON format\n",
    "rect_JSON = rect.getInfo()#['coordinates']\n",
    "30\n",
    "rect_JSON['type']"
   ]
  },
  {
   "cell_type": "code",
   "execution_count": 615,
   "metadata": {},
   "outputs": [],
   "source": [
    "# set variables\n",
    "SCALE = 10;\n",
    "polarization = 'VV'; # Polygonvertical/vertical or vertical/horizontal"
   ]
  },
  {
   "cell_type": "code",
   "execution_count": 621,
   "metadata": {},
   "outputs": [],
   "source": [
    "# initiate google earth engine to aquire the image\n",
    "S1 = ee.ImageCollection('COPERNICUS/S1_GRD')\\\n",
    ".filterDate('2019-01-01', '2019-12-12')\\\n",
    ".filter(ee.Filter.listContains('transmitterReceiverPolarisation', polarization))\\\n",
    ".filter(ee.Filter.eq('instrumentMode', 'IW'))\\\n",
    ".filter(ee.Filter.eq('orbitProperties_pass', 'DESCENDING'))\\\n",
    ".select(polarization)\\\n",
    ".filterBounds(rect)\\\n"
   ]
  },
  {
   "cell_type": "code",
   "execution_count": 599,
   "metadata": {},
   "outputs": [],
   "source": [
    "scale_list = [10, 20, 100, 200, 300]"
   ]
  },
  {
   "cell_type": "code",
   "execution_count": 622,
   "metadata": {},
   "outputs": [
    {
     "name": "stdout",
     "output_type": "stream",
     "text": [
      "Total request size (45394272 bytes) must be less than or equal to 33554432 bytes. \n",
      "error at scale 10\n",
      "succes at scale 20\n"
     ]
    },
    {
     "data": {
      "text/html": [
       "<img src=\"https://earthengine.googleapis.com/v1alpha/projects/earthengine-legacy/thumbnails/9108ea14650bcd8dd6cadd22396fdde7-aa916c55de0f3856acd04b226577f1ea:getPixels\"/>"
      ],
      "text/plain": [
       "<IPython.core.display.Image object>"
      ]
     },
     "execution_count": 622,
     "metadata": {},
     "output_type": "execute_result"
    }
   ],
   "source": [
    "\n",
    "for scale_factor in scale_list:\n",
    "\n",
    "    try: \n",
    "        # visualize resulting image\n",
    "        img_url = S1.first().getThumbUrl({\n",
    "            'region':rect.geometry(),\n",
    "            'scale': scale_factor,\n",
    "            'min':-25,\n",
    "            'max':0,\n",
    "            'palette':['0784b5', '39ace7', '9bd4e4', 'cadeef', 'ffffff'],\n",
    "            'maxPixels': 1e9\n",
    "        })\n",
    "        print('succes at scale ' + str(scale_factor))\n",
    "        break\n",
    "    except Exception as e:\n",
    "        print(e, '\\nerror at scale ' + str(scale_factor))\n",
    "        continue\n",
    "\n",
    "\n",
    "\n",
    "\n",
    "\n",
    "Image(url = img_url)\n"
   ]
  },
  {
   "cell_type": "code",
   "execution_count": 629,
   "metadata": {},
   "outputs": [
    {
     "data": {
      "text/plain": [
       "'https://earthengine.googleapis.com/v1alpha/projects/earthengine-legacy/thumbnails/9108ea14650bcd8dd6cadd22396fdde7-aa916c55de0f3856acd04b226577f1ea:getPixels'"
      ]
     },
     "execution_count": 629,
     "metadata": {},
     "output_type": "execute_result"
    }
   ],
   "source": [
    "img_url"
   ]
  },
  {
   "cell_type": "code",
   "execution_count": 630,
   "metadata": {},
   "outputs": [
    {
     "data": {
      "text/plain": [
       "True"
      ]
     },
     "execution_count": 630,
     "metadata": {},
     "output_type": "execute_result"
    }
   ],
   "source": [
    "isinstance(rect, ee.ComputedObject)"
   ]
  },
  {
   "cell_type": "code",
   "execution_count": 631,
   "metadata": {},
   "outputs": [
    {
     "name": "stdout",
     "output_type": "stream",
     "text": [
      "succes at scale 10\n"
     ]
    }
   ],
   "source": [
    "\n",
    "\n",
    "for scale_factor in scale_list:\n",
    "\n",
    "    try: \n",
    "        gee_data_array = S1.getRegion(rect, scale = scale_factor).getInfo()\n",
    "        print('succes at scale ' + str(scale_factor))\n",
    "        break\n",
    "    except:\n",
    "        print('error at scale ' + str(scale_factor))\n",
    "        continue\n",
    "        "
   ]
  },
  {
   "cell_type": "code",
   "execution_count": null,
   "metadata": {},
   "outputs": [],
   "source": [
    "df = ee_array_to_df(gee_data_array, 'VV')"
   ]
  },
  {
   "cell_type": "code",
   "execution_count": null,
   "metadata": {},
   "outputs": [],
   "source": [
    "img_data"
   ]
  },
  {
   "cell_type": "code",
   "execution_count": null,
   "metadata": {},
   "outputs": [],
   "source": [
    "df.describe()"
   ]
  },
  {
   "cell_type": "code",
   "execution_count": null,
   "metadata": {},
   "outputs": [],
   "source": [
    "import geopandas as gpd"
   ]
  },
  {
   "cell_type": "code",
   "execution_count": null,
   "metadata": {},
   "outputs": [],
   "source": [
    "gdf = gpd.GeoDataFrame(df,geometry=gpd.points_from_xy(df.longitude, df.latitude))"
   ]
  },
  {
   "cell_type": "code",
   "execution_count": null,
   "metadata": {},
   "outputs": [],
   "source": [
    "gdf.plot(figsize = (10,10), cmap='Greys')"
   ]
  },
  {
   "cell_type": "code",
   "execution_count": 471,
   "metadata": {},
   "outputs": [
    {
     "data": {
      "text/plain": [
       "0   -11.716133\n",
       "1    -7.660871\n",
       "2    -7.470847\n",
       "3    -9.131988\n",
       "4   -11.700050\n",
       "Name: VV, dtype: float64"
      ]
     },
     "execution_count": 471,
     "metadata": {},
     "output_type": "execute_result"
    }
   ],
   "source": [
    "gdf.VV[0:5]"
   ]
  },
  {
   "cell_type": "code",
   "execution_count": 472,
   "metadata": {},
   "outputs": [
    {
     "data": {
      "text/plain": [
       "(106.84368872900488,\n",
       " 106.8505154977845,\n",
       " -6.146319595600737,\n",
       " -6.1391300615462505)"
      ]
     },
     "execution_count": 472,
     "metadata": {},
     "output_type": "execute_result"
    },
    {
     "data": {
      "image/png": "[encoded data removed]",
      "text/plain": [
       "<Figure size 720x720 with 1 Axes>"
      ]
     },
     "metadata": {},
     "output_type": "display_data"
    }
   ],
   "source": [
    "fig = plt.figure(figsize = (10,10))\n",
    "\n",
    "plt.scatter(df.longitude, df.latitude, c=df.VV, cmap='Blues', s = 10)\n",
    "plt.axis('equal')"
   ]
  },
  {
   "cell_type": "code",
   "execution_count": 473,
   "metadata": {},
   "outputs": [
    {
     "data": {
      "text/plain": [
       "'https://earthengine.googleapis.com/v1alpha/projects/earthengine-legacy/thumbnails/257973e8c59dc1608c88bf18ec86a993-40f00ebb63d013b5022ee4dfefe730bf:getPixels'"
      ]
     },
     "execution_count": 473,
     "metadata": {},
     "output_type": "execute_result"
    }
   ],
   "source": [
    "img_url"
   ]
  },
  {
   "cell_type": "code",
   "execution_count": 475,
   "metadata": {
    "scrolled": false
   },
   "outputs": [
    {
     "name": "stdout",
     "output_type": "stream",
     "text": [
      "(9, 9, 4)\n"
     ]
    },
    {
     "data": {
      "text/plain": [
       "<matplotlib.image.AxesImage at 0x7ff900632b38>"
      ]
     },
     "execution_count": 475,
     "metadata": {},
     "output_type": "execute_result"
    },
    {
     "data": {
      "image/png": "[encoded data removed]",
      "text/plain": [
       "<Figure size 1440x1440 with 2 Axes>"
      ]
     },
     "metadata": {},
     "output_type": "display_data"
    }
   ],
   "source": [
    "import imageio\n",
    "\n",
    "# download image as np array\n",
    "im = imageio.imread(img_url)\n",
    "\n",
    "# apply value mask\n",
    "array_mask = np.array(im == 0).astype(int)\n",
    "\n",
    "print(array_mask.shape)\n",
    "\n",
    "# plot results\n",
    "plt.figure(figsize = (20,20))\n",
    "plt.subplot(121)\n",
    "plt.imshow(im, cmap = 'jet')\n",
    "plt.subplot(122)\n",
    "plt.imshow(-array_mask[:,:,0], cmap = 'Blues')"
   ]
  },
  {
   "cell_type": "code",
   "execution_count": null,
   "metadata": {},
   "outputs": [],
   "source": []
  },
  {
   "cell_type": "code",
   "execution_count": null,
   "metadata": {},
   "outputs": [],
   "source": []
  }
 ],
 "metadata": {
  "kernelspec": {
   "display_name": "Python 3",
   "language": "python",
   "name": "python3"
  },
  "language_info": {
   "codemirror_mode": {
    "name": "ipython",
    "version": 3
   },
   "file_extension": ".py",
   "mimetype": "text/x-python",
   "name": "python",
   "nbconvert_exporter": "python",
   "pygments_lexer": "ipython3",
   "version": "3.6.5"
  }
 },
 "nbformat": 4,
 "nbformat_minor": 4
}
