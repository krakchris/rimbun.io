{
 "cells": [
  {
   "cell_type": "code",
   "execution_count": 1,
   "metadata": {},
   "outputs": [],
   "source": [
    "# Import the Earth Engine Python Package\n",
    "import ee\n",
    "\n",
    "# Import Dependencies\n",
    "import pandas as pd\n",
    "import matplotlib.dates as mdates\n",
    "from IPython.display import Image\n",
    "from datetime import datetime\n",
    "from matplotlib import dates\n",
    "from pylab import *\n",
    "\n",
    "ee.Initialize()"
   ]
  },
  {
   "cell_type": "code",
   "execution_count": 5,
   "metadata": {},
   "outputs": [],
   "source": [
    "# set variables\n",
    "SCALE = 10;\n",
    "polarization = 'VV'; # vertical/vertical or vertical/horizontal"
   ]
  },
  {
   "cell_type": "markdown",
   "metadata": {},
   "source": [
    "# Initialization using point and buffer"
   ]
  },
  {
   "cell_type": "code",
   "execution_count": 6,
   "metadata": {},
   "outputs": [],
   "source": [
    "# Create point in the area of interest\n",
    "point = {'type':'Point', 'coordinates':[106.81235347345819, -6.365391437101752]};"
   ]
  },
  {
   "cell_type": "code",
   "execution_count": 8,
   "metadata": {},
   "outputs": [],
   "source": [
    "# initiate google earth engine to aquire the image\n",
    "S1 = ee.ImageCollection('COPERNICUS/S1_GRD')\\\n",
    ".filterDate('2016-01-01', '2019-12-12')\\\n",
    ".filter(ee.Filter.listContains('transmitterReceiverPolarisation', polarization))\\\n",
    ".filter(ee.Filter.eq('instrumentMode', 'IW'))\\\n",
    ".filter(ee.Filter.eq('orbitProperties_pass', 'DESCENDING'))\\\n",
    ".select(polarization)\\\n",
    ".filterBounds(point);"
   ]
  },
  {
   "cell_type": "code",
   "execution_count": 9,
   "metadata": {},
   "outputs": [],
   "source": [
    "# Retrieve information over image collection if area to large add: {'maxPixels' : 1050000}\n",
    "info = S1.getRegion(point,10).getInfo()"
   ]
  },
  {
   "cell_type": "code",
   "execution_count": 10,
   "metadata": {},
   "outputs": [],
   "source": [
    "# Reshape image collection \n",
    "header = info[0]\n",
    "data = array(info[1:])\n",
    "\n",
    "# convert time stamp into understanable format\n",
    "iTime = header.index('time')\n",
    "time = [datetime.datetime.fromtimestamp(int(float(i))/1000) for i in (data[0:,iTime])]\n",
    "\n",
    "# List of used image bands\n",
    "band_list = ['VV']\n",
    "\n",
    "iBands = [header.index(b) for b in band_list]\n",
    "yData = data[0:,iBands].astype(np.float)"
   ]
  },
  {
   "cell_type": "code",
   "execution_count": 11,
   "metadata": {},
   "outputs": [],
   "source": [
    "# Reshape NDVI array into Pandas Dataframe\n",
    "df = pd.DataFrame(data=yData, index=list(range(len(yData))), columns=['Radar reflectance value'])\n",
    "df = df.interpolate()\n",
    "df['DateTime'] = pd.Series(time, index=df.index)"
   ]
  },
  {
   "cell_type": "code",
   "execution_count": 12,
   "metadata": {},
   "outputs": [],
   "source": [
    "df = df.sort_values('DateTime')"
   ]
  },
  {
   "cell_type": "code",
   "execution_count": 13,
   "metadata": {},
   "outputs": [
    {
     "data": {
      "text/html": [
       "<div>\n",
       "<style scoped>\n",
       "    .dataframe tbody tr th:only-of-type {\n",
       "        vertical-align: middle;\n",
       "    }\n",
       "\n",
       "    .dataframe tbody tr th {\n",
       "        vertical-align: top;\n",
       "    }\n",
       "\n",
       "    .dataframe thead th {\n",
       "        text-align: right;\n",
       "    }\n",
       "</style>\n",
       "<table border=\"1\" class=\"dataframe\">\n",
       "  <thead>\n",
       "    <tr style=\"text-align: right;\">\n",
       "      <th></th>\n",
       "      <th>Radar reflectance value</th>\n",
       "      <th>DateTime</th>\n",
       "    </tr>\n",
       "  </thead>\n",
       "  <tbody>\n",
       "    <tr>\n",
       "      <th>0</th>\n",
       "      <td>-4.934412</td>\n",
       "      <td>2016-02-25 05:33:19.610</td>\n",
       "    </tr>\n",
       "    <tr>\n",
       "      <th>1</th>\n",
       "      <td>-5.951010</td>\n",
       "      <td>2016-03-20 05:33:20.000</td>\n",
       "    </tr>\n",
       "    <tr>\n",
       "      <th>2</th>\n",
       "      <td>-10.239272</td>\n",
       "      <td>2016-04-13 05:33:20.940</td>\n",
       "    </tr>\n",
       "    <tr>\n",
       "      <th>3</th>\n",
       "      <td>-7.427982</td>\n",
       "      <td>2016-05-31 05:33:23.300</td>\n",
       "    </tr>\n",
       "    <tr>\n",
       "      <th>4</th>\n",
       "      <td>-8.440753</td>\n",
       "      <td>2016-07-18 05:33:25.990</td>\n",
       "    </tr>\n",
       "    <tr>\n",
       "      <th>5</th>\n",
       "      <td>-6.442109</td>\n",
       "      <td>2016-08-11 05:33:27.210</td>\n",
       "    </tr>\n",
       "    <tr>\n",
       "      <th>6</th>\n",
       "      <td>-7.944922</td>\n",
       "      <td>2016-09-04 05:33:28.370</td>\n",
       "    </tr>\n",
       "    <tr>\n",
       "      <th>7</th>\n",
       "      <td>-6.576819</td>\n",
       "      <td>2016-09-28 05:33:29.300</td>\n",
       "    </tr>\n",
       "    <tr>\n",
       "      <th>8</th>\n",
       "      <td>-6.888875</td>\n",
       "      <td>2016-10-22 05:33:29.000</td>\n",
       "    </tr>\n",
       "    <tr>\n",
       "      <th>9</th>\n",
       "      <td>-7.658440</td>\n",
       "      <td>2016-11-15 05:33:29.080</td>\n",
       "    </tr>\n",
       "  </tbody>\n",
       "</table>\n",
       "</div>"
      ],
      "text/plain": [
       "   Radar reflectance value                DateTime\n",
       "0                -4.934412 2016-02-25 05:33:19.610\n",
       "1                -5.951010 2016-03-20 05:33:20.000\n",
       "2               -10.239272 2016-04-13 05:33:20.940\n",
       "3                -7.427982 2016-05-31 05:33:23.300\n",
       "4                -8.440753 2016-07-18 05:33:25.990\n",
       "5                -6.442109 2016-08-11 05:33:27.210\n",
       "6                -7.944922 2016-09-04 05:33:28.370\n",
       "7                -6.576819 2016-09-28 05:33:29.300\n",
       "8                -6.888875 2016-10-22 05:33:29.000\n",
       "9                -7.658440 2016-11-15 05:33:29.080"
      ]
     },
     "execution_count": 13,
     "metadata": {},
     "output_type": "execute_result"
    }
   ],
   "source": [
    "df.head(10)"
   ]
  },
  {
   "cell_type": "code",
   "execution_count": 14,
   "metadata": {},
   "outputs": [
    {
     "name": "stderr",
     "output_type": "stream",
     "text": [
      "/home/chris/anaconda3/envs/GCW_1/lib/python3.7/site-packages/pandas/plotting/_matplotlib/converter.py:102: FutureWarning: Using an implicitly registered datetime converter for a matplotlib plotting method. The converter was registered by pandas on import. Future versions of pandas will require you to explicitly register matplotlib converters.\n",
      "\n",
      "To register the converters:\n",
      "\t>>> from pandas.plotting import register_matplotlib_converters\n",
      "\t>>> register_matplotlib_converters()\n",
      "  warnings.warn(msg, FutureWarning)\n"
     ]
    },
    {
     "data": {
      "image/png": "[encoded data removed]",
      "text/plain": [
       "<Figure size 720x576 with 1 Axes>"
      ]
     },
     "metadata": {
      "needs_background": "light"
     },
     "output_type": "display_data"
    }
   ],
   "source": [
    "# Plot Time-Series for the selected location\n",
    "plt.figure(figsize=(10,8))\n",
    "plt.scatter(df['DateTime'], df['Radar reflectance value'])\n",
    "\n",
    "plt.show()"
   ]
  },
  {
   "cell_type": "code",
   "execution_count": null,
   "metadata": {},
   "outputs": [],
   "source": []
  }
 ],
 "metadata": {
  "kernelspec": {
   "display_name": "Python 3",
   "language": "python",
   "name": "python3"
  },
  "language_info": {
   "codemirror_mode": {
    "name": "ipython",
    "version": 3
   },
   "file_extension": ".py",
   "mimetype": "text/x-python",
   "name": "python",
   "nbconvert_exporter": "python",
   "pygments_lexer": "ipython3",
   "version": "3.6.6"
  }
 },
 "nbformat": 4,
 "nbformat_minor": 2
}
